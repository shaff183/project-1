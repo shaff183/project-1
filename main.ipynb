{
 "cells": [
  {
   "cell_type": "code",
   "execution_count": null,
   "metadata": {},
   "outputs": [],
   "source": [
    "import pandas as pd\n",
    "import matplotlib.pyplot as plt\n",
    "import numpy as np"
   ]
  },
  {
   "cell_type": "code",
   "execution_count": null,
   "metadata": {},
   "outputs": [],
   "source": [
    "# Reading in all of our data for each year\n",
    "aqi_2015_df = pd.read_csv(\"Resources/aqi_2015.csv\")\n",
    "aqi_2016_df = pd.read_csv(\"Resources/aqi_2016.csv\")\n",
    "aqi_2017_df = pd.read_csv(\"Resources/aqi_2017.csv\")\n",
    "aqi_2018_df = pd.read_csv(\"Resources/aqi_2018.csv\")\n",
    "aqi_2019_df = pd.read_csv(\"Resources/aqi_2019.csv\")\n",
    "aqi_2020_df = pd.read_csv(\"Resources/aqi_2020.csv\")"
   ]
  },
  {
   "cell_type": "code",
   "execution_count": null,
   "metadata": {},
   "outputs": [],
   "source": [
    "aqi_2015_df.head()"
   ]
  },
  {
   "cell_type": "code",
   "execution_count": null,
   "metadata": {},
   "outputs": [],
   "source": [
    "# Eric's Code Starts Here "
   ]
  },
  {
   "cell_type": "code",
   "execution_count": null,
   "metadata": {},
   "outputs": [],
   "source": [
    "# Getting the median AQI, by state, for each year"
   ]
  },
  {
   "cell_type": "code",
   "execution_count": null,
   "metadata": {},
   "outputs": [],
   "source": [
    "median_aqi_2015 = aqi_2015_df.groupby(\"State\")[\"Median AQI\"].median()\n",
    "median_aqi_2015_df = pd.DataFrame(median_aqi_2015)"
   ]
  },
  {
   "cell_type": "code",
   "execution_count": null,
   "metadata": {},
   "outputs": [],
   "source": [
    "median_aqi_2016 = aqi_2016_df.groupby(\"State\")[\"Median AQI\"].median()\n",
    "median_aqi_2016_df = pd.DataFrame(median_aqi_2016)"
   ]
  },
  {
   "cell_type": "code",
   "execution_count": null,
   "metadata": {},
   "outputs": [],
   "source": [
    "median_aqi_2017 = aqi_2017_df.groupby(\"State\")[\"Median AQI\"].median()\n",
    "median_aqi_2017_df = pd.DataFrame(median_aqi_2017)"
   ]
  },
  {
   "cell_type": "code",
   "execution_count": null,
   "metadata": {},
   "outputs": [],
   "source": [
    "median_aqi_2018 = aqi_2018_df.groupby(\"State\")[\"Median AQI\"].median()\n",
    "median_aqi_2018_df = pd.DataFrame(median_aqi_2018)"
   ]
  },
  {
   "cell_type": "code",
   "execution_count": null,
   "metadata": {},
   "outputs": [],
   "source": [
    "median_aqi_2019 = aqi_2019_df.groupby(\"State\")[\"Median AQI\"].median()\n",
    "median_aqi_2019_df = pd.DataFrame(median_aqi_2019)"
   ]
  },
  {
   "cell_type": "code",
   "execution_count": null,
   "metadata": {},
   "outputs": [],
   "source": [
    "median_aqi_2020 = aqi_2020_df.groupby(\"State\")[\"Median AQI\"].median()\n",
    "median_aqi_2020_df = pd.DataFrame(median_aqi_2020)"
   ]
  },
  {
   "cell_type": "code",
   "execution_count": null,
   "metadata": {},
   "outputs": [],
   "source": [
    "# Merging each median AQI for each year into a single DataFrame\n",
    "median_aqi_by_year_df = pd.merge(median_aqi_2015_df, median_aqi_2016_df, how='left', on='State')\n",
    "median_aqi_by_year_df = median_aqi_by_year_df.rename(columns={\"Median AQI_x\": \"2015\", \"Median AQI_y\": \"2016\"})"
   ]
  },
  {
   "cell_type": "code",
   "execution_count": null,
   "metadata": {},
   "outputs": [],
   "source": [
    "median_aqi_by_year_df = pd.merge(median_aqi_by_year_df, median_aqi_2017_df, how='left', on='State')\n",
    "median_aqi_by_year_df = median_aqi_by_year_df.rename(columns={\"Median AQI\": \"2017\"})"
   ]
  },
  {
   "cell_type": "code",
   "execution_count": null,
   "metadata": {},
   "outputs": [],
   "source": [
    "median_aqi_by_year_df = pd.merge(median_aqi_by_year_df, median_aqi_2018_df, how='left', on='State')\n",
    "median_aqi_by_year_df = median_aqi_by_year_df.rename(columns={\"Median AQI\": \"2018\"})"
   ]
  },
  {
   "cell_type": "code",
   "execution_count": null,
   "metadata": {},
   "outputs": [],
   "source": [
    "median_aqi_by_year_df = pd.merge(median_aqi_by_year_df, median_aqi_2019_df, how='left', on='State')\n",
    "median_aqi_by_year_df = median_aqi_by_year_df.rename(columns={\"Median AQI\": \"2019\"})"
   ]
  },
  {
   "cell_type": "code",
   "execution_count": null,
   "metadata": {},
   "outputs": [],
   "source": [
    "median_aqi_by_year_df = pd.merge(median_aqi_by_year_df, median_aqi_2020_df, how='left', on='State')\n",
    "median_aqi_by_year_df = median_aqi_by_year_df.rename(columns={\"Median AQI\": \"2020\"})"
   ]
  },
  {
   "cell_type": "code",
   "execution_count": null,
   "metadata": {},
   "outputs": [],
   "source": [
    "# median AQI for each state by each year\n",
    "median_aqi_by_year_df.head()"
   ]
  },
  {
   "cell_type": "code",
   "execution_count": null,
   "metadata": {},
   "outputs": [],
   "source": [
    "# Getting the Mean AQI for the United States for each year \n",
    "mean_aqi_2015 = median_aqi_by_year_df[\"2015\"].mean()\n",
    "mean_aqi_2016 = median_aqi_by_year_df[\"2016\"].mean()\n",
    "mean_aqi_2017 = median_aqi_by_year_df[\"2017\"].mean()\n",
    "mean_aqi_2018 = median_aqi_by_year_df[\"2018\"].mean()\n",
    "mean_aqi_2019 = median_aqi_by_year_df[\"2019\"].mean()\n",
    "mean_aqi_2020 = median_aqi_by_year_df[\"2020\"].mean()"
   ]
  },
  {
   "cell_type": "code",
   "execution_count": null,
   "metadata": {},
   "outputs": [],
   "source": [
    "mean_aqi_df = pd.DataFrame({\"2015\": [mean_aqi_2015],\n",
    "                            \"2016\": mean_aqi_2016, \n",
    "                            \"2017\": mean_aqi_2017,\n",
    "                            \"2018\": mean_aqi_2018,\n",
    "                            \"2019\": mean_aqi_2019, \n",
    "                            \"2020\": mean_aqi_2020\n",
    "                           })\n",
    "mean_aqi_df"
   ]
  },
  {
   "cell_type": "code",
   "execution_count": null,
   "metadata": {},
   "outputs": [],
   "source": [
    "# Plotting the mean AQI per year as a line chart\n",
    "years = mean_aqi_df.keys()\n",
    "mean_aqi = mean_aqi_df.mean()\n",
    "\n",
    "plt.plot(years, mean_aqi, label='Mean AQI', marker='o')\n",
    "plt.ylim(0, 40)\n",
    "y_ticks = np.arange(0,40,5)\n",
    "plt.yticks(y_ticks)\n",
    "plt.grid(alpha=.25)\n",
    "plt.title(\"Mean AQI Per Year for United States\")\n",
    "plt.xlabel(\"Year\")\n",
    "plt.ylabel(\"Mean AQI\")\n",
    "plt.show()"
   ]
  },
  {
   "cell_type": "code",
   "execution_count": null,
   "metadata": {},
   "outputs": [],
   "source": [
    "# Getting the days with CO as main pollutant for each state\n",
    "days_ozone_2015 = aqi_2015_df.groupby('State')['Days Ozone'].sum()\n",
    "days_ozone_2016 = aqi_2016_df.groupby('State')['Days Ozone'].sum()\n",
    "days_ozone_2017 = aqi_2017_df.groupby('State')['Days Ozone'].sum()\n",
    "days_ozone_2018 = aqi_2018_df.groupby('State')['Days Ozone'].sum()\n",
    "days_ozone_2019 = aqi_2019_df.groupby('State')['Days Ozone'].sum()\n",
    "days_ozone_2020 = aqi_2020_df.groupby('State')['Days Ozone'].sum()"
   ]
  },
  {
   "cell_type": "code",
   "execution_count": null,
   "metadata": {},
   "outputs": [],
   "source": [
    "# Merge all 'Days ozone' data by year into a single DataFrame\n",
    "days_ozone_df = pd.merge(days_ozone_2015, days_ozone_2016, how='left', on='State')\n",
    "days_ozone_df = days_ozone_df.rename(columns={'Days Ozone_x': '2015', 'Days Ozone_y': '2016'})"
   ]
  },
  {
   "cell_type": "code",
   "execution_count": null,
   "metadata": {},
   "outputs": [],
   "source": [
    "days_ozone_df = pd.merge(days_ozone_df, days_ozone_2017, how='left', on='State')\n",
    "days_ozone_df = days_ozone_df.rename(columns={'Days Ozone': '2017'})"
   ]
  },
  {
   "cell_type": "code",
   "execution_count": null,
   "metadata": {},
   "outputs": [],
   "source": [
    "days_ozone_df = pd.merge(days_ozone_df, days_ozone_2018, how='left', on='State')\n",
    "days_ozone_df = days_ozone_df.rename(columns={'Days Ozone': '2018'})"
   ]
  },
  {
   "cell_type": "code",
   "execution_count": null,
   "metadata": {},
   "outputs": [],
   "source": [
    "days_ozone_df = pd.merge(days_ozone_df, days_ozone_2019, how='left', on='State')\n",
    "days_ozone_df = days_ozone_df.rename(columns={'Days Ozone': '2019'})"
   ]
  },
  {
   "cell_type": "code",
   "execution_count": null,
   "metadata": {},
   "outputs": [],
   "source": [
    "days_ozone_df = pd.merge(days_ozone_df, days_ozone_2020, how='left', on='State')\n",
    "days_ozone_df = days_ozone_df.rename(columns={'Days Ozone': '2020'})"
   ]
  },
  {
   "cell_type": "code",
   "execution_count": null,
   "metadata": {},
   "outputs": [],
   "source": [
    "days_ozone_df.head()"
   ]
  },
  {
   "cell_type": "code",
   "execution_count": null,
   "metadata": {},
   "outputs": [],
   "source": [
    "# Get the mean 'Days Ozone' pollution for each year within the United States\n",
    "ozone_2015 = days_ozone_df['2015'].mean()\n",
    "ozone_2015"
   ]
  },
  {
   "cell_type": "code",
   "execution_count": null,
   "metadata": {},
   "outputs": [],
   "source": [
    "ozone_2016 = days_ozone_df['2016'].mean()\n",
    "ozone_2016"
   ]
  },
  {
   "cell_type": "code",
   "execution_count": null,
   "metadata": {},
   "outputs": [],
   "source": [
    "ozone_2017 = days_ozone_df['2017'].mean()\n",
    "ozone_2017"
   ]
  },
  {
   "cell_type": "code",
   "execution_count": null,
   "metadata": {},
   "outputs": [],
   "source": [
    "ozone_2018 = days_ozone_df['2018'].mean()\n",
    "ozone_2018"
   ]
  },
  {
   "cell_type": "code",
   "execution_count": null,
   "metadata": {},
   "outputs": [],
   "source": [
    "ozone_2019 = days_ozone_df['2019'].mean()\n",
    "ozone_2019"
   ]
  },
  {
   "cell_type": "code",
   "execution_count": null,
   "metadata": {},
   "outputs": [],
   "source": [
    "ozone_2020 = days_ozone_df['2020'].mean()\n",
    "ozone_2020"
   ]
  },
  {
   "cell_type": "code",
   "execution_count": null,
   "metadata": {},
   "outputs": [],
   "source": [
    "# Create a dataframe of all the mean Ozone days\n",
    "mean_ozone_df = pd.DataFrame({\"2015\": [ozone_2015],\n",
    "                            \"2016\": ozone_2016, \n",
    "                            \"2017\": ozone_2017,\n",
    "                            \"2018\": ozone_2018,\n",
    "                            \"2019\": ozone_2019, \n",
    "                            \"2020\": ozone_2020\n",
    "                           })\n",
    "mean_ozone_df"
   ]
  },
  {
   "cell_type": "code",
   "execution_count": null,
   "metadata": {},
   "outputs": [],
   "source": [
    "# Plotting the mean AQI per year as a line chart\n",
    "mean_ozone = mean_ozone_df.mean()\n",
    "\n",
    "plt.plot(years, mean_ozone, label='Mean AQI', marker='o')\n",
    "plt.ylim(1000, mean_ozone.max()+250)\n",
    "y_ticks = np.arange(1000,mean_ozone.max(),500)\n",
    "plt.yticks(y_ticks)\n",
    "plt.grid(alpha=.25)\n",
    "plt.title(\"Mean Ozone Days Per Year for The United States\")\n",
    "plt.xlabel(\"Year\")\n",
    "plt.ylabel(\"Mean Ozone Days\")\n",
    "plt.show()"
   ]
  },
  {
   "cell_type": "code",
   "execution_count": null,
   "metadata": {},
   "outputs": [],
   "source": [
    "# Eric Code Ends"
   ]
  },
  {
   "cell_type": "code",
   "execution_count": null,
   "metadata": {},
   "outputs": [],
   "source": [
    "# Alex's Code Starts Here"
   ]
  },
  {
   "cell_type": "code",
   "execution_count": null,
   "metadata": {},
   "outputs": [],
   "source": []
  },
  {
   "cell_type": "code",
   "execution_count": null,
   "metadata": {},
   "outputs": [],
   "source": [
    "# Alex's Code Ends Here"
   ]
  },
  {
   "cell_type": "code",
   "execution_count": null,
   "metadata": {},
   "outputs": [],
   "source": [
    "# Rachel's Code Starts Here"
   ]
  },
  {
   "cell_type": "code",
   "execution_count": null,
   "metadata": {},
   "outputs": [],
   "source": []
  },
  {
   "cell_type": "code",
   "execution_count": null,
   "metadata": {},
   "outputs": [],
   "source": [
    "# Rachel's Code Ends Here"
   ]
  }
 ],
 "metadata": {
  "kernelspec": {
   "display_name": "Python 3",
   "language": "python",
   "name": "python3"
  },
  "language_info": {
   "codemirror_mode": {
    "name": "ipython",
    "version": 3
   },
   "file_extension": ".py",
   "mimetype": "text/x-python",
   "name": "python",
   "nbconvert_exporter": "python",
   "pygments_lexer": "ipython3",
   "version": "3.6.10"
  }
 },
 "nbformat": 4,
 "nbformat_minor": 4
}
