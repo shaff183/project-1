{
 "cells": [
  {
   "cell_type": "code",
   "execution_count": 1,
   "metadata": {},
   "outputs": [],
   "source": [
    "import warnings\n",
    "warnings.filterwarnings('ignore')"
   ]
  },
  {
   "cell_type": "code",
   "execution_count": 2,
   "metadata": {},
   "outputs": [],
   "source": [
    "%matplotlib inline\n",
    "import pandas as pd\n",
    "import matplotlib.pyplot as plt\n",
    "import numpy as np\n",
    "import scipy.stats as stats"
   ]
  },
  {
   "cell_type": "code",
   "execution_count": 3,
   "metadata": {},
   "outputs": [],
   "source": [
    "# Reading in all of our data for each year\n",
    "aqi_2015_df = pd.read_csv(\"Resources/aqi_2015.csv\")\n",
    "aqi_2016_df = pd.read_csv(\"Resources/aqi_2016.csv\")\n",
    "aqi_2017_df = pd.read_csv(\"Resources/aqi_2017.csv\")\n",
    "aqi_2018_df = pd.read_csv(\"Resources/aqi_2018.csv\")\n",
    "aqi_2019_df = pd.read_csv(\"Resources/aqi_2019.csv\")\n",
    "aqi_2020_df = pd.read_csv(\"Resources/aqi_2020.csv\")\n",
    "aqi_all_df = pd.read_csv(\"Resources/annual_aqi_all.csv\")"
   ]
  },
  {
   "cell_type": "code",
   "execution_count": 4,
   "metadata": {},
   "outputs": [
    {
     "data": {
      "text/html": [
       "<div>\n",
       "<style scoped>\n",
       "    .dataframe tbody tr th:only-of-type {\n",
       "        vertical-align: middle;\n",
       "    }\n",
       "\n",
       "    .dataframe tbody tr th {\n",
       "        vertical-align: top;\n",
       "    }\n",
       "\n",
       "    .dataframe thead th {\n",
       "        text-align: right;\n",
       "    }\n",
       "</style>\n",
       "<table border=\"1\" class=\"dataframe\">\n",
       "  <thead>\n",
       "    <tr style=\"text-align: right;\">\n",
       "      <th></th>\n",
       "      <th>State</th>\n",
       "      <th>County</th>\n",
       "      <th>Year</th>\n",
       "      <th>Days with AQI</th>\n",
       "      <th>Good Days</th>\n",
       "      <th>Moderate Days</th>\n",
       "      <th>Unhealthy for Sensitive Groups Days</th>\n",
       "      <th>Unhealthy Days</th>\n",
       "      <th>Very Unhealthy Days</th>\n",
       "      <th>Hazardous Days</th>\n",
       "      <th>Max AQI</th>\n",
       "      <th>90th Percentile AQI</th>\n",
       "      <th>Median AQI</th>\n",
       "      <th>Days CO</th>\n",
       "      <th>Days NO2</th>\n",
       "      <th>Days Ozone</th>\n",
       "      <th>Days SO2</th>\n",
       "      <th>Days PM2.5</th>\n",
       "      <th>Days PM10</th>\n",
       "    </tr>\n",
       "  </thead>\n",
       "  <tbody>\n",
       "    <tr>\n",
       "      <th>0</th>\n",
       "      <td>Alabama</td>\n",
       "      <td>Baldwin</td>\n",
       "      <td>2015</td>\n",
       "      <td>264</td>\n",
       "      <td>230</td>\n",
       "      <td>33</td>\n",
       "      <td>1</td>\n",
       "      <td>0</td>\n",
       "      <td>0</td>\n",
       "      <td>0</td>\n",
       "      <td>129</td>\n",
       "      <td>53</td>\n",
       "      <td>38</td>\n",
       "      <td>0</td>\n",
       "      <td>0</td>\n",
       "      <td>189</td>\n",
       "      <td>0</td>\n",
       "      <td>75</td>\n",
       "      <td>0</td>\n",
       "    </tr>\n",
       "    <tr>\n",
       "      <th>1</th>\n",
       "      <td>Alabama</td>\n",
       "      <td>Clay</td>\n",
       "      <td>2015</td>\n",
       "      <td>112</td>\n",
       "      <td>101</td>\n",
       "      <td>11</td>\n",
       "      <td>0</td>\n",
       "      <td>0</td>\n",
       "      <td>0</td>\n",
       "      <td>0</td>\n",
       "      <td>91</td>\n",
       "      <td>50</td>\n",
       "      <td>32</td>\n",
       "      <td>0</td>\n",
       "      <td>0</td>\n",
       "      <td>0</td>\n",
       "      <td>0</td>\n",
       "      <td>112</td>\n",
       "      <td>0</td>\n",
       "    </tr>\n",
       "    <tr>\n",
       "      <th>2</th>\n",
       "      <td>Alabama</td>\n",
       "      <td>Colbert</td>\n",
       "      <td>2015</td>\n",
       "      <td>280</td>\n",
       "      <td>251</td>\n",
       "      <td>29</td>\n",
       "      <td>0</td>\n",
       "      <td>0</td>\n",
       "      <td>0</td>\n",
       "      <td>0</td>\n",
       "      <td>73</td>\n",
       "      <td>51</td>\n",
       "      <td>36</td>\n",
       "      <td>0</td>\n",
       "      <td>0</td>\n",
       "      <td>195</td>\n",
       "      <td>0</td>\n",
       "      <td>85</td>\n",
       "      <td>0</td>\n",
       "    </tr>\n",
       "    <tr>\n",
       "      <th>3</th>\n",
       "      <td>Alabama</td>\n",
       "      <td>DeKalb</td>\n",
       "      <td>2015</td>\n",
       "      <td>363</td>\n",
       "      <td>319</td>\n",
       "      <td>43</td>\n",
       "      <td>1</td>\n",
       "      <td>0</td>\n",
       "      <td>0</td>\n",
       "      <td>0</td>\n",
       "      <td>101</td>\n",
       "      <td>52</td>\n",
       "      <td>37</td>\n",
       "      <td>0</td>\n",
       "      <td>0</td>\n",
       "      <td>307</td>\n",
       "      <td>0</td>\n",
       "      <td>56</td>\n",
       "      <td>0</td>\n",
       "    </tr>\n",
       "    <tr>\n",
       "      <th>4</th>\n",
       "      <td>Alabama</td>\n",
       "      <td>Elmore</td>\n",
       "      <td>2015</td>\n",
       "      <td>233</td>\n",
       "      <td>223</td>\n",
       "      <td>9</td>\n",
       "      <td>1</td>\n",
       "      <td>0</td>\n",
       "      <td>0</td>\n",
       "      <td>0</td>\n",
       "      <td>115</td>\n",
       "      <td>47</td>\n",
       "      <td>35</td>\n",
       "      <td>0</td>\n",
       "      <td>0</td>\n",
       "      <td>233</td>\n",
       "      <td>0</td>\n",
       "      <td>0</td>\n",
       "      <td>0</td>\n",
       "    </tr>\n",
       "  </tbody>\n",
       "</table>\n",
       "</div>"
      ],
      "text/plain": [
       "     State   County  Year  Days with AQI  Good Days  Moderate Days  \\\n",
       "0  Alabama  Baldwin  2015            264        230             33   \n",
       "1  Alabama     Clay  2015            112        101             11   \n",
       "2  Alabama  Colbert  2015            280        251             29   \n",
       "3  Alabama   DeKalb  2015            363        319             43   \n",
       "4  Alabama   Elmore  2015            233        223              9   \n",
       "\n",
       "   Unhealthy for Sensitive Groups Days  Unhealthy Days  Very Unhealthy Days  \\\n",
       "0                                    1               0                    0   \n",
       "1                                    0               0                    0   \n",
       "2                                    0               0                    0   \n",
       "3                                    1               0                    0   \n",
       "4                                    1               0                    0   \n",
       "\n",
       "   Hazardous Days  Max AQI  90th Percentile AQI  Median AQI  Days CO  \\\n",
       "0               0      129                   53          38        0   \n",
       "1               0       91                   50          32        0   \n",
       "2               0       73                   51          36        0   \n",
       "3               0      101                   52          37        0   \n",
       "4               0      115                   47          35        0   \n",
       "\n",
       "   Days NO2  Days Ozone  Days SO2  Days PM2.5  Days PM10  \n",
       "0         0         189         0          75          0  \n",
       "1         0           0         0         112          0  \n",
       "2         0         195         0          85          0  \n",
       "3         0         307         0          56          0  \n",
       "4         0         233         0           0          0  "
      ]
     },
     "execution_count": 4,
     "metadata": {},
     "output_type": "execute_result"
    }
   ],
   "source": [
    "aqi_2015_df.head()"
   ]
  },
  {
   "cell_type": "code",
   "execution_count": 5,
   "metadata": {},
   "outputs": [],
   "source": [
    "# Eric's Code Starts Here "
   ]
  },
  {
   "cell_type": "code",
   "execution_count": 6,
   "metadata": {},
   "outputs": [],
   "source": [
    "# Cleaning the data"
   ]
  },
  {
   "cell_type": "code",
   "execution_count": 7,
   "metadata": {},
   "outputs": [],
   "source": [
    "# Drop any Max AQI's that are greater than 500 for each year\n",
    "indexes = aqi_2015_df[aqi_2015_df[\"Max AQI\"] > 500].index\n",
    "aqi_2015_df = aqi_2015_df.drop(indexes)"
   ]
  },
  {
   "cell_type": "code",
   "execution_count": 8,
   "metadata": {},
   "outputs": [],
   "source": [
    "indexes = aqi_2016_df[aqi_2016_df[\"Max AQI\"] > 500].index\n",
    "aqi_2016_df = aqi_2016_df.drop(indexes)"
   ]
  },
  {
   "cell_type": "code",
   "execution_count": 9,
   "metadata": {},
   "outputs": [],
   "source": [
    "indexes = aqi_2017_df[aqi_2017_df[\"Max AQI\"] > 500].index\n",
    "aqi_2017_df = aqi_2017_df.drop(indexes)"
   ]
  },
  {
   "cell_type": "code",
   "execution_count": 10,
   "metadata": {},
   "outputs": [],
   "source": [
    "indexes = aqi_2018_df[aqi_2018_df[\"Max AQI\"] > 500].index\n",
    "aqi_2018_df = aqi_2018_df.drop(indexes)"
   ]
  },
  {
   "cell_type": "code",
   "execution_count": 11,
   "metadata": {},
   "outputs": [],
   "source": [
    "indexes = aqi_2019_df[aqi_2019_df[\"Max AQI\"] > 500].index\n",
    "aqi_2019_df = aqi_2019_df.drop(indexes)"
   ]
  },
  {
   "cell_type": "code",
   "execution_count": 12,
   "metadata": {},
   "outputs": [],
   "source": [
    "indexes = aqi_2020_df[aqi_2020_df[\"Max AQI\"] > 500].index\n",
    "aqi_2020_df = aqi_2020_df.drop(indexes)"
   ]
  },
  {
   "cell_type": "code",
   "execution_count": 13,
   "metadata": {},
   "outputs": [],
   "source": [
    "# Getting the mean AQI, by state, for each year"
   ]
  },
  {
   "cell_type": "code",
   "execution_count": 14,
   "metadata": {},
   "outputs": [],
   "source": [
    "mean_aqi_2015 = aqi_2015_df.groupby(\"State\")[\"Median AQI\"].mean()\n",
    "mean_aqi_2015_df = pd.DataFrame(mean_aqi_2015)"
   ]
  },
  {
   "cell_type": "code",
   "execution_count": 15,
   "metadata": {},
   "outputs": [],
   "source": [
    "mean_aqi_2016 = aqi_2016_df.groupby(\"State\")[\"Median AQI\"].mean()\n",
    "mean_aqi_2016_df = pd.DataFrame(mean_aqi_2016)"
   ]
  },
  {
   "cell_type": "code",
   "execution_count": 16,
   "metadata": {},
   "outputs": [],
   "source": [
    "mean_aqi_2017 = aqi_2017_df.groupby(\"State\")[\"Median AQI\"].mean()\n",
    "mean_aqi_2017_df = pd.DataFrame(mean_aqi_2017)"
   ]
  },
  {
   "cell_type": "code",
   "execution_count": 17,
   "metadata": {},
   "outputs": [],
   "source": [
    "mean_aqi_2018 = aqi_2018_df.groupby(\"State\")[\"Median AQI\"].mean()\n",
    "mean_aqi_2018_df = pd.DataFrame(mean_aqi_2018)"
   ]
  },
  {
   "cell_type": "code",
   "execution_count": 18,
   "metadata": {},
   "outputs": [],
   "source": [
    "mean_aqi_2019 = aqi_2019_df.groupby(\"State\")[\"Median AQI\"].mean()\n",
    "mean_aqi_2019_df = pd.DataFrame(mean_aqi_2019)"
   ]
  },
  {
   "cell_type": "code",
   "execution_count": 19,
   "metadata": {},
   "outputs": [],
   "source": [
    "mean_aqi_2020 = aqi_2020_df.groupby(\"State\")[\"Median AQI\"].mean()\n",
    "mean_aqi_2020_df = pd.DataFrame(mean_aqi_2020)"
   ]
  },
  {
   "cell_type": "code",
   "execution_count": 20,
   "metadata": {},
   "outputs": [],
   "source": [
    "# Merging each mean AQI for each year into a single DataFrame\n",
    "mean_aqi_by_year_df = pd.merge(mean_aqi_2015_df, mean_aqi_2016_df, how='left', on='State')\n",
    "mean_aqi_by_year_df = mean_aqi_by_year_df.rename(columns={\"Median AQI_x\": \"2015\", \"Median AQI_y\": \"2016\"})"
   ]
  },
  {
   "cell_type": "code",
   "execution_count": 21,
   "metadata": {},
   "outputs": [],
   "source": [
    "mean_aqi_by_year_df = pd.merge(mean_aqi_by_year_df, mean_aqi_2017_df, how='left', on='State')\n",
    "mean_aqi_by_year_df = mean_aqi_by_year_df.rename(columns={\"Median AQI\": \"2017\"})"
   ]
  },
  {
   "cell_type": "code",
   "execution_count": 22,
   "metadata": {},
   "outputs": [],
   "source": [
    "mean_aqi_by_year_df = pd.merge(mean_aqi_by_year_df, mean_aqi_2018_df, how='left', on='State')\n",
    "mean_aqi_by_year_df = mean_aqi_by_year_df.rename(columns={\"Median AQI\": \"2018\"})"
   ]
  },
  {
   "cell_type": "code",
   "execution_count": 23,
   "metadata": {},
   "outputs": [],
   "source": [
    "mean_aqi_by_year_df = pd.merge(mean_aqi_by_year_df, mean_aqi_2019_df, how='left', on='State')\n",
    "mean_aqi_by_year_df = mean_aqi_by_year_df.rename(columns={\"Median AQI\": \"2019\"})"
   ]
  },
  {
   "cell_type": "code",
   "execution_count": 24,
   "metadata": {},
   "outputs": [],
   "source": [
    "mean_aqi_by_year_df = pd.merge(mean_aqi_by_year_df, mean_aqi_2020_df, how='left', on='State')\n",
    "mean_aqi_by_year_df = mean_aqi_by_year_df.rename(columns={\"Median AQI\": \"2020\"})"
   ]
  },
  {
   "cell_type": "code",
   "execution_count": 25,
   "metadata": {},
   "outputs": [
    {
     "data": {
      "text/html": [
       "<div>\n",
       "<style scoped>\n",
       "    .dataframe tbody tr th:only-of-type {\n",
       "        vertical-align: middle;\n",
       "    }\n",
       "\n",
       "    .dataframe tbody tr th {\n",
       "        vertical-align: top;\n",
       "    }\n",
       "\n",
       "    .dataframe thead th {\n",
       "        text-align: right;\n",
       "    }\n",
       "</style>\n",
       "<table border=\"1\" class=\"dataframe\">\n",
       "  <thead>\n",
       "    <tr style=\"text-align: right;\">\n",
       "      <th></th>\n",
       "      <th>2015</th>\n",
       "      <th>2016</th>\n",
       "      <th>2017</th>\n",
       "      <th>2018</th>\n",
       "      <th>2019</th>\n",
       "      <th>2020</th>\n",
       "    </tr>\n",
       "    <tr>\n",
       "      <th>State</th>\n",
       "      <th></th>\n",
       "      <th></th>\n",
       "      <th></th>\n",
       "      <th></th>\n",
       "      <th></th>\n",
       "      <th></th>\n",
       "    </tr>\n",
       "  </thead>\n",
       "  <tbody>\n",
       "    <tr>\n",
       "      <th>Alabama</th>\n",
       "      <td>39.333333</td>\n",
       "      <td>39.388889</td>\n",
       "      <td>38.277778</td>\n",
       "      <td>36.411765</td>\n",
       "      <td>38.647059</td>\n",
       "      <td>34.333333</td>\n",
       "    </tr>\n",
       "    <tr>\n",
       "      <th>Alaska</th>\n",
       "      <td>23.125000</td>\n",
       "      <td>24.142857</td>\n",
       "      <td>22.000000</td>\n",
       "      <td>22.000000</td>\n",
       "      <td>19.222222</td>\n",
       "      <td>16.333333</td>\n",
       "    </tr>\n",
       "    <tr>\n",
       "      <th>Arizona</th>\n",
       "      <td>42.000000</td>\n",
       "      <td>43.750000</td>\n",
       "      <td>47.230769</td>\n",
       "      <td>43.083333</td>\n",
       "      <td>41.083333</td>\n",
       "      <td>42.769231</td>\n",
       "    </tr>\n",
       "    <tr>\n",
       "      <th>Arkansas</th>\n",
       "      <td>32.454545</td>\n",
       "      <td>33.545455</td>\n",
       "      <td>37.090909</td>\n",
       "      <td>35.416667</td>\n",
       "      <td>36.153846</td>\n",
       "      <td>33.454545</td>\n",
       "    </tr>\n",
       "    <tr>\n",
       "      <th>California</th>\n",
       "      <td>50.307692</td>\n",
       "      <td>46.750000</td>\n",
       "      <td>49.680000</td>\n",
       "      <td>49.470588</td>\n",
       "      <td>43.448980</td>\n",
       "      <td>42.060000</td>\n",
       "    </tr>\n",
       "  </tbody>\n",
       "</table>\n",
       "</div>"
      ],
      "text/plain": [
       "                 2015       2016       2017       2018       2019       2020\n",
       "State                                                                       \n",
       "Alabama     39.333333  39.388889  38.277778  36.411765  38.647059  34.333333\n",
       "Alaska      23.125000  24.142857  22.000000  22.000000  19.222222  16.333333\n",
       "Arizona     42.000000  43.750000  47.230769  43.083333  41.083333  42.769231\n",
       "Arkansas    32.454545  33.545455  37.090909  35.416667  36.153846  33.454545\n",
       "California  50.307692  46.750000  49.680000  49.470588  43.448980  42.060000"
      ]
     },
     "execution_count": 25,
     "metadata": {},
     "output_type": "execute_result"
    }
   ],
   "source": [
    "# mean AQI for each state by each year\n",
    "mean_aqi_by_year_df.head()"
   ]
  },
  {
   "cell_type": "code",
   "execution_count": 26,
   "metadata": {},
   "outputs": [],
   "source": [
    "# Getting the Mean AQI for the United States for each year \n",
    "mean_aqi_2015 = mean_aqi_by_year_df[\"2015\"].mean()\n",
    "mean_aqi_2016 = mean_aqi_by_year_df[\"2016\"].mean()\n",
    "mean_aqi_2017 = mean_aqi_by_year_df[\"2017\"].mean()\n",
    "mean_aqi_2018 = mean_aqi_by_year_df[\"2018\"].mean()\n",
    "mean_aqi_2019 = mean_aqi_by_year_df[\"2019\"].mean()\n",
    "mean_aqi_2020 = mean_aqi_by_year_df[\"2020\"].mean()"
   ]
  },
  {
   "cell_type": "code",
   "execution_count": 27,
   "metadata": {},
   "outputs": [
    {
     "data": {
      "text/html": [
       "<div>\n",
       "<style scoped>\n",
       "    .dataframe tbody tr th:only-of-type {\n",
       "        vertical-align: middle;\n",
       "    }\n",
       "\n",
       "    .dataframe tbody tr th {\n",
       "        vertical-align: top;\n",
       "    }\n",
       "\n",
       "    .dataframe thead th {\n",
       "        text-align: right;\n",
       "    }\n",
       "</style>\n",
       "<table border=\"1\" class=\"dataframe\">\n",
       "  <thead>\n",
       "    <tr style=\"text-align: right;\">\n",
       "      <th></th>\n",
       "      <th>2015</th>\n",
       "      <th>2016</th>\n",
       "      <th>2017</th>\n",
       "      <th>2018</th>\n",
       "      <th>2019</th>\n",
       "      <th>2020</th>\n",
       "    </tr>\n",
       "  </thead>\n",
       "  <tbody>\n",
       "    <tr>\n",
       "      <th>0</th>\n",
       "      <td>36.366804</td>\n",
       "      <td>35.189719</td>\n",
       "      <td>35.519398</td>\n",
       "      <td>34.904436</td>\n",
       "      <td>34.121142</td>\n",
       "      <td>32.633757</td>\n",
       "    </tr>\n",
       "  </tbody>\n",
       "</table>\n",
       "</div>"
      ],
      "text/plain": [
       "        2015       2016       2017       2018       2019       2020\n",
       "0  36.366804  35.189719  35.519398  34.904436  34.121142  32.633757"
      ]
     },
     "execution_count": 27,
     "metadata": {},
     "output_type": "execute_result"
    }
   ],
   "source": [
    "mean_aqi_df = pd.DataFrame({\"2015\": [mean_aqi_2015],\n",
    "                            \"2016\": mean_aqi_2016, \n",
    "                            \"2017\": mean_aqi_2017,\n",
    "                            \"2018\": mean_aqi_2018,\n",
    "                            \"2019\": mean_aqi_2019, \n",
    "                            \"2020\": mean_aqi_2020\n",
    "                           })\n",
    "mean_aqi_df"
   ]
  },
  {
   "cell_type": "code",
   "execution_count": 28,
   "metadata": {},
   "outputs": [
    {
     "data": {
      "image/png": "[encoded data removed]",
      "text/plain": [
       "<Figure size 432x288 with 1 Axes>"
      ]
     },
     "metadata": {
      "needs_background": "light"
     },
     "output_type": "display_data"
    }
   ],
   "source": [
    "# Plotting the mean AQI per year as a line chart\n",
    "years = mean_aqi_df.keys()\n",
    "mean_aqi = mean_aqi_df.mean()\n",
    "\n",
    "plt.plot(years, mean_aqi, label='Mean AQI', marker='o')\n",
    "plt.ylim(0, 40)\n",
    "y_ticks = np.arange(0,40,5)\n",
    "plt.yticks(y_ticks)\n",
    "plt.grid(alpha=.25)\n",
    "plt.title(\"Mean AQI Per Year for United States\")\n",
    "plt.xlabel(\"Year\")\n",
    "plt.ylabel(\"Mean AQI\")\n",
    "plt.savefig(\"Images/Mean_AQI_Per_Year.png\")\n",
    "plt.show()"
   ]
  },
  {
   "cell_type": "code",
   "execution_count": 29,
   "metadata": {},
   "outputs": [],
   "source": [
    "# Testing our hypothesis"
   ]
  },
  {
   "cell_type": "code",
   "execution_count": 30,
   "metadata": {},
   "outputs": [],
   "source": [
    "# Mean AQI for each of the years we want to test\n",
    "group1 = mean_aqi_by_year_df[\"2015\"]\n",
    "group2 = mean_aqi_by_year_df[\"2016\"]\n",
    "group3 = mean_aqi_by_year_df[\"2017\"]\n",
    "group4 = mean_aqi_by_year_df[\"2018\"]\n",
    "group5 = mean_aqi_by_year_df[\"2019\"]\n",
    "group6 = mean_aqi_by_year_df[\"2020\"]"
   ]
  },
  {
   "cell_type": "code",
   "execution_count": 31,
   "metadata": {},
   "outputs": [
    {
     "data": {
      "text/plain": [
       "F_onewayResult(statistic=1.8365301412865318, pvalue=0.10533091292894199)"
      ]
     },
     "execution_count": 31,
     "metadata": {},
     "output_type": "execute_result"
    }
   ],
   "source": [
    "# Performing the ANOVA across our groups\n",
    "stats.f_oneway(group1,group2,group3,group4,group5,group6)\n"
   ]
  },
  {
   "cell_type": "code",
   "execution_count": 32,
   "metadata": {},
   "outputs": [
    {
     "data": {
      "text/plain": [
       "F_onewayResult(statistic=0.733509622878608, pvalue=0.5697943051513251)"
      ]
     },
     "execution_count": 32,
     "metadata": {},
     "output_type": "execute_result"
    }
   ],
   "source": [
    "# Performing the ANOVA across our groups\n",
    "stats.f_oneway(group1,group2,group3,group4,group5)"
   ]
  },
  {
   "cell_type": "code",
   "execution_count": 33,
   "metadata": {},
   "outputs": [],
   "source": [
    "#More hypothesis testing at bottom of notebook"
   ]
  },
  {
   "cell_type": "code",
   "execution_count": 34,
   "metadata": {},
   "outputs": [],
   "source": [
    "# Getting the days with Ozone as main pollutant for each state\n",
    "days_ozone_2015 = aqi_2015_df.groupby('State')['Days Ozone'].mean()\n",
    "days_ozone_2016 = aqi_2016_df.groupby('State')['Days Ozone'].mean()\n",
    "days_ozone_2017 = aqi_2017_df.groupby('State')['Days Ozone'].mean()\n",
    "days_ozone_2018 = aqi_2018_df.groupby('State')['Days Ozone'].mean()\n",
    "days_ozone_2019 = aqi_2019_df.groupby('State')['Days Ozone'].mean()\n",
    "days_ozone_2020 = aqi_2020_df.groupby('State')['Days Ozone'].mean()"
   ]
  },
  {
   "cell_type": "code",
   "execution_count": 35,
   "metadata": {},
   "outputs": [],
   "source": [
    "# Merge all 'Days ozone' data by year into a single DataFrame\n",
    "days_ozone_df = pd.merge(days_ozone_2015, days_ozone_2016, how='left', on='State')\n",
    "days_ozone_df = days_ozone_df.rename(columns={'Days Ozone_x': '2015', 'Days Ozone_y': '2016'})"
   ]
  },
  {
   "cell_type": "code",
   "execution_count": 36,
   "metadata": {},
   "outputs": [],
   "source": [
    "days_ozone_df = pd.merge(days_ozone_df, days_ozone_2017, how='left', on='State')\n",
    "days_ozone_df = days_ozone_df.rename(columns={'Days Ozone': '2017'})"
   ]
  },
  {
   "cell_type": "code",
   "execution_count": 37,
   "metadata": {},
   "outputs": [],
   "source": [
    "days_ozone_df = pd.merge(days_ozone_df, days_ozone_2018, how='left', on='State')\n",
    "days_ozone_df = days_ozone_df.rename(columns={'Days Ozone': '2018'})"
   ]
  },
  {
   "cell_type": "code",
   "execution_count": 38,
   "metadata": {},
   "outputs": [],
   "source": [
    "days_ozone_df = pd.merge(days_ozone_df, days_ozone_2019, how='left', on='State')\n",
    "days_ozone_df = days_ozone_df.rename(columns={'Days Ozone': '2019'})"
   ]
  },
  {
   "cell_type": "code",
   "execution_count": 39,
   "metadata": {},
   "outputs": [],
   "source": [
    "days_ozone_df = pd.merge(days_ozone_df, days_ozone_2020, how='left', on='State')\n",
    "days_ozone_df = days_ozone_df.rename(columns={'Days Ozone': '2020'})"
   ]
  },
  {
   "cell_type": "code",
   "execution_count": 40,
   "metadata": {},
   "outputs": [
    {
     "data": {
      "text/html": [
       "<div>\n",
       "<style scoped>\n",
       "    .dataframe tbody tr th:only-of-type {\n",
       "        vertical-align: middle;\n",
       "    }\n",
       "\n",
       "    .dataframe tbody tr th {\n",
       "        vertical-align: top;\n",
       "    }\n",
       "\n",
       "    .dataframe thead th {\n",
       "        text-align: right;\n",
       "    }\n",
       "</style>\n",
       "<table border=\"1\" class=\"dataframe\">\n",
       "  <thead>\n",
       "    <tr style=\"text-align: right;\">\n",
       "      <th></th>\n",
       "      <th>2015</th>\n",
       "      <th>2016</th>\n",
       "      <th>2017</th>\n",
       "      <th>2018</th>\n",
       "      <th>2019</th>\n",
       "      <th>2020</th>\n",
       "    </tr>\n",
       "    <tr>\n",
       "      <th>State</th>\n",
       "      <th></th>\n",
       "      <th></th>\n",
       "      <th></th>\n",
       "      <th></th>\n",
       "      <th></th>\n",
       "      <th></th>\n",
       "    </tr>\n",
       "  </thead>\n",
       "  <tbody>\n",
       "    <tr>\n",
       "      <th>Alabama</th>\n",
       "      <td>137.555556</td>\n",
       "      <td>156.111111</td>\n",
       "      <td>153.444444</td>\n",
       "      <td>159.705882</td>\n",
       "      <td>163.470588</td>\n",
       "      <td>102.733333</td>\n",
       "    </tr>\n",
       "    <tr>\n",
       "      <th>Alaska</th>\n",
       "      <td>78.875000</td>\n",
       "      <td>105.714286</td>\n",
       "      <td>98.428571</td>\n",
       "      <td>87.125000</td>\n",
       "      <td>53.333333</td>\n",
       "      <td>35.111111</td>\n",
       "    </tr>\n",
       "    <tr>\n",
       "      <th>Arizona</th>\n",
       "      <td>198.416667</td>\n",
       "      <td>199.916667</td>\n",
       "      <td>192.769231</td>\n",
       "      <td>214.416667</td>\n",
       "      <td>229.833333</td>\n",
       "      <td>176.692308</td>\n",
       "    </tr>\n",
       "    <tr>\n",
       "      <th>Arkansas</th>\n",
       "      <td>157.727273</td>\n",
       "      <td>165.545455</td>\n",
       "      <td>140.272727</td>\n",
       "      <td>131.083333</td>\n",
       "      <td>121.923077</td>\n",
       "      <td>112.818182</td>\n",
       "    </tr>\n",
       "    <tr>\n",
       "      <th>California</th>\n",
       "      <td>217.461538</td>\n",
       "      <td>227.019231</td>\n",
       "      <td>215.860000</td>\n",
       "      <td>205.000000</td>\n",
       "      <td>248.530612</td>\n",
       "      <td>152.920000</td>\n",
       "    </tr>\n",
       "  </tbody>\n",
       "</table>\n",
       "</div>"
      ],
      "text/plain": [
       "                  2015        2016        2017        2018        2019  \\\n",
       "State                                                                    \n",
       "Alabama     137.555556  156.111111  153.444444  159.705882  163.470588   \n",
       "Alaska       78.875000  105.714286   98.428571   87.125000   53.333333   \n",
       "Arizona     198.416667  199.916667  192.769231  214.416667  229.833333   \n",
       "Arkansas    157.727273  165.545455  140.272727  131.083333  121.923077   \n",
       "California  217.461538  227.019231  215.860000  205.000000  248.530612   \n",
       "\n",
       "                  2020  \n",
       "State                   \n",
       "Alabama     102.733333  \n",
       "Alaska       35.111111  \n",
       "Arizona     176.692308  \n",
       "Arkansas    112.818182  \n",
       "California  152.920000  "
      ]
     },
     "execution_count": 40,
     "metadata": {},
     "output_type": "execute_result"
    }
   ],
   "source": [
    "days_ozone_df.head()"
   ]
  },
  {
   "cell_type": "code",
   "execution_count": 41,
   "metadata": {},
   "outputs": [
    {
     "data": {
      "text/plain": [
       "160.6575603827801"
      ]
     },
     "execution_count": 41,
     "metadata": {},
     "output_type": "execute_result"
    }
   ],
   "source": [
    "# Get the mean 'Days Ozone' pollution for each year within the United States\n",
    "ozone_2015 = days_ozone_df['2015'].mean()\n",
    "ozone_2015"
   ]
  },
  {
   "cell_type": "code",
   "execution_count": 42,
   "metadata": {},
   "outputs": [
    {
     "data": {
      "text/plain": [
       "172.7316386653196"
      ]
     },
     "execution_count": 42,
     "metadata": {},
     "output_type": "execute_result"
    }
   ],
   "source": [
    "ozone_2016 = days_ozone_df['2016'].mean()\n",
    "ozone_2016"
   ]
  },
  {
   "cell_type": "code",
   "execution_count": 43,
   "metadata": {},
   "outputs": [
    {
     "data": {
      "text/plain": [
       "171.7369542417005"
      ]
     },
     "execution_count": 43,
     "metadata": {},
     "output_type": "execute_result"
    }
   ],
   "source": [
    "ozone_2017 = days_ozone_df['2017'].mean()\n",
    "ozone_2017"
   ]
  },
  {
   "cell_type": "code",
   "execution_count": 44,
   "metadata": {},
   "outputs": [
    {
     "data": {
      "text/plain": [
       "173.61385275198643"
      ]
     },
     "execution_count": 44,
     "metadata": {},
     "output_type": "execute_result"
    }
   ],
   "source": [
    "ozone_2018 = days_ozone_df['2018'].mean()\n",
    "ozone_2018"
   ]
  },
  {
   "cell_type": "code",
   "execution_count": 45,
   "metadata": {},
   "outputs": [
    {
     "data": {
      "text/plain": [
       "179.06615261873728"
      ]
     },
     "execution_count": 45,
     "metadata": {},
     "output_type": "execute_result"
    }
   ],
   "source": [
    "ozone_2019 = days_ozone_df['2019'].mean()\n",
    "ozone_2019"
   ]
  },
  {
   "cell_type": "code",
   "execution_count": 46,
   "metadata": {},
   "outputs": [
    {
     "data": {
      "text/plain": [
       "121.4795238843221"
      ]
     },
     "execution_count": 46,
     "metadata": {},
     "output_type": "execute_result"
    }
   ],
   "source": [
    "ozone_2020 = days_ozone_df['2020'].mean()\n",
    "ozone_2020"
   ]
  },
  {
   "cell_type": "code",
   "execution_count": 47,
   "metadata": {},
   "outputs": [
    {
     "data": {
      "text/html": [
       "<div>\n",
       "<style scoped>\n",
       "    .dataframe tbody tr th:only-of-type {\n",
       "        vertical-align: middle;\n",
       "    }\n",
       "\n",
       "    .dataframe tbody tr th {\n",
       "        vertical-align: top;\n",
       "    }\n",
       "\n",
       "    .dataframe thead th {\n",
       "        text-align: right;\n",
       "    }\n",
       "</style>\n",
       "<table border=\"1\" class=\"dataframe\">\n",
       "  <thead>\n",
       "    <tr style=\"text-align: right;\">\n",
       "      <th></th>\n",
       "      <th>2015</th>\n",
       "      <th>2016</th>\n",
       "      <th>2017</th>\n",
       "      <th>2018</th>\n",
       "      <th>2019</th>\n",
       "      <th>2020</th>\n",
       "    </tr>\n",
       "  </thead>\n",
       "  <tbody>\n",
       "    <tr>\n",
       "      <th>0</th>\n",
       "      <td>160.65756</td>\n",
       "      <td>172.731639</td>\n",
       "      <td>171.736954</td>\n",
       "      <td>173.613853</td>\n",
       "      <td>179.066153</td>\n",
       "      <td>121.479524</td>\n",
       "    </tr>\n",
       "  </tbody>\n",
       "</table>\n",
       "</div>"
      ],
      "text/plain": [
       "        2015        2016        2017        2018        2019        2020\n",
       "0  160.65756  172.731639  171.736954  173.613853  179.066153  121.479524"
      ]
     },
     "execution_count": 47,
     "metadata": {},
     "output_type": "execute_result"
    }
   ],
   "source": [
    "# Create a dataframe of all the mean Ozone days\n",
    "mean_ozone_df = pd.DataFrame({\"2015\": [ozone_2015],\n",
    "                            \"2016\": ozone_2016, \n",
    "                            \"2017\": ozone_2017,\n",
    "                            \"2018\": ozone_2018,\n",
    "                            \"2019\": ozone_2019, \n",
    "                            \"2020\": ozone_2020\n",
    "                           })\n",
    "mean_ozone_df"
   ]
  },
  {
   "cell_type": "code",
   "execution_count": 48,
   "metadata": {},
   "outputs": [
    {
     "data": {
      "image/png": "[encoded data removed]",
      "text/plain": [
       "<Figure size 432x288 with 1 Axes>"
      ]
     },
     "metadata": {
      "needs_background": "light"
     },
     "output_type": "display_data"
    }
   ],
   "source": [
    "# Plotting the Number of days Ozone per year as a line chart\n",
    "mean_ozone = mean_ozone_df.mean()\n",
    "\n",
    "plt.plot(years, mean_ozone, label='Mean AQI', marker='o')\n",
    "plt.ylim(0, mean_ozone.max()+50)\n",
    "plt.grid(alpha=.25)\n",
    "plt.title(\"Mean Ozone Days Per Year for The United States\")\n",
    "plt.xlabel(\"Year\")\n",
    "plt.ylabel(\"Mean Ozone Days\")\n",
    "plt.savefig(\"Images/Days_Ozone_Per_Year\")\n",
    "plt.show()"
   ]
  },
  {
   "cell_type": "code",
   "execution_count": 49,
   "metadata": {},
   "outputs": [],
   "source": [
    "# Eric Code Ends"
   ]
  },
  {
   "cell_type": "code",
   "execution_count": 50,
   "metadata": {},
   "outputs": [],
   "source": [
    "# Alex's Code Starts Here"
   ]
  },
  {
   "cell_type": "code",
   "execution_count": 51,
   "metadata": {},
   "outputs": [
    {
     "data": {
      "text/html": [
       "<div>\n",
       "<style scoped>\n",
       "    .dataframe tbody tr th:only-of-type {\n",
       "        vertical-align: middle;\n",
       "    }\n",
       "\n",
       "    .dataframe tbody tr th {\n",
       "        vertical-align: top;\n",
       "    }\n",
       "\n",
       "    .dataframe thead th {\n",
       "        text-align: right;\n",
       "    }\n",
       "</style>\n",
       "<table border=\"1\" class=\"dataframe\">\n",
       "  <thead>\n",
       "    <tr style=\"text-align: right;\">\n",
       "      <th></th>\n",
       "      <th>State</th>\n",
       "      <th>County</th>\n",
       "      <th>Year</th>\n",
       "      <th>Days with AQI</th>\n",
       "      <th>Good Days</th>\n",
       "      <th>Unhealthy Days</th>\n",
       "    </tr>\n",
       "  </thead>\n",
       "  <tbody>\n",
       "    <tr>\n",
       "      <th>0</th>\n",
       "      <td>Alabama</td>\n",
       "      <td>Baldwin</td>\n",
       "      <td>2020</td>\n",
       "      <td>168</td>\n",
       "      <td>159</td>\n",
       "      <td>0</td>\n",
       "    </tr>\n",
       "    <tr>\n",
       "      <th>1</th>\n",
       "      <td>Alabama</td>\n",
       "      <td>Clay</td>\n",
       "      <td>2020</td>\n",
       "      <td>58</td>\n",
       "      <td>54</td>\n",
       "      <td>0</td>\n",
       "    </tr>\n",
       "    <tr>\n",
       "      <th>2</th>\n",
       "      <td>Alabama</td>\n",
       "      <td>DeKalb</td>\n",
       "      <td>2020</td>\n",
       "      <td>242</td>\n",
       "      <td>234</td>\n",
       "      <td>0</td>\n",
       "    </tr>\n",
       "    <tr>\n",
       "      <th>3</th>\n",
       "      <td>Alabama</td>\n",
       "      <td>Elmore</td>\n",
       "      <td>2020</td>\n",
       "      <td>149</td>\n",
       "      <td>149</td>\n",
       "      <td>0</td>\n",
       "    </tr>\n",
       "    <tr>\n",
       "      <th>4</th>\n",
       "      <td>Alabama</td>\n",
       "      <td>Etowah</td>\n",
       "      <td>2020</td>\n",
       "      <td>169</td>\n",
       "      <td>161</td>\n",
       "      <td>0</td>\n",
       "    </tr>\n",
       "  </tbody>\n",
       "</table>\n",
       "</div>"
      ],
      "text/plain": [
       "     State   County  Year  Days with AQI  Good Days  Unhealthy Days\n",
       "0  Alabama  Baldwin  2020            168        159               0\n",
       "1  Alabama     Clay  2020             58         54               0\n",
       "2  Alabama   DeKalb  2020            242        234               0\n",
       "3  Alabama   Elmore  2020            149        149               0\n",
       "4  Alabama   Etowah  2020            169        161               0"
      ]
     },
     "execution_count": 51,
     "metadata": {},
     "output_type": "execute_result"
    }
   ],
   "source": [
    "# QUESTION 1 - NUMBER OF GOOD DAYS \n",
    "#--------------------------------------------------\n",
    "\n",
    "#Create DF for each year's data\n",
    "# 2015 --\n",
    "#Extract the following columns: \"State\", \"County\", \"Year\", \"Days with AQI\", \"Good Days\"\n",
    "GoodDays_2015_df = aqi_2015_df[[\"State\", \"County\", \"Year\",\n",
    "                           \"Days with AQI\", \"Good Days\", \"Unhealthy Days\"]]\n",
    "\n",
    "# 2016 --\n",
    "#Extract the following columns: \"State\", \"County\", \"Year\", \"Days with AQI\", \"Good Days\"\n",
    "GoodDays_2016_df = aqi_2016_df[[\"State\", \"County\", \"Year\",\n",
    "                           \"Days with AQI\", \"Good Days\", \"Unhealthy Days\"]]\n",
    "\n",
    "# 2017 --\n",
    "#Extract the following columns: \"State\", \"County\", \"Year\", \"Days with AQI\", \"Good Days\"\n",
    "GoodDays_2017_df = aqi_2017_df[[\"State\", \"County\", \"Year\",\n",
    "                           \"Days with AQI\", \"Good Days\", \"Unhealthy Days\"]]\n",
    "\n",
    "# 2018 --\n",
    "#Extract the following columns: \"State\", \"County\", \"Year\", \"Days with AQI\", \"Good Days\"\n",
    "GoodDays_2018_df = aqi_2018_df[[\"State\", \"County\", \"Year\",\n",
    "                           \"Days with AQI\", \"Good Days\", \"Unhealthy Days\"]]\n",
    "\n",
    "# 2019 --\n",
    "#Extract the following columns: \"State\", \"County\", \"Year\", \"Days with AQI\", \"Good Days\"\n",
    "GoodDays_2019_df = aqi_2019_df[[\"State\", \"County\", \"Year\",\n",
    "                           \"Days with AQI\", \"Good Days\", \"Unhealthy Days\"]]\n",
    "\n",
    "# 2020 --\n",
    "#Extract the following columns: \"State\", \"County\", \"Year\", \"Days with AQI\", \"Good Days\"\n",
    "GoodDays_2020_df = aqi_2020_df[[\"State\", \"County\", \"Year\",\n",
    "                           \"Days with AQI\", \"Good Days\", \"Unhealthy Days\"]]\n",
    "\n",
    "GoodDays_2020_df.head()"
   ]
  },
  {
   "cell_type": "code",
   "execution_count": 52,
   "metadata": {},
   "outputs": [],
   "source": [
    "#Calculate percentage of good days out of total days with aqi-\n",
    "GoodDays_2015_df['Percent of Good Days'] = (GoodDays_2015_df['Good Days'] / GoodDays_2015_df['Days with AQI']) * 100\n",
    "GoodDays_2016_df['Percent of Good Days'] = (GoodDays_2016_df['Good Days'] / GoodDays_2016_df['Days with AQI']) * 100\n",
    "GoodDays_2017_df['Percent of Good Days'] = (GoodDays_2017_df['Good Days'] / GoodDays_2017_df['Days with AQI']) * 100\n",
    "GoodDays_2018_df['Percent of Good Days'] = (GoodDays_2018_df['Good Days'] / GoodDays_2018_df['Days with AQI']) * 100\n",
    "GoodDays_2019_df['Percent of Good Days'] = (GoodDays_2019_df['Good Days'] / GoodDays_2019_df['Days with AQI']) * 100\n",
    "GoodDays_2020_df['Percent of Good Days'] = (GoodDays_2020_df['Good Days'] / GoodDays_2020_df['Days with AQI']) * 100\n"
   ]
  },
  {
   "cell_type": "code",
   "execution_count": 53,
   "metadata": {},
   "outputs": [
    {
     "data": {
      "text/html": [
       "<div>\n",
       "<style scoped>\n",
       "    .dataframe tbody tr th:only-of-type {\n",
       "        vertical-align: middle;\n",
       "    }\n",
       "\n",
       "    .dataframe tbody tr th {\n",
       "        vertical-align: top;\n",
       "    }\n",
       "\n",
       "    .dataframe thead th {\n",
       "        text-align: right;\n",
       "    }\n",
       "</style>\n",
       "<table border=\"1\" class=\"dataframe\">\n",
       "  <thead>\n",
       "    <tr style=\"text-align: right;\">\n",
       "      <th></th>\n",
       "      <th>Average Percent 2015</th>\n",
       "      <th>Average Percent 2016</th>\n",
       "      <th>Average Percent 2017</th>\n",
       "      <th>Average Percent 2018</th>\n",
       "      <th>Average Percent 2019</th>\n",
       "      <th>Average Percent 2020</th>\n",
       "    </tr>\n",
       "  </thead>\n",
       "  <tbody>\n",
       "    <tr>\n",
       "      <th>0</th>\n",
       "      <td>80.751512</td>\n",
       "      <td>83.524178</td>\n",
       "      <td>82.301617</td>\n",
       "      <td>81.365455</td>\n",
       "      <td>84.853219</td>\n",
       "      <td>88.346373</td>\n",
       "    </tr>\n",
       "  </tbody>\n",
       "</table>\n",
       "</div>"
      ],
      "text/plain": [
       "   Average Percent 2015  Average Percent 2016  Average Percent 2017  \\\n",
       "0             80.751512             83.524178             82.301617   \n",
       "\n",
       "   Average Percent 2018  Average Percent 2019  Average Percent 2020  \n",
       "0             81.365455             84.853219             88.346373  "
      ]
     },
     "execution_count": 53,
     "metadata": {},
     "output_type": "execute_result"
    }
   ],
   "source": [
    "#Find the Average Percent for each year\n",
    "avg_pct_2015= GoodDays_2015_df['Percent of Good Days'].mean()\n",
    "avg_pct_2016= GoodDays_2016_df['Percent of Good Days'].mean()\n",
    "avg_pct_2017= GoodDays_2017_df['Percent of Good Days'].mean()\n",
    "avg_pct_2018= GoodDays_2018_df['Percent of Good Days'].mean()\n",
    "avg_pct_2019= GoodDays_2019_df['Percent of Good Days'].mean()\n",
    "avg_pct_2020= GoodDays_2020_df['Percent of Good Days'].mean()\n",
    "\n",
    "\n",
    "#Create new Dictionary that includes these calculations\n",
    "avg_pct_by_year_dict = {\"Average Percent 2015\" : [avg_pct_2015],\n",
    "                   \"Average Percent 2016\" : [avg_pct_2016],\n",
    "                   \"Average Percent 2017\" : [avg_pct_2017],\n",
    "                   \"Average Percent 2018\" : [avg_pct_2018],\n",
    "                   \"Average Percent 2019\" : [avg_pct_2019],\n",
    "                   \"Average Percent 2020\" : [avg_pct_2020]}\n",
    "\n",
    "#Turn dictionary into new DF\n",
    "GoodDay_pct_df = pd.DataFrame(avg_pct_by_year_dict)\n",
    "GoodDay_pct_df.head()\n"
   ]
  },
  {
   "cell_type": "code",
   "execution_count": 54,
   "metadata": {},
   "outputs": [
    {
     "data": {
      "image/png": "[encoded data removed]",
      "text/plain": [
       "<Figure size 432x288 with 1 Axes>"
      ]
     },
     "metadata": {
      "needs_background": "light"
     },
     "output_type": "display_data"
    }
   ],
   "source": [
    "#Create Bar Chart of Average Percents\n",
    "# Create an array that contains the percentage of each year\n",
    "percentages = [81, 83, 82, 81, 85, 88]\n",
    "x_axis = np.arange(len(percentages))\n",
    "\n",
    "# Tell matplotlib that we will be making a bar chart\n",
    "# Users is our y axis and x_axis is, of course, our x axis\n",
    "# We apply align=\"edge\" to ensure our bars line up with our tick marks\n",
    "plt.bar(x_axis, percentages, color='r', alpha=0.5, align=\"center\")\n",
    "\n",
    "# Tell matplotlib where we would like to place each of our x axis headers\n",
    "tick_locations = [value for value in x_axis]\n",
    "plt.xticks(tick_locations, [\"2015\", \"2016\", \"2017\", \"2018\", \"2019\", \"2020\"])\n",
    "\n",
    "# Sets the x limits of the current chart\n",
    "plt.xlim(-0.75, len(x_axis)-0.25)\n",
    "\n",
    "# Sets the y limits of the current chart\n",
    "plt.ylim(0, max(percentages)+12)\n",
    "\n",
    "# Give our chart some labels and a tile\n",
    "plt.title(\"Average Percentage of Good Days per Year\")\n",
    "plt.xlabel(\"Year\")\n",
    "plt.ylabel(\"Percentage out of 100%\")\n",
    "plt.savefig(\"Images/Average_good_days.png\")"
   ]
  },
  {
   "cell_type": "code",
   "execution_count": 55,
   "metadata": {},
   "outputs": [],
   "source": [
    "# Comparing the top 5 most populous states\n",
    "#Group the DF by state and find the average percentage of that state\n",
    "pctXstate_2015 = GoodDays_2015_df.groupby(\"State\")[\"Percent of Good Days\"].mean()\n",
    "pctXstate_2015_df = pd.DataFrame(pctXstate_2015)\n",
    "\n",
    "pctXstate_2016 = GoodDays_2016_df.groupby(\"State\")[\"Percent of Good Days\"].mean()\n",
    "pctXstate_2016_df = pd.DataFrame(pctXstate_2016)\n",
    "\n",
    "pctXstate_2017 = GoodDays_2017_df.groupby(\"State\")[\"Percent of Good Days\"].mean()\n",
    "pctXstate_2017_df = pd.DataFrame(pctXstate_2017)\n",
    "\n",
    "pctXstate_2018 = GoodDays_2018_df.groupby(\"State\")[\"Percent of Good Days\"].mean()\n",
    "pctXstate_2018_df = pd.DataFrame(pctXstate_2018)\n",
    "\n",
    "pctXstate_2019 = GoodDays_2019_df.groupby(\"State\")[\"Percent of Good Days\"].mean()\n",
    "pctXstate_2019_df = pd.DataFrame(pctXstate_2019)\n",
    "\n",
    "pctXstate_2020 = GoodDays_2020_df.groupby(\"State\")[\"Percent of Good Days\"].mean()\n",
    "pctXstate_2020_df = pd.DataFrame(pctXstate_2020)\n",
    "\n",
    "#print(pctXstate_2019_df)"
   ]
  },
  {
   "cell_type": "code",
   "execution_count": 56,
   "metadata": {},
   "outputs": [
    {
     "data": {
      "image/png": "[encoded data removed]",
      "text/plain": [
       "<Figure size 432x288 with 1 Axes>"
      ]
     },
     "metadata": {
      "needs_background": "light"
     },
     "output_type": "display_data"
    }
   ],
   "source": [
    "stateXpct_plot = pd.DataFrame({\n",
    "    \"2015\" : [57.20, 78.60, 89.21, 84.38, 83.24],\n",
    "    \"2016\" : [61.95, 85.81, 87.84, 87.84, 84.32],\n",
    "    \"2017\" : [57.56, 83.39, 86.45, 90.02, 80.83],\n",
    "    \"2018\" : [57.53, 80.51, 88.28, 88.02, 79.17],\n",
    "    \"2019\" : [69.16, 81.13, 88.74, 91.89, 80.59],\n",
    "    \"2020\" : [71.32, 82.62, 86.32, 91.39, 83.23]},\n",
    "    index=[\"California\", \"Texas\", \"Florida\", \"New York\", \"Illinois\"])\n",
    "\n",
    "\n",
    "stateXpct_plot.plot(kind=\"bar\", color = ['tab:blue','tab:pink','tab:green', 'tab:red', 'tab:purple', 'tab:orange'] )\n",
    "plt.title(\"Top 5 Most Populous States with Avg. % of Good Days\")\n",
    "plt.xlabel(\"State\")\n",
    "plt.ylabel(\"Average Percentage of Good Days\")\n",
    "\n",
    "# Sets the x limits of the current chart\n",
    "plt.xlim(-0.75, len(x_axis)-0.25)\n",
    "\n",
    "# Sets the y limits of the current chart\n",
    "plt.ylim(0, max(percentages)+12)\n",
    "\n",
    "# Tell matplotlib where we would like to place each of our x axis headers\n",
    "tick_locations = [value for value in x_axis]\n",
    "plt.xticks(tick_locations, [\"California\", \"Texas\", \"Florida\", \"New York\", \"Illinois\"],  rotation=\"horizontal\")\n",
    "plt.savefig(\"Images/5_Populous_states_Good_Days.png\")"
   ]
  },
  {
   "cell_type": "code",
   "execution_count": 57,
   "metadata": {},
   "outputs": [],
   "source": [
    "# Alex's Code Ends Here"
   ]
  },
  {
   "cell_type": "code",
   "execution_count": 58,
   "metadata": {},
   "outputs": [],
   "source": [
    "# Rachel's Code Starts Here"
   ]
  },
  {
   "cell_type": "code",
   "execution_count": 59,
   "metadata": {},
   "outputs": [],
   "source": [
    "# Moderate Days data by County/State for each year\n",
    "# Extract columns: \"State\", \"County\", \"Year\", \"Days with AQI\", \"Moderate Days\"\n",
    "# 2015\n",
    "ModerateDays_2015_df = aqi_2015_df[[\"State\", \"County\", \"Year\", \"Days with AQI\", \"Moderate Days\"]]\n",
    "\n",
    "# 2016\n",
    "ModerateDays_2016_df = aqi_2016_df[[\"State\", \"County\", \"Year\", \"Days with AQI\", \"Moderate Days\"]]\n",
    "\n",
    "# 2017\n",
    "ModerateDays_2017_df = aqi_2017_df[[\"State\", \"County\", \"Year\", \"Days with AQI\", \"Moderate Days\"]]\n",
    "\n",
    "# 2018\n",
    "ModerateDays_2018_df = aqi_2018_df[[\"State\", \"County\", \"Year\", \"Days with AQI\", \"Moderate Days\"]]\n",
    "\n",
    "# 2019\n",
    "ModerateDays_2019_df = aqi_2019_df[[\"State\", \"County\", \"Year\", \"Days with AQI\", \"Moderate Days\"]]\n",
    "\n",
    "# 2020\n",
    "ModerateDays_2020_df = aqi_2020_df[[\"State\", \"County\", \"Year\", \"Days with AQI\", \"Moderate Days\"]]\n"
   ]
  },
  {
   "cell_type": "code",
   "execution_count": 60,
   "metadata": {},
   "outputs": [
    {
     "data": {
      "text/html": [
       "<div>\n",
       "<style scoped>\n",
       "    .dataframe tbody tr th:only-of-type {\n",
       "        vertical-align: middle;\n",
       "    }\n",
       "\n",
       "    .dataframe tbody tr th {\n",
       "        vertical-align: top;\n",
       "    }\n",
       "\n",
       "    .dataframe thead th {\n",
       "        text-align: right;\n",
       "    }\n",
       "</style>\n",
       "<table border=\"1\" class=\"dataframe\">\n",
       "  <thead>\n",
       "    <tr style=\"text-align: right;\">\n",
       "      <th></th>\n",
       "      <th>State</th>\n",
       "      <th>County</th>\n",
       "      <th>Year</th>\n",
       "      <th>Days with AQI</th>\n",
       "      <th>Days CO</th>\n",
       "    </tr>\n",
       "  </thead>\n",
       "  <tbody>\n",
       "    <tr>\n",
       "      <th>0</th>\n",
       "      <td>Alabama</td>\n",
       "      <td>Baldwin</td>\n",
       "      <td>2020</td>\n",
       "      <td>168</td>\n",
       "      <td>0</td>\n",
       "    </tr>\n",
       "    <tr>\n",
       "      <th>1</th>\n",
       "      <td>Alabama</td>\n",
       "      <td>Clay</td>\n",
       "      <td>2020</td>\n",
       "      <td>58</td>\n",
       "      <td>0</td>\n",
       "    </tr>\n",
       "    <tr>\n",
       "      <th>2</th>\n",
       "      <td>Alabama</td>\n",
       "      <td>DeKalb</td>\n",
       "      <td>2020</td>\n",
       "      <td>242</td>\n",
       "      <td>0</td>\n",
       "    </tr>\n",
       "    <tr>\n",
       "      <th>3</th>\n",
       "      <td>Alabama</td>\n",
       "      <td>Elmore</td>\n",
       "      <td>2020</td>\n",
       "      <td>149</td>\n",
       "      <td>0</td>\n",
       "    </tr>\n",
       "    <tr>\n",
       "      <th>4</th>\n",
       "      <td>Alabama</td>\n",
       "      <td>Etowah</td>\n",
       "      <td>2020</td>\n",
       "      <td>169</td>\n",
       "      <td>0</td>\n",
       "    </tr>\n",
       "  </tbody>\n",
       "</table>\n",
       "</div>"
      ],
      "text/plain": [
       "     State   County  Year  Days with AQI  Days CO\n",
       "0  Alabama  Baldwin  2020            168        0\n",
       "1  Alabama     Clay  2020             58        0\n",
       "2  Alabama   DeKalb  2020            242        0\n",
       "3  Alabama   Elmore  2020            149        0\n",
       "4  Alabama   Etowah  2020            169        0"
      ]
     },
     "execution_count": 60,
     "metadata": {},
     "output_type": "execute_result"
    }
   ],
   "source": [
    "# CO Days data by County/State for each year\n",
    "# Extract columns: \"State\", \"County\", \"Year\", \"Days with AQI\", \"Moderate Days\"\n",
    "\n",
    "# 2015\n",
    "DaysCO_2015_df = aqi_2015_df[[\"State\", \"County\", \"Year\", \"Days with AQI\", \"Days CO\"]]\n",
    "\n",
    "# 2016\n",
    "DaysCO_2016_df = aqi_2016_df[[\"State\", \"County\", \"Year\", \"Days with AQI\", \"Days CO\"]]\n",
    "\n",
    "# 2017\n",
    "DaysCO_2017_df = aqi_2017_df[[\"State\", \"County\", \"Year\", \"Days with AQI\", \"Days CO\"]]\n",
    "\n",
    "# 2018\n",
    "DaysCO_2018_df = aqi_2018_df[[\"State\", \"County\", \"Year\", \"Days with AQI\", \"Days CO\"]]\n",
    "\n",
    "# 2019\n",
    "DaysCO_2019_df = aqi_2019_df[[\"State\", \"County\", \"Year\", \"Days with AQI\", \"Days CO\"]]\n",
    "\n",
    "# 2020\n",
    "DaysCO_2020_df = aqi_2020_df[[\"State\", \"County\", \"Year\", \"Days with AQI\", \"Days CO\"]]\n",
    "\n",
    "DaysCO_2020_df.head()\n"
   ]
  },
  {
   "cell_type": "code",
   "execution_count": 61,
   "metadata": {},
   "outputs": [],
   "source": [
    "# Moderate Days Groupby\n",
    "df15 = aqi_2015_df[['State','County','Year','Moderate Days','Days CO']].copy()\n",
    "df16 = aqi_2016_df[['State','County','Year','Moderate Days','Days CO']].copy()\n",
    "df17 = aqi_2017_df[['State','County','Year','Moderate Days','Days CO']].copy()\n",
    "df18 = aqi_2018_df[['State','County','Year','Moderate Days','Days CO']].copy()\n",
    "df19 = aqi_2019_df[['State','County','Year','Moderate Days','Days CO']].copy()\n",
    "df20 = aqi_2020_df[['State','County','Year','Moderate Days','Days CO']].copy()\n"
   ]
  },
  {
   "cell_type": "code",
   "execution_count": 62,
   "metadata": {},
   "outputs": [],
   "source": [
    "full_df = df15.merge(df16,how='outer').merge(df17,how='outer').merge(df18,how='outer').merge(df19,how='outer').merge(df20,how='outer')"
   ]
  },
  {
   "cell_type": "code",
   "execution_count": 63,
   "metadata": {},
   "outputs": [],
   "source": [
    "grp = full_df.groupby(['Year','State','County']).sum()\n"
   ]
  },
  {
   "cell_type": "code",
   "execution_count": 64,
   "metadata": {},
   "outputs": [
    {
     "data": {
      "image/png": "[encoded data removed]",
      "text/plain": [
       "<Figure size 1080x288 with 1 Axes>"
      ]
     },
     "metadata": {
      "needs_background": "light"
     },
     "output_type": "display_data"
    }
   ],
   "source": [
    "grp.plot(rot=45,figsize=(15,4))\n",
    "plt.savefig(\"Images/Moderate_Days_and_Days_CO.png\")"
   ]
  },
  {
   "cell_type": "code",
   "execution_count": 65,
   "metadata": {},
   "outputs": [],
   "source": [
    "ny = full_df[full_df.State == 'New York']\n",
    "ny_grp = ny.groupby('Year').sum()\n"
   ]
  },
  {
   "cell_type": "code",
   "execution_count": 66,
   "metadata": {},
   "outputs": [
    {
     "data": {
      "image/png": "[encoded data removed]",
      "text/plain": [
       "<Figure size 432x288 with 1 Axes>"
      ]
     },
     "metadata": {
      "needs_background": "light"
     },
     "output_type": "display_data"
    }
   ],
   "source": [
    "ny_grp.plot()\n",
    "plt.savefig(\"Images/New_York_Moderate_Days.png\")"
   ]
  },
  {
   "cell_type": "code",
   "execution_count": 67,
   "metadata": {},
   "outputs": [],
   "source": [
    "# Rachel's Code Ends Here"
   ]
  },
  {
   "cell_type": "code",
   "execution_count": 68,
   "metadata": {},
   "outputs": [],
   "source": [
    "#Hypothesis Testing Options\n"
   ]
  },
  {
   "cell_type": "code",
   "execution_count": 69,
   "metadata": {},
   "outputs": [
    {
     "data": {
      "text/html": [
       "<div>\n",
       "<style scoped>\n",
       "    .dataframe tbody tr th:only-of-type {\n",
       "        vertical-align: middle;\n",
       "    }\n",
       "\n",
       "    .dataframe tbody tr th {\n",
       "        vertical-align: top;\n",
       "    }\n",
       "\n",
       "    .dataframe thead th {\n",
       "        text-align: right;\n",
       "    }\n",
       "</style>\n",
       "<table border=\"1\" class=\"dataframe\">\n",
       "  <thead>\n",
       "    <tr style=\"text-align: right;\">\n",
       "      <th></th>\n",
       "      <th>Year</th>\n",
       "      <th>Median AQI</th>\n",
       "    </tr>\n",
       "  </thead>\n",
       "  <tbody>\n",
       "    <tr>\n",
       "      <th>0</th>\n",
       "      <td>2015</td>\n",
       "      <td>38</td>\n",
       "    </tr>\n",
       "    <tr>\n",
       "      <th>1</th>\n",
       "      <td>2015</td>\n",
       "      <td>32</td>\n",
       "    </tr>\n",
       "    <tr>\n",
       "      <th>2</th>\n",
       "      <td>2015</td>\n",
       "      <td>36</td>\n",
       "    </tr>\n",
       "    <tr>\n",
       "      <th>3</th>\n",
       "      <td>2015</td>\n",
       "      <td>37</td>\n",
       "    </tr>\n",
       "    <tr>\n",
       "      <th>4</th>\n",
       "      <td>2015</td>\n",
       "      <td>35</td>\n",
       "    </tr>\n",
       "  </tbody>\n",
       "</table>\n",
       "</div>"
      ],
      "text/plain": [
       "   Year  Median AQI\n",
       "0  2015          38\n",
       "1  2015          32\n",
       "2  2015          36\n",
       "3  2015          37\n",
       "4  2015          35"
      ]
     },
     "execution_count": 69,
     "metadata": {},
     "output_type": "execute_result"
    }
   ],
   "source": [
    "#Create new DF that has data organized by Year and Median AQI\n",
    "AQI_hyp_test_df = aqi_all_df[[\"Year\",\"Median AQI\"]]\n",
    "AQI_hyp_test_df.head()\n"
   ]
  },
  {
   "cell_type": "code",
   "execution_count": 70,
   "metadata": {},
   "outputs": [
    {
     "data": {
      "image/png": "[encoded data removed]",
      "text/plain": [
       "<Figure size 1440x720 with 1 Axes>"
      ]
     },
     "metadata": {
      "needs_background": "light"
     },
     "output_type": "display_data"
    }
   ],
   "source": [
    "#Create a Box Plot and find p value for Median AQI data by Year. \n",
    "#Hypothesis = We would expect to see a lower Median AQI for 2020 then had been seen between 2015-2019\n",
    "#Null Hypothesis = There is no difference between 2015-2019 data and 2020 data.\n",
    "#Create a box plot to compare means\n",
    "AQI_hyp_test_df.boxplot(\"Median AQI\", by=\"Year\", figsize=(20,10))\n",
    "plt.savefig(\"Images/Boxplot_MedianAQI.png\")"
   ]
  },
  {
   "cell_type": "code",
   "execution_count": 71,
   "metadata": {},
   "outputs": [],
   "source": [
    "#Create indivudual groups to see data by year\n",
    "group1 = AQI_hyp_test_df[AQI_hyp_test_df[\"Year\"] == 2015][\"Median AQI\"]\n",
    "group2 = AQI_hyp_test_df[AQI_hyp_test_df[\"Year\"] == 2016][\"Median AQI\"]\n",
    "group3 = AQI_hyp_test_df[AQI_hyp_test_df[\"Year\"] == 2017][\"Median AQI\"]\n",
    "group4 = AQI_hyp_test_df[AQI_hyp_test_df[\"Year\"] == 2018][\"Median AQI\"]\n",
    "group5 = AQI_hyp_test_df[AQI_hyp_test_df[\"Year\"] == 2019][\"Median AQI\"]\n",
    "group6 = AQI_hyp_test_df[AQI_hyp_test_df[\"Year\"] == 2020][\"Median AQI\"]"
   ]
  },
  {
   "cell_type": "code",
   "execution_count": 72,
   "metadata": {},
   "outputs": [
    {
     "data": {
      "text/plain": [
       "F_onewayResult(statistic=7.1342902515564175, pvalue=1.1526508094675636e-06)"
      ]
     },
     "execution_count": 72,
     "metadata": {},
     "output_type": "execute_result"
    }
   ],
   "source": [
    "#Perform the Anova & Get p Value for all years\n",
    "stats.f_oneway(group1, group2, group3, group4, group5, group6)"
   ]
  },
  {
   "cell_type": "code",
   "execution_count": 73,
   "metadata": {},
   "outputs": [
    {
     "data": {
      "text/plain": [
       "F_onewayResult(statistic=2.62277322156948, pvalue=0.03303654399136626)"
      ]
     },
     "execution_count": 73,
     "metadata": {},
     "output_type": "execute_result"
    }
   ],
   "source": [
    "#Perform the Anova & Get P Value for all years without 2020 to see if p Value decreases\n",
    "stats.f_oneway(group1, group2, group3, group4, group5) "
   ]
  },
  {
   "cell_type": "code",
   "execution_count": 74,
   "metadata": {},
   "outputs": [],
   "source": [
    "#You can reject the null hypothesis when you take out 2020 data, but in doing so kind of defeat the purpose of analyzing this data set"
   ]
  },
  {
   "cell_type": "code",
   "execution_count": 75,
   "metadata": {},
   "outputs": [
    {
     "data": {
      "text/html": [
       "<div>\n",
       "<style scoped>\n",
       "    .dataframe tbody tr th:only-of-type {\n",
       "        vertical-align: middle;\n",
       "    }\n",
       "\n",
       "    .dataframe tbody tr th {\n",
       "        vertical-align: top;\n",
       "    }\n",
       "\n",
       "    .dataframe thead th {\n",
       "        text-align: right;\n",
       "    }\n",
       "</style>\n",
       "<table border=\"1\" class=\"dataframe\">\n",
       "  <thead>\n",
       "    <tr style=\"text-align: right;\">\n",
       "      <th></th>\n",
       "      <th>Year</th>\n",
       "      <th>Days Ozone</th>\n",
       "    </tr>\n",
       "  </thead>\n",
       "  <tbody>\n",
       "    <tr>\n",
       "      <th>0</th>\n",
       "      <td>2015</td>\n",
       "      <td>189</td>\n",
       "    </tr>\n",
       "    <tr>\n",
       "      <th>1</th>\n",
       "      <td>2015</td>\n",
       "      <td>0</td>\n",
       "    </tr>\n",
       "    <tr>\n",
       "      <th>2</th>\n",
       "      <td>2015</td>\n",
       "      <td>195</td>\n",
       "    </tr>\n",
       "    <tr>\n",
       "      <th>3</th>\n",
       "      <td>2015</td>\n",
       "      <td>307</td>\n",
       "    </tr>\n",
       "    <tr>\n",
       "      <th>4</th>\n",
       "      <td>2015</td>\n",
       "      <td>233</td>\n",
       "    </tr>\n",
       "  </tbody>\n",
       "</table>\n",
       "</div>"
      ],
      "text/plain": [
       "   Year  Days Ozone\n",
       "0  2015         189\n",
       "1  2015           0\n",
       "2  2015         195\n",
       "3  2015         307\n",
       "4  2015         233"
      ]
     },
     "execution_count": 75,
     "metadata": {},
     "output_type": "execute_result"
    }
   ],
   "source": [
    "#Create new DF that has data organized by Year and Days with Ozone as the main pollutant\n",
    "Ozone_hyp_test_df = aqi_all_df[[\"Year\",\"Days Ozone\"]]\n",
    "Ozone_hyp_test_df.head()"
   ]
  },
  {
   "cell_type": "code",
   "execution_count": 76,
   "metadata": {},
   "outputs": [
    {
     "data": {
      "image/png": "[encoded data removed]",
      "text/plain": [
       "<Figure size 1440x720 with 1 Axes>"
      ]
     },
     "metadata": {
      "needs_background": "light"
     },
     "output_type": "display_data"
    }
   ],
   "source": [
    "#Create a Box Plot and find p value for Ozone Days data by Year. \n",
    "#Hypothesis = We would expect to see a less Ozone pollutant days in 2020 than we would between 2015-2019\n",
    "#Null Hypothesis = There is no difference between 2015-2019 data and 2020 data.\n",
    "#Create a box plot to compare means\n",
    "Ozone_hyp_test_df.boxplot(\"Days Ozone\", by=\"Year\", figsize=(20,10))\n",
    "plt.savefig(\"Images/Boxplot_DaysOzone.png\")"
   ]
  },
  {
   "cell_type": "code",
   "execution_count": 77,
   "metadata": {},
   "outputs": [],
   "source": [
    "#Create indivudual groups to see data by year\n",
    "group7 = Ozone_hyp_test_df[Ozone_hyp_test_df[\"Year\"] == 2015][\"Days Ozone\"]\n",
    "group8 = Ozone_hyp_test_df[Ozone_hyp_test_df[\"Year\"] == 2016][\"Days Ozone\"]\n",
    "group9 = Ozone_hyp_test_df[Ozone_hyp_test_df[\"Year\"] == 2017][\"Days Ozone\"]\n",
    "group10 = Ozone_hyp_test_df[Ozone_hyp_test_df[\"Year\"] == 2018][\"Days Ozone\"]\n",
    "group11 = Ozone_hyp_test_df[Ozone_hyp_test_df[\"Year\"] == 2019][\"Days Ozone\"]\n",
    "group12 = Ozone_hyp_test_df[Ozone_hyp_test_df[\"Year\"] == 2020][\"Days Ozone\"]"
   ]
  },
  {
   "cell_type": "code",
   "execution_count": 78,
   "metadata": {},
   "outputs": [
    {
     "data": {
      "text/plain": [
       "F_onewayResult(statistic=37.39500577230569, pvalue=6.439560173571863e-38)"
      ]
     },
     "execution_count": 78,
     "metadata": {},
     "output_type": "execute_result"
    }
   ],
   "source": [
    "#Perform the Anova & Get p Value for all years\n",
    "stats.f_oneway(group7, group8, group9, group10, group11, group12)"
   ]
  },
  {
   "cell_type": "code",
   "execution_count": 79,
   "metadata": {},
   "outputs": [
    {
     "data": {
      "text/plain": [
       "F_onewayResult(statistic=2.2365375611543237, pvalue=0.062609821146839)"
      ]
     },
     "execution_count": 79,
     "metadata": {},
     "output_type": "execute_result"
    }
   ],
   "source": [
    "#Perform the Anova & Get P Value for all years without 2020 to see if p Value decreases\n",
    "stats.f_oneway(group7, group8, group9, group10, group11) "
   ]
  },
  {
   "cell_type": "code",
   "execution_count": 80,
   "metadata": {},
   "outputs": [],
   "source": [
    "#Could not reject null hypothesis"
   ]
  },
  {
   "cell_type": "code",
   "execution_count": 81,
   "metadata": {},
   "outputs": [
    {
     "data": {
      "text/html": [
       "<div>\n",
       "<style scoped>\n",
       "    .dataframe tbody tr th:only-of-type {\n",
       "        vertical-align: middle;\n",
       "    }\n",
       "\n",
       "    .dataframe tbody tr th {\n",
       "        vertical-align: top;\n",
       "    }\n",
       "\n",
       "    .dataframe thead th {\n",
       "        text-align: right;\n",
       "    }\n",
       "</style>\n",
       "<table border=\"1\" class=\"dataframe\">\n",
       "  <thead>\n",
       "    <tr style=\"text-align: right;\">\n",
       "      <th></th>\n",
       "      <th>Year</th>\n",
       "      <th>Good Days</th>\n",
       "    </tr>\n",
       "  </thead>\n",
       "  <tbody>\n",
       "    <tr>\n",
       "      <th>0</th>\n",
       "      <td>2015</td>\n",
       "      <td>230</td>\n",
       "    </tr>\n",
       "    <tr>\n",
       "      <th>1</th>\n",
       "      <td>2015</td>\n",
       "      <td>101</td>\n",
       "    </tr>\n",
       "    <tr>\n",
       "      <th>2</th>\n",
       "      <td>2015</td>\n",
       "      <td>251</td>\n",
       "    </tr>\n",
       "    <tr>\n",
       "      <th>3</th>\n",
       "      <td>2015</td>\n",
       "      <td>319</td>\n",
       "    </tr>\n",
       "    <tr>\n",
       "      <th>4</th>\n",
       "      <td>2015</td>\n",
       "      <td>223</td>\n",
       "    </tr>\n",
       "  </tbody>\n",
       "</table>\n",
       "</div>"
      ],
      "text/plain": [
       "   Year  Good Days\n",
       "0  2015        230\n",
       "1  2015        101\n",
       "2  2015        251\n",
       "3  2015        319\n",
       "4  2015        223"
      ]
     },
     "execution_count": 81,
     "metadata": {},
     "output_type": "execute_result"
    }
   ],
   "source": [
    "#Create new DF that has data organized by Year and amount of Good Days\n",
    "Gday_hyp_test_df = aqi_all_df[[\"Year\",\"Good Days\"]]\n",
    "Gday_hyp_test_df.head()"
   ]
  },
  {
   "cell_type": "code",
   "execution_count": 82,
   "metadata": {},
   "outputs": [
    {
     "data": {
      "image/png": "[encoded data removed]",
      "text/plain": [
       "<Figure size 1440x720 with 1 Axes>"
      ]
     },
     "metadata": {
      "needs_background": "light"
     },
     "output_type": "display_data"
    }
   ],
   "source": [
    "#Create a Box Plot and find p value for Number of Good Days data by Year. \n",
    "#Hypothesis = We would expect to see a more Good Days in 2020 than we would between 2015-2019\n",
    "#Null Hypothesis = There is no difference between 2015-2019 data and 2020 data for the amount of Good Days.\n",
    "#Create a box plot to compare means\n",
    "Gday_hyp_test_df.boxplot(\"Good Days\", by=\"Year\", figsize=(20,10))\n",
    "plt.savefig(\"Images/Boxplot_GoodDays.png\")"
   ]
  },
  {
   "cell_type": "code",
   "execution_count": 83,
   "metadata": {},
   "outputs": [],
   "source": [
    "#Create indivudual groups to see data by year\n",
    "group12 = Gday_hyp_test_df[Gday_hyp_test_df[\"Year\"] == 2015][\"Good Days\"]\n",
    "group13 = Gday_hyp_test_df[Gday_hyp_test_df[\"Year\"] == 2016][\"Good Days\"]\n",
    "group14 = Gday_hyp_test_df[Gday_hyp_test_df[\"Year\"] == 2017][\"Good Days\"]\n",
    "group15 = Gday_hyp_test_df[Gday_hyp_test_df[\"Year\"] == 2018][\"Good Days\"]\n",
    "group16 = Gday_hyp_test_df[Gday_hyp_test_df[\"Year\"] == 2019][\"Good Days\"]\n",
    "group17 = Gday_hyp_test_df[Gday_hyp_test_df[\"Year\"] == 2020][\"Good Days\"]"
   ]
  },
  {
   "cell_type": "code",
   "execution_count": 84,
   "metadata": {},
   "outputs": [
    {
     "data": {
      "text/plain": [
       "F_onewayResult(statistic=209.98176397958815, pvalue=8.930666092585843e-208)"
      ]
     },
     "execution_count": 84,
     "metadata": {},
     "output_type": "execute_result"
    }
   ],
   "source": [
    "#Perform the Anova & Get p Value for all years\n",
    "stats.f_oneway(group12, group13, group14, group15, group16, group17)"
   ]
  },
  {
   "cell_type": "code",
   "execution_count": 85,
   "metadata": {},
   "outputs": [
    {
     "data": {
      "text/plain": [
       "F_onewayResult(statistic=13.82069695402736, pvalue=3.2398379188157295e-11)"
      ]
     },
     "execution_count": 85,
     "metadata": {},
     "output_type": "execute_result"
    }
   ],
   "source": [
    "#Perform the Anova & Get p Value for all years\n",
    "stats.f_oneway(group12, group13, group14, group15, group16)"
   ]
  },
  {
   "cell_type": "code",
   "execution_count": 86,
   "metadata": {},
   "outputs": [],
   "source": [
    "#There is a slight discrepency in this dataset. Look below for explanation\n"
   ]
  },
  {
   "cell_type": "code",
   "execution_count": 87,
   "metadata": {},
   "outputs": [
    {
     "data": {
      "text/html": [
       "<div>\n",
       "<style scoped>\n",
       "    .dataframe tbody tr th:only-of-type {\n",
       "        vertical-align: middle;\n",
       "    }\n",
       "\n",
       "    .dataframe tbody tr th {\n",
       "        vertical-align: top;\n",
       "    }\n",
       "\n",
       "    .dataframe thead th {\n",
       "        text-align: right;\n",
       "    }\n",
       "</style>\n",
       "<table border=\"1\" class=\"dataframe\">\n",
       "  <thead>\n",
       "    <tr style=\"text-align: right;\">\n",
       "      <th></th>\n",
       "      <th>Year</th>\n",
       "      <th>Days with AQI</th>\n",
       "    </tr>\n",
       "  </thead>\n",
       "  <tbody>\n",
       "    <tr>\n",
       "      <th>0</th>\n",
       "      <td>2015</td>\n",
       "      <td>264</td>\n",
       "    </tr>\n",
       "    <tr>\n",
       "      <th>1</th>\n",
       "      <td>2015</td>\n",
       "      <td>112</td>\n",
       "    </tr>\n",
       "    <tr>\n",
       "      <th>2</th>\n",
       "      <td>2015</td>\n",
       "      <td>280</td>\n",
       "    </tr>\n",
       "    <tr>\n",
       "      <th>3</th>\n",
       "      <td>2015</td>\n",
       "      <td>363</td>\n",
       "    </tr>\n",
       "    <tr>\n",
       "      <th>4</th>\n",
       "      <td>2015</td>\n",
       "      <td>233</td>\n",
       "    </tr>\n",
       "  </tbody>\n",
       "</table>\n",
       "</div>"
      ],
      "text/plain": [
       "   Year  Days with AQI\n",
       "0  2015            264\n",
       "1  2015            112\n",
       "2  2015            280\n",
       "3  2015            363\n",
       "4  2015            233"
      ]
     },
     "execution_count": 87,
     "metadata": {},
     "output_type": "execute_result"
    }
   ],
   "source": [
    "#Create new DF that has data organized by Year and Days with Ozone as the main pollutant\n",
    "AQIno_hyp_test_df = aqi_all_df[[\"Year\",\"Days with AQI\"]]\n",
    "AQIno_hyp_test_df.head()"
   ]
  },
  {
   "cell_type": "code",
   "execution_count": 88,
   "metadata": {},
   "outputs": [
    {
     "data": {
      "image/png": "[encoded data removed]",
      "text/plain": [
       "<Figure size 1440x720 with 1 Axes>"
      ]
     },
     "metadata": {
      "needs_background": "light"
     },
     "output_type": "display_data"
    }
   ],
   "source": [
    "#Create a box plot to compare means\n",
    "AQIno_hyp_test_df.boxplot(\"Days with AQI\", by=\"Year\", figsize=(20,10))\n",
    "plt.savefig(\"Images/Boxplot_DayswAQI.png\")"
   ]
  },
  {
   "cell_type": "code",
   "execution_count": 89,
   "metadata": {},
   "outputs": [],
   "source": [
    "#As you can see 2020 had less recorded Days with AQI, therefore don't have an accurate \n",
    "#representation in the previous test showing the amount of good days"
   ]
  },
  {
   "cell_type": "code",
   "execution_count": 90,
   "metadata": {},
   "outputs": [],
   "source": [
    "#No statistical significance has been indicated"
   ]
  },
  {
   "cell_type": "code",
   "execution_count": null,
   "metadata": {},
   "outputs": [],
   "source": []
  }
 ],
 "metadata": {
  "kernelspec": {
   "display_name": "Python 3",
   "language": "python",
   "name": "python3"
  },
  "language_info": {
   "codemirror_mode": {
    "name": "ipython",
    "version": 3
   },
   "file_extension": ".py",
   "mimetype": "text/x-python",
   "name": "python",
   "nbconvert_exporter": "python",
   "pygments_lexer": "ipython3",
   "version": "3.6.10"
  }
 },
 "nbformat": 4,
 "nbformat_minor": 4
}
