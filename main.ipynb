{
 "cells": [
  {
   "cell_type": "code",
   "execution_count": null,
   "metadata": {},
   "outputs": [],
   "source": [
    "%matplotlib notebook\n",
    "import pandas as pd\n",
    "import matplotlib.pyplot as plt\n",
    "import numpy as np"
   ]
  },
  {
   "cell_type": "code",
   "execution_count": null,
   "metadata": {},
   "outputs": [],
   "source": [
    "# Reading in all of our data for each year\n",
    "aqi_2015_df = pd.read_csv(\"Resources/aqi_2015.csv\")\n",
    "aqi_2016_df = pd.read_csv(\"Resources/aqi_2016.csv\")\n",
    "aqi_2017_df = pd.read_csv(\"Resources/aqi_2017.csv\")\n",
    "aqi_2018_df = pd.read_csv(\"Resources/aqi_2018.csv\")\n",
    "aqi_2019_df = pd.read_csv(\"Resources/aqi_2019.csv\")\n",
    "aqi_2020_df = pd.read_csv(\"Resources/aqi_2020.csv\")"
   ]
  },
  {
   "cell_type": "code",
   "execution_count": null,
   "metadata": {},
   "outputs": [],
   "source": [
    "aqi_2015_df.head()"
   ]
  },
  {
   "cell_type": "code",
   "execution_count": null,
   "metadata": {},
   "outputs": [],
   "source": [
    "# Eric's Code Starts Here "
   ]
  },
  {
   "cell_type": "code",
   "execution_count": null,
   "metadata": {},
   "outputs": [],
   "source": [
    "# Getting the median AQI, by state, for each year"
   ]
  },
  {
   "cell_type": "code",
   "execution_count": null,
   "metadata": {},
   "outputs": [],
   "source": [
    "median_aqi_2015 = aqi_2015_df.groupby(\"State\")[\"Median AQI\"].median()\n",
    "median_aqi_2015_df = pd.DataFrame(median_aqi_2015)"
   ]
  },
  {
   "cell_type": "code",
   "execution_count": null,
   "metadata": {},
   "outputs": [],
   "source": [
    "median_aqi_2016 = aqi_2016_df.groupby(\"State\")[\"Median AQI\"].median()\n",
    "median_aqi_2016_df = pd.DataFrame(median_aqi_2016)"
   ]
  },
  {
   "cell_type": "code",
   "execution_count": null,
   "metadata": {},
   "outputs": [],
   "source": [
    "median_aqi_2017 = aqi_2017_df.groupby(\"State\")[\"Median AQI\"].median()\n",
    "median_aqi_2017_df = pd.DataFrame(median_aqi_2017)"
   ]
  },
  {
   "cell_type": "code",
   "execution_count": null,
   "metadata": {},
   "outputs": [],
   "source": [
    "median_aqi_2018 = aqi_2018_df.groupby(\"State\")[\"Median AQI\"].median()\n",
    "median_aqi_2018_df = pd.DataFrame(median_aqi_2018)"
   ]
  },
  {
   "cell_type": "code",
   "execution_count": null,
   "metadata": {},
   "outputs": [],
   "source": [
    "median_aqi_2019 = aqi_2019_df.groupby(\"State\")[\"Median AQI\"].median()\n",
    "median_aqi_2019_df = pd.DataFrame(median_aqi_2019)"
   ]
  },
  {
   "cell_type": "code",
   "execution_count": null,
   "metadata": {},
   "outputs": [],
   "source": [
    "median_aqi_2020 = aqi_2020_df.groupby(\"State\")[\"Median AQI\"].median()\n",
    "median_aqi_2020_df = pd.DataFrame(median_aqi_2020)"
   ]
  },
  {
   "cell_type": "code",
   "execution_count": null,
   "metadata": {},
   "outputs": [],
   "source": [
    "# Merging each median AQI for each year into a single DataFrame\n",
    "median_aqi_by_year_df = pd.merge(median_aqi_2015_df, median_aqi_2016_df, how='left', on='State')\n",
    "median_aqi_by_year_df = median_aqi_by_year_df.rename(columns={\"Median AQI_x\": \"2015\", \"Median AQI_y\": \"2016\"})"
   ]
  },
  {
   "cell_type": "code",
   "execution_count": null,
   "metadata": {},
   "outputs": [],
   "source": [
    "median_aqi_by_year_df = pd.merge(median_aqi_by_year_df, median_aqi_2017_df, how='left', on='State')\n",
    "median_aqi_by_year_df = median_aqi_by_year_df.rename(columns={\"Median AQI\": \"2017\"})"
   ]
  },
  {
   "cell_type": "code",
   "execution_count": null,
   "metadata": {},
   "outputs": [],
   "source": [
    "median_aqi_by_year_df = pd.merge(median_aqi_by_year_df, median_aqi_2018_df, how='left', on='State')\n",
    "median_aqi_by_year_df = median_aqi_by_year_df.rename(columns={\"Median AQI\": \"2018\"})"
   ]
  },
  {
   "cell_type": "code",
   "execution_count": null,
   "metadata": {},
   "outputs": [],
   "source": [
    "median_aqi_by_year_df = pd.merge(median_aqi_by_year_df, median_aqi_2019_df, how='left', on='State')\n",
    "median_aqi_by_year_df = median_aqi_by_year_df.rename(columns={\"Median AQI\": \"2019\"})"
   ]
  },
  {
   "cell_type": "code",
   "execution_count": null,
   "metadata": {},
   "outputs": [],
   "source": [
    "median_aqi_by_year_df = pd.merge(median_aqi_by_year_df, median_aqi_2020_df, how='left', on='State')\n",
    "median_aqi_by_year_df = median_aqi_by_year_df.rename(columns={\"Median AQI\": \"2020\"})"
   ]
  },
  {
   "cell_type": "code",
   "execution_count": null,
   "metadata": {},
   "outputs": [],
   "source": [
    "# median AQI for each state by each year\n",
    "median_aqi_by_year_df.head()"
   ]
  },
  {
   "cell_type": "code",
   "execution_count": null,
   "metadata": {},
   "outputs": [],
   "source": [
    "# Getting the Mean AQI for the United States for each year \n",
    "mean_aqi_2015 = median_aqi_by_year_df[\"2015\"].mean()\n",
    "mean_aqi_2016 = median_aqi_by_year_df[\"2016\"].mean()\n",
    "mean_aqi_2017 = median_aqi_by_year_df[\"2017\"].mean()\n",
    "mean_aqi_2018 = median_aqi_by_year_df[\"2018\"].mean()\n",
    "mean_aqi_2019 = median_aqi_by_year_df[\"2019\"].mean()\n",
    "mean_aqi_2020 = median_aqi_by_year_df[\"2020\"].mean()"
   ]
  },
  {
   "cell_type": "code",
   "execution_count": null,
   "metadata": {},
   "outputs": [],
   "source": [
    "mean_aqi_df = pd.DataFrame({\"2015\": [mean_aqi_2015],\n",
    "                            \"2016\": mean_aqi_2016, \n",
    "                            \"2017\": mean_aqi_2017,\n",
    "                            \"2018\": mean_aqi_2018,\n",
    "                            \"2019\": mean_aqi_2019, \n",
    "                            \"2020\": mean_aqi_2020\n",
    "                           })\n",
    "mean_aqi_df"
   ]
  },
  {
   "cell_type": "code",
   "execution_count": null,
   "metadata": {},
   "outputs": [],
   "source": [
    "# Plotting the mean AQI per year as a line chart\n",
    "years = mean_aqi_df.keys()\n",
    "mean_aqi = mean_aqi_df.mean()\n",
    "\n",
    "plt.plot(years, mean_aqi, label='Mean AQI', marker='o')\n",
    "plt.ylim(0, 40)\n",
    "y_ticks = np.arange(0,40,5)\n",
    "plt.yticks(y_ticks)\n",
    "plt.grid(alpha=.25)\n",
    "plt.title(\"Mean AQI Per Year for United States\")\n",
    "plt.xlabel(\"Year\")\n",
    "plt.ylabel(\"Mean AQI\")\n",
    "plt.show()"
   ]
  },
  {
   "cell_type": "code",
   "execution_count": null,
   "metadata": {},
   "outputs": [],
   "source": [
    "# Getting the days with CO as main pollutant for each state\n",
    "days_ozone_2015 = aqi_2015_df.groupby('State')['Days Ozone'].sum()\n",
    "days_ozone_2016 = aqi_2016_df.groupby('State')['Days Ozone'].sum()\n",
    "days_ozone_2017 = aqi_2017_df.groupby('State')['Days Ozone'].sum()\n",
    "days_ozone_2018 = aqi_2018_df.groupby('State')['Days Ozone'].sum()\n",
    "days_ozone_2019 = aqi_2019_df.groupby('State')['Days Ozone'].sum()\n",
    "days_ozone_2020 = aqi_2020_df.groupby('State')['Days Ozone'].sum()"
   ]
  },
  {
   "cell_type": "code",
   "execution_count": null,
   "metadata": {},
   "outputs": [],
   "source": [
    "# Merge all 'Days ozone' data by year into a single DataFrame\n",
    "days_ozone_df = pd.merge(days_ozone_2015, days_ozone_2016, how='left', on='State')\n",
    "days_ozone_df = days_ozone_df.rename(columns={'Days Ozone_x': '2015', 'Days Ozone_y': '2016'})"
   ]
  },
  {
   "cell_type": "code",
   "execution_count": null,
   "metadata": {},
   "outputs": [],
   "source": [
    "days_ozone_df = pd.merge(days_ozone_df, days_ozone_2017, how='left', on='State')\n",
    "days_ozone_df = days_ozone_df.rename(columns={'Days Ozone': '2017'})"
   ]
  },
  {
   "cell_type": "code",
   "execution_count": null,
   "metadata": {},
   "outputs": [],
   "source": [
    "days_ozone_df = pd.merge(days_ozone_df, days_ozone_2018, how='left', on='State')\n",
    "days_ozone_df = days_ozone_df.rename(columns={'Days Ozone': '2018'})"
   ]
  },
  {
   "cell_type": "code",
   "execution_count": null,
   "metadata": {},
   "outputs": [],
   "source": [
    "days_ozone_df = pd.merge(days_ozone_df, days_ozone_2019, how='left', on='State')\n",
    "days_ozone_df = days_ozone_df.rename(columns={'Days Ozone': '2019'})"
   ]
  },
  {
   "cell_type": "code",
   "execution_count": null,
   "metadata": {},
   "outputs": [],
   "source": [
    "days_ozone_df = pd.merge(days_ozone_df, days_ozone_2020, how='left', on='State')\n",
    "days_ozone_df = days_ozone_df.rename(columns={'Days Ozone': '2020'})"
   ]
  },
  {
   "cell_type": "code",
   "execution_count": null,
   "metadata": {},
   "outputs": [],
   "source": [
    "days_ozone_df.head()"
   ]
  },
  {
   "cell_type": "code",
   "execution_count": null,
   "metadata": {},
   "outputs": [],
   "source": [
    "# Get the mean 'Days Ozone' pollution for each year within the United States\n",
    "ozone_2015 = days_ozone_df['2015'].mean()\n",
    "ozone_2015"
   ]
  },
  {
   "cell_type": "code",
   "execution_count": null,
   "metadata": {},
   "outputs": [],
   "source": [
    "ozone_2016 = days_ozone_df['2016'].mean()\n",
    "ozone_2016"
   ]
  },
  {
   "cell_type": "code",
   "execution_count": null,
   "metadata": {},
   "outputs": [],
   "source": [
    "ozone_2017 = days_ozone_df['2017'].mean()\n",
    "ozone_2017"
   ]
  },
  {
   "cell_type": "code",
   "execution_count": null,
   "metadata": {},
   "outputs": [],
   "source": [
    "ozone_2018 = days_ozone_df['2018'].mean()\n",
    "ozone_2018"
   ]
  },
  {
   "cell_type": "code",
   "execution_count": null,
   "metadata": {},
   "outputs": [],
   "source": [
    "ozone_2019 = days_ozone_df['2019'].mean()\n",
    "ozone_2019"
   ]
  },
  {
   "cell_type": "code",
   "execution_count": null,
   "metadata": {},
   "outputs": [],
   "source": [
    "ozone_2020 = days_ozone_df['2020'].mean()\n",
    "ozone_2020"
   ]
  },
  {
   "cell_type": "code",
   "execution_count": null,
   "metadata": {},
   "outputs": [],
   "source": [
    "# Create a dataframe of all the mean Ozone days\n",
    "mean_ozone_df = pd.DataFrame({\"2015\": [ozone_2015],\n",
    "                            \"2016\": ozone_2016, \n",
    "                            \"2017\": ozone_2017,\n",
    "                            \"2018\": ozone_2018,\n",
    "                            \"2019\": ozone_2019, \n",
    "                            \"2020\": ozone_2020\n",
    "                           })\n",
    "mean_ozone_df"
   ]
  },
  {
   "cell_type": "code",
   "execution_count": null,
   "metadata": {},
   "outputs": [],
   "source": [
    "# Plotting the mean AQI per year as a line chart\n",
    "mean_ozone = mean_ozone_df.mean()\n",
    "\n",
    "plt.plot(years, mean_ozone, label='Mean AQI', marker='o')\n",
    "plt.ylim(1000, mean_ozone.max()+250)\n",
    "y_ticks = np.arange(1000,mean_ozone.max(),500)\n",
    "plt.yticks(y_ticks)\n",
    "plt.grid(alpha=.25)\n",
    "plt.title(\"Mean Ozone Days Per Year for The United States\")\n",
    "plt.xlabel(\"Year\")\n",
    "plt.ylabel(\"Mean Ozone Days\")\n",
    "plt.show()"
   ]
  },
  {
   "cell_type": "code",
   "execution_count": null,
   "metadata": {},
   "outputs": [],
   "source": [
    "# Eric Code Ends"
   ]
  },
  {
   "cell_type": "code",
   "execution_count": null,
   "metadata": {},
   "outputs": [],
   "source": [
    "# Alex's Code Starts Here"
   ]
  },
  {
   "cell_type": "code",
   "execution_count": null,
   "metadata": {},
   "outputs": [],
   "source": [
    "# QUESTION 1 - NUMBER OF GOOD DAYS \n",
    "#--------------------------------------------------\n",
    "\n",
    "#Create DF for each year's data\n",
    "# 2015 --\n",
    "#Extract the following columns: \"State\", \"County\", \"Year\", \"Days with AQI\", \"Good Days\"\n",
    "GoodDays_2015_df = aqi_2015_df[[\"State\", \"County\", \"Year\",\n",
    "                           \"Days with AQI\", \"Good Days\", \"Unhealthy Days\"]]\n",
    "\n",
    "# 2016 --\n",
    "#Extract the following columns: \"State\", \"County\", \"Year\", \"Days with AQI\", \"Good Days\"\n",
    "GoodDays_2016_df = aqi_2016_df[[\"State\", \"County\", \"Year\",\n",
    "                           \"Days with AQI\", \"Good Days\", \"Unhealthy Days\"]]\n",
    "\n",
    "# 2017 --\n",
    "#Extract the following columns: \"State\", \"County\", \"Year\", \"Days with AQI\", \"Good Days\"\n",
    "GoodDays_2017_df = aqi_2017_df[[\"State\", \"County\", \"Year\",\n",
    "                           \"Days with AQI\", \"Good Days\", \"Unhealthy Days\"]]\n",
    "\n",
    "# 2018 --\n",
    "#Extract the following columns: \"State\", \"County\", \"Year\", \"Days with AQI\", \"Good Days\"\n",
    "GoodDays_2018_df = aqi_2018_df[[\"State\", \"County\", \"Year\",\n",
    "                           \"Days with AQI\", \"Good Days\", \"Unhealthy Days\"]]\n",
    "\n",
    "# 2019 --\n",
    "#Extract the following columns: \"State\", \"County\", \"Year\", \"Days with AQI\", \"Good Days\"\n",
    "GoodDays_2019_df = aqi_2019_df[[\"State\", \"County\", \"Year\",\n",
    "                           \"Days with AQI\", \"Good Days\", \"Unhealthy Days\"]]\n",
    "\n",
    "# 2020 --\n",
    "#Extract the following columns: \"State\", \"County\", \"Year\", \"Days with AQI\", \"Good Days\"\n",
    "GoodDays_2020_df = aqi_2020_df[[\"State\", \"County\", \"Year\",\n",
    "                           \"Days with AQI\", \"Good Days\", \"Unhealthy Days\"]]\n",
    "\n",
    "GoodDays_2020_df.head()"
   ]
  },
  {
   "cell_type": "code",
   "execution_count": null,
   "metadata": {},
   "outputs": [],
   "source": [
    "#Calculate percentage of good days out of total days with aqi-\n",
    "GoodDays_2015_df['Percent of Good Days'] = (GoodDays_2015_df['Good Days'] / GoodDays_2015_df['Days with AQI']) * 100\n",
    "GoodDays_2016_df['Percent of Good Days'] = (GoodDays_2016_df['Good Days'] / GoodDays_2016_df['Days with AQI']) * 100\n",
    "GoodDays_2017_df['Percent of Good Days'] = (GoodDays_2017_df['Good Days'] / GoodDays_2017_df['Days with AQI']) * 100\n",
    "GoodDays_2018_df['Percent of Good Days'] = (GoodDays_2018_df['Good Days'] / GoodDays_2018_df['Days with AQI']) * 100\n",
    "GoodDays_2019_df['Percent of Good Days'] = (GoodDays_2019_df['Good Days'] / GoodDays_2019_df['Days with AQI']) * 100\n",
    "GoodDays_2020_df['Percent of Good Days'] = (GoodDays_2020_df['Good Days'] / GoodDays_2020_df['Days with AQI']) * 100\n"
   ]
  },
  {
   "cell_type": "code",
   "execution_count": null,
   "metadata": {},
   "outputs": [],
   "source": [
    "#Find the Average Percent for each year\n",
    "avg_pct_2015= GoodDays_2015_df['Percent of Good Days'].mean()\n",
    "avg_pct_2016= GoodDays_2016_df['Percent of Good Days'].mean()\n",
    "avg_pct_2017= GoodDays_2017_df['Percent of Good Days'].mean()\n",
    "avg_pct_2018= GoodDays_2018_df['Percent of Good Days'].mean()\n",
    "avg_pct_2019= GoodDays_2019_df['Percent of Good Days'].mean()\n",
    "avg_pct_2020= GoodDays_2020_df['Percent of Good Days'].mean()\n",
    "\n",
    "\n",
    "#Create new Dictionary that includes these calculations\n",
    "avg_pct_by_year_dict = {\"Average Percent 2015\" : [avg_pct_2015],\n",
    "                   \"Average Percent 2016\" : [avg_pct_2016],\n",
    "                   \"Average Percent 2017\" : [avg_pct_2017],\n",
    "                   \"Average Percent 2018\" : [avg_pct_2018],\n",
    "                   \"Average Percent 2019\" : [avg_pct_2019],\n",
    "                   \"Average Percent 2020\" : [avg_pct_2020]}\n",
    "\n",
    "#Turn dictionary into new DF\n",
    "GoodDay_pct_df = pd.DataFrame(avg_pct_by_year_dict)\n",
    "GoodDay_pct_df.head()\n"
   ]
  },
  {
   "cell_type": "code",
   "execution_count": null,
   "metadata": {},
   "outputs": [],
   "source": [
    "#Create Bar Chart of Average Percents\n",
    "# Create an array that contains the percentage of each year\n",
    "percentages = [81, 83, 82, 81, 85, 88]\n",
    "x_axis = np.arange(len(percentages))\n",
    "\n",
    "# Tell matplotlib that we will be making a bar chart\n",
    "# Users is our y axis and x_axis is, of course, our x axis\n",
    "# We apply align=\"edge\" to ensure our bars line up with our tick marks\n",
    "plt.bar(x_axis, percentages, color='r', alpha=0.5, align=\"center\")\n",
    "\n",
    "# Tell matplotlib where we would like to place each of our x axis headers\n",
    "tick_locations = [value for value in x_axis]\n",
    "plt.xticks(tick_locations, [\"2015\", \"2016\", \"2017\", \"2018\", \"2019\", \"2020\"])\n",
    "\n",
    "# Sets the x limits of the current chart\n",
    "plt.xlim(-0.75, len(x_axis)-0.25)\n",
    "\n",
    "# Sets the y limits of the current chart\n",
    "plt.ylim(0, max(percentages)+12)\n",
    "\n",
    "# Give our chart some labels and a tile\n",
    "plt.title(\"Average Percentage of Good Days per Year\")\n",
    "plt.xlabel(\"Year\")\n",
    "plt.ylabel(\"Percentage out of 100%\")"
   ]
  },
  {
   "cell_type": "code",
   "execution_count": null,
   "metadata": {},
   "outputs": [],
   "source": [
    "# Comparing the top 5 most populous states\n",
    "#Group the DF by state and find the average percentage of that state\n",
    "pctXstate_2015 = GoodDays_2015_df.groupby(\"State\")[\"Percent of Good Days\"].mean()\n",
    "pctXstate_2015_df = pd.DataFrame(pctXstate_2015)\n",
    "\n",
    "pctXstate_2016 = GoodDays_2016_df.groupby(\"State\")[\"Percent of Good Days\"].mean()\n",
    "pctXstate_2016_df = pd.DataFrame(pctXstate_2016)\n",
    "\n",
    "pctXstate_2017 = GoodDays_2017_df.groupby(\"State\")[\"Percent of Good Days\"].mean()\n",
    "pctXstate_2017_df = pd.DataFrame(pctXstate_2017)\n",
    "\n",
    "pctXstate_2018 = GoodDays_2018_df.groupby(\"State\")[\"Percent of Good Days\"].mean()\n",
    "pctXstate_2018_df = pd.DataFrame(pctXstate_2018)\n",
    "\n",
    "pctXstate_2019 = GoodDays_2019_df.groupby(\"State\")[\"Percent of Good Days\"].mean()\n",
    "pctXstate_2019_df = pd.DataFrame(pctXstate_2019)\n",
    "\n",
    "pctXstate_2020 = GoodDays_2020_df.groupby(\"State\")[\"Percent of Good Days\"].mean()\n",
    "pctXstate_2020_df = pd.DataFrame(pctXstate_2020)\n",
    "\n",
    "#print(pctXstate_2019_df)"
   ]
  },
  {
   "cell_type": "code",
   "execution_count": null,
   "metadata": {},
   "outputs": [],
   "source": [
    "stateXpct_plot = pd.DataFrame({\n",
    "    \"2015\" : [57.20, 78.60, 89.21, 84.38, 83.24],\n",
    "    \"2016\" : [61.95, 85.81, 87.84, 87.84, 84.32],\n",
    "    \"2017\" : [57.56, 83.39, 86.45, 90.02, 80.83],\n",
    "    \"2018\" : [57.53, 80.51, 88.28, 88.02, 79.17],\n",
    "    \"2019\" : [69.16, 81.13, 88.74, 91.89, 80.59],\n",
    "    \"2020\" : [71.32, 82.62, 86.32, 91.39, 83.23]},\n",
    "    index=[\"California\", \"Texas\", \"Florida\", \"New York\", \"Illinois\"])\n",
    "\n",
    "\n",
    "stateXpct_plot.plot(kind=\"bar\", color = ['tab:blue','tab:pink','tab:green', 'tab:red', 'tab:purple', 'tab:orange'] )\n",
    "plt.title(\"Top 5 Most Populous States with Avg. % of Good Days\")\n",
    "plt.xlabel(\"State\")\n",
    "plt.ylabel(\"Average Percentage of Good Days\")\n",
    "\n",
    "# Sets the x limits of the current chart\n",
    "plt.xlim(-0.75, len(x_axis)-0.25)\n",
    "\n",
    "# Sets the y limits of the current chart\n",
    "plt.ylim(0, max(percentages)+12)\n",
    "\n",
    "# Tell matplotlib where we would like to place each of our x axis headers\n",
    "tick_locations = [value for value in x_axis]\n",
    "plt.xticks(tick_locations, [\"California\", \"Texas\", \"Florida\", \"New York\", \"Illinois\"],  rotation=\"horizontal\")"
   ]
  },
  {
   "cell_type": "code",
   "execution_count": null,
   "metadata": {},
   "outputs": [],
   "source": [
    "# Alex's Code Ends Here"
   ]
  },
  {
   "cell_type": "code",
   "execution_count": null,
   "metadata": {},
   "outputs": [],
   "source": [
    "# Rachel's Code Starts Here"
   ]
  },
  {
   "cell_type": "code",
   "execution_count": null,
   "metadata": {},
   "outputs": [],
   "source": [
    "# Moderate Days data by County/State for each year\n",
    "# Extract columns: \"State\", \"County\", \"Year\", \"Days with AQI\", \"Moderate Days\"\n",
    "# 2015\n",
    "ModerateDays_2015_df = aqi_2015_df[[\"State\", \"County\", \"Year\", \"Days with AQI\", \"Moderate Days\"]]\n",
    "\n",
    "# 2016\n",
    "ModerateDays_2016_df = aqi_2016_df[[\"State\", \"County\", \"Year\", \"Days with AQI\", \"Moderate Days\"]]\n",
    "\n",
    "# 2017\n",
    "ModerateDays_2017_df = aqi_2017_df[[\"State\", \"County\", \"Year\", \"Days with AQI\", \"Moderate Days\"]]\n",
    "\n",
    "# 2018\n",
    "ModerateDays_2018_df = aqi_2018_df[[\"State\", \"County\", \"Year\", \"Days with AQI\", \"Moderate Days\"]]\n",
    "\n",
    "# 2019\n",
    "ModerateDays_2019_df = aqi_2019_df[[\"State\", \"County\", \"Year\", \"Days with AQI\", \"Moderate Days\"]]\n",
    "\n",
    "# 2020\n",
    "ModerateDays_2020_df = aqi_2020_df[[\"State\", \"County\", \"Year\", \"Days with AQI\", \"Moderate Days\"]]\n"
   ]
  },
  {
   "cell_type": "code",
   "execution_count": null,
   "metadata": {},
   "outputs": [],
   "source": [
    "# CO Days data by County/State for each year\n",
    "# Extract columns: \"State\", \"County\", \"Year\", \"Days with AQI\", \"Moderate Days\"\n",
    "\n",
    "# 2015\n",
    "DaysCO_2015_df = aqi_2015_df[[\"State\", \"County\", \"Year\", \"Days with AQI\", \"Days CO\"]]\n",
    "\n",
    "# 2016\n",
    "DaysCO_2016_df = aqi_2016_df[[\"State\", \"County\", \"Year\", \"Days with AQI\", \"Days CO\"]]\n",
    "\n",
    "# 2017\n",
    "DaysCO_2017_df = aqi_2017_df[[\"State\", \"County\", \"Year\", \"Days with AQI\", \"Days CO\"]]\n",
    "\n",
    "# 2018\n",
    "DaysCO_2018_df = aqi_2018_df[[\"State\", \"County\", \"Year\", \"Days with AQI\", \"Days CO\"]]\n",
    "\n",
    "# 2019\n",
    "DaysCO_2019_df = aqi_2019_df[[\"State\", \"County\", \"Year\", \"Days with AQI\", \"Days CO\"]]\n",
    "\n",
    "# 2020\n",
    "DaysCO_2020_df = aqi_2020_df[[\"State\", \"County\", \"Year\", \"Days with AQI\", \"Days CO\"]]\n",
    "\n",
    "DaysCO_2020_df.head()\n"
   ]
  },
  {
   "cell_type": "code",
   "execution_count": null,
   "metadata": {},
   "outputs": [],
   "source": [
    "# Moderate Days Groupby\n",
    "df15 = aqi_2015_df[['State','County','Year','Moderate Days','Days CO']].copy()\n",
    "df16 = aqi_2016_df[['State','County','Year','Moderate Days','Days CO']].copy()\n",
    "df17 = aqi_2017_df[['State','County','Year','Moderate Days','Days CO']].copy()\n",
    "df18 = aqi_2018_df[['State','County','Year','Moderate Days','Days CO']].copy()\n",
    "df19 = aqi_2019_df[['State','County','Year','Moderate Days','Days CO']].copy()\n",
    "df20 = aqi_2020_df[['State','County','Year','Moderate Days','Days CO']].copy()\n"
   ]
  },
  {
   "cell_type": "code",
   "execution_count": null,
   "metadata": {},
   "outputs": [],
   "source": [
    "full_df = df15.merge(df16,how='outer').merge(df17,how='outer').merge(df18,how='outer').merge(df19,how='outer').merge(df20,how='outer')"
   ]
  },
  {
   "cell_type": "code",
   "execution_count": null,
   "metadata": {},
   "outputs": [],
   "source": [
    "grp = full_df.groupby(['Year','State','County']).sum()\n"
   ]
  },
  {
   "cell_type": "code",
   "execution_count": null,
   "metadata": {},
   "outputs": [],
   "source": [
    "grp.plot(rot=45,figsize=(15,4))"
   ]
  },
  {
   "cell_type": "code",
   "execution_count": null,
   "metadata": {},
   "outputs": [],
   "source": [
    "ny = full_df[full_df.State == 'New York']\n",
    "ny_grp = ny.groupby('Year').sum()\n"
   ]
  },
  {
   "cell_type": "code",
   "execution_count": null,
   "metadata": {},
   "outputs": [],
   "source": [
    "ny_grp.plot()"
   ]
  },
  {
   "cell_type": "code",
   "execution_count": null,
   "metadata": {},
   "outputs": [],
   "source": [
    "# Rachel's Code Ends Here"
   ]
  }
 ],
 "metadata": {
  "kernelspec": {
   "display_name": "Python 3",
   "language": "python",
   "name": "python3"
  },
  "language_info": {
   "codemirror_mode": {
    "name": "ipython",
    "version": 3
   },
   "file_extension": ".py",
   "mimetype": "text/x-python",
   "name": "python",
   "nbconvert_exporter": "python",
   "pygments_lexer": "ipython3",
   "version": "3.6.10"
  }
 },
 "nbformat": 4,
 "nbformat_minor": 4
}
