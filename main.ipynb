{
 "cells": [
  {
   "cell_type": "code",
   "execution_count": 72,
   "metadata": {},
   "outputs": [],
   "source": [
    "import pandas as pd\n",
    "import matplotlib.pyplot as plt\n",
    "import numpy as np"
   ]
  },
  {
   "cell_type": "code",
   "execution_count": 29,
   "metadata": {},
   "outputs": [],
   "source": [
    "aqi_2015_df = pd.read_csv(\"Resources/aqi_2015.csv\")\n",
    "aqi_2016_df = pd.read_csv(\"Resources/aqi_2016.csv\")\n",
    "aqi_2017_df = pd.read_csv(\"Resources/aqi_2017.csv\")\n",
    "aqi_2018_df = pd.read_csv(\"Resources/aqi_2018.csv\")\n",
    "aqi_2019_df = pd.read_csv(\"Resources/aqi_2019.csv\")\n",
    "aqi_2020_df = pd.read_csv(\"Resources/aqi_2020.csv\")"
   ]
  },
  {
   "cell_type": "code",
   "execution_count": 30,
   "metadata": {},
   "outputs": [
    {
     "data": {
      "text/html": [
       "<div>\n",
       "<style scoped>\n",
       "    .dataframe tbody tr th:only-of-type {\n",
       "        vertical-align: middle;\n",
       "    }\n",
       "\n",
       "    .dataframe tbody tr th {\n",
       "        vertical-align: top;\n",
       "    }\n",
       "\n",
       "    .dataframe thead th {\n",
       "        text-align: right;\n",
       "    }\n",
       "</style>\n",
       "<table border=\"1\" class=\"dataframe\">\n",
       "  <thead>\n",
       "    <tr style=\"text-align: right;\">\n",
       "      <th></th>\n",
       "      <th>State</th>\n",
       "      <th>County</th>\n",
       "      <th>Year</th>\n",
       "      <th>Days with AQI</th>\n",
       "      <th>Good Days</th>\n",
       "      <th>Moderate Days</th>\n",
       "      <th>Unhealthy for Sensitive Groups Days</th>\n",
       "      <th>Unhealthy Days</th>\n",
       "      <th>Very Unhealthy Days</th>\n",
       "      <th>Hazardous Days</th>\n",
       "      <th>Max AQI</th>\n",
       "      <th>90th Percentile AQI</th>\n",
       "      <th>Median AQI</th>\n",
       "      <th>Days CO</th>\n",
       "      <th>Days NO2</th>\n",
       "      <th>Days Ozone</th>\n",
       "      <th>Days SO2</th>\n",
       "      <th>Days PM2.5</th>\n",
       "      <th>Days PM10</th>\n",
       "    </tr>\n",
       "  </thead>\n",
       "  <tbody>\n",
       "    <tr>\n",
       "      <th>0</th>\n",
       "      <td>Alabama</td>\n",
       "      <td>Baldwin</td>\n",
       "      <td>2015</td>\n",
       "      <td>264</td>\n",
       "      <td>230</td>\n",
       "      <td>33</td>\n",
       "      <td>1</td>\n",
       "      <td>0</td>\n",
       "      <td>0</td>\n",
       "      <td>0</td>\n",
       "      <td>129</td>\n",
       "      <td>53</td>\n",
       "      <td>38</td>\n",
       "      <td>0</td>\n",
       "      <td>0</td>\n",
       "      <td>189</td>\n",
       "      <td>0</td>\n",
       "      <td>75</td>\n",
       "      <td>0</td>\n",
       "    </tr>\n",
       "    <tr>\n",
       "      <th>1</th>\n",
       "      <td>Alabama</td>\n",
       "      <td>Clay</td>\n",
       "      <td>2015</td>\n",
       "      <td>112</td>\n",
       "      <td>101</td>\n",
       "      <td>11</td>\n",
       "      <td>0</td>\n",
       "      <td>0</td>\n",
       "      <td>0</td>\n",
       "      <td>0</td>\n",
       "      <td>91</td>\n",
       "      <td>50</td>\n",
       "      <td>32</td>\n",
       "      <td>0</td>\n",
       "      <td>0</td>\n",
       "      <td>0</td>\n",
       "      <td>0</td>\n",
       "      <td>112</td>\n",
       "      <td>0</td>\n",
       "    </tr>\n",
       "    <tr>\n",
       "      <th>2</th>\n",
       "      <td>Alabama</td>\n",
       "      <td>Colbert</td>\n",
       "      <td>2015</td>\n",
       "      <td>280</td>\n",
       "      <td>251</td>\n",
       "      <td>29</td>\n",
       "      <td>0</td>\n",
       "      <td>0</td>\n",
       "      <td>0</td>\n",
       "      <td>0</td>\n",
       "      <td>73</td>\n",
       "      <td>51</td>\n",
       "      <td>36</td>\n",
       "      <td>0</td>\n",
       "      <td>0</td>\n",
       "      <td>195</td>\n",
       "      <td>0</td>\n",
       "      <td>85</td>\n",
       "      <td>0</td>\n",
       "    </tr>\n",
       "    <tr>\n",
       "      <th>3</th>\n",
       "      <td>Alabama</td>\n",
       "      <td>DeKalb</td>\n",
       "      <td>2015</td>\n",
       "      <td>363</td>\n",
       "      <td>319</td>\n",
       "      <td>43</td>\n",
       "      <td>1</td>\n",
       "      <td>0</td>\n",
       "      <td>0</td>\n",
       "      <td>0</td>\n",
       "      <td>101</td>\n",
       "      <td>52</td>\n",
       "      <td>37</td>\n",
       "      <td>0</td>\n",
       "      <td>0</td>\n",
       "      <td>307</td>\n",
       "      <td>0</td>\n",
       "      <td>56</td>\n",
       "      <td>0</td>\n",
       "    </tr>\n",
       "    <tr>\n",
       "      <th>4</th>\n",
       "      <td>Alabama</td>\n",
       "      <td>Elmore</td>\n",
       "      <td>2015</td>\n",
       "      <td>233</td>\n",
       "      <td>223</td>\n",
       "      <td>9</td>\n",
       "      <td>1</td>\n",
       "      <td>0</td>\n",
       "      <td>0</td>\n",
       "      <td>0</td>\n",
       "      <td>115</td>\n",
       "      <td>47</td>\n",
       "      <td>35</td>\n",
       "      <td>0</td>\n",
       "      <td>0</td>\n",
       "      <td>233</td>\n",
       "      <td>0</td>\n",
       "      <td>0</td>\n",
       "      <td>0</td>\n",
       "    </tr>\n",
       "  </tbody>\n",
       "</table>\n",
       "</div>"
      ],
      "text/plain": [
       "     State   County  Year  Days with AQI  Good Days  Moderate Days  \\\n",
       "0  Alabama  Baldwin  2015            264        230             33   \n",
       "1  Alabama     Clay  2015            112        101             11   \n",
       "2  Alabama  Colbert  2015            280        251             29   \n",
       "3  Alabama   DeKalb  2015            363        319             43   \n",
       "4  Alabama   Elmore  2015            233        223              9   \n",
       "\n",
       "   Unhealthy for Sensitive Groups Days  Unhealthy Days  Very Unhealthy Days  \\\n",
       "0                                    1               0                    0   \n",
       "1                                    0               0                    0   \n",
       "2                                    0               0                    0   \n",
       "3                                    1               0                    0   \n",
       "4                                    1               0                    0   \n",
       "\n",
       "   Hazardous Days  Max AQI  90th Percentile AQI  Median AQI  Days CO  \\\n",
       "0               0      129                   53          38        0   \n",
       "1               0       91                   50          32        0   \n",
       "2               0       73                   51          36        0   \n",
       "3               0      101                   52          37        0   \n",
       "4               0      115                   47          35        0   \n",
       "\n",
       "   Days NO2  Days Ozone  Days SO2  Days PM2.5  Days PM10  \n",
       "0         0         189         0          75          0  \n",
       "1         0           0         0         112          0  \n",
       "2         0         195         0          85          0  \n",
       "3         0         307         0          56          0  \n",
       "4         0         233         0           0          0  "
      ]
     },
     "execution_count": 30,
     "metadata": {},
     "output_type": "execute_result"
    }
   ],
   "source": [
    "aqi_2015_df.head()"
   ]
  },
  {
   "cell_type": "code",
   "execution_count": 31,
   "metadata": {},
   "outputs": [],
   "source": [
    "# Eric - getting the median AQI, by state, for each year"
   ]
  },
  {
   "cell_type": "code",
   "execution_count": 32,
   "metadata": {},
   "outputs": [],
   "source": [
    "median_aqi_2015 = aqi_2015_df.groupby(\"State\")[\"Median AQI\"].median()\n",
    "median_aqi_2015_df = pd.DataFrame(median_aqi_2015)"
   ]
  },
  {
   "cell_type": "code",
   "execution_count": 33,
   "metadata": {},
   "outputs": [],
   "source": [
    "median_aqi_2016 = aqi_2016_df.groupby(\"State\")[\"Median AQI\"].median()\n",
    "median_aqi_2016_df = pd.DataFrame(median_aqi_2016)"
   ]
  },
  {
   "cell_type": "code",
   "execution_count": 34,
   "metadata": {},
   "outputs": [],
   "source": [
    "median_aqi_2017 = aqi_2017_df.groupby(\"State\")[\"Median AQI\"].median()\n",
    "median_aqi_2017_df = pd.DataFrame(median_aqi_2017)"
   ]
  },
  {
   "cell_type": "code",
   "execution_count": 35,
   "metadata": {},
   "outputs": [],
   "source": [
    "median_aqi_2018 = aqi_2018_df.groupby(\"State\")[\"Median AQI\"].median()\n",
    "median_aqi_2018_df = pd.DataFrame(median_aqi_2018)"
   ]
  },
  {
   "cell_type": "code",
   "execution_count": 36,
   "metadata": {},
   "outputs": [],
   "source": [
    "median_aqi_2019 = aqi_2019_df.groupby(\"State\")[\"Median AQI\"].median()\n",
    "median_aqi_2019_df = pd.DataFrame(median_aqi_2019)"
   ]
  },
  {
   "cell_type": "code",
   "execution_count": 37,
   "metadata": {},
   "outputs": [],
   "source": [
    "median_aqi_2020 = aqi_2020_df.groupby(\"State\")[\"Median AQI\"].median()\n",
    "median_aqi_2020_df = pd.DataFrame(median_aqi_2020)"
   ]
  },
  {
   "cell_type": "code",
   "execution_count": 38,
   "metadata": {},
   "outputs": [],
   "source": [
    "# Merging each median AQI for each year into a single DataFrame\n",
    "median_aqi_by_year_df = pd.merge(median_aqi_2015_df, median_aqi_2016_df, how='left', on='State')\n",
    "median_aqi_by_year_df = median_aqi_by_year_df.rename(columns={\"Median AQI_x\": \"2015\", \"Median AQI_y\": \"2016\"})"
   ]
  },
  {
   "cell_type": "code",
   "execution_count": 39,
   "metadata": {},
   "outputs": [],
   "source": [
    "median_aqi_by_year_df = pd.merge(median_aqi_by_year_df, median_aqi_2017_df, how='left', on='State')\n",
    "median_aqi_by_year_df = median_aqi_by_year_df.rename(columns={\"Median AQI\": \"2017\"})"
   ]
  },
  {
   "cell_type": "code",
   "execution_count": 40,
   "metadata": {},
   "outputs": [],
   "source": [
    "median_aqi_by_year_df = pd.merge(median_aqi_by_year_df, median_aqi_2018_df, how='left', on='State')\n",
    "median_aqi_by_year_df = median_aqi_by_year_df.rename(columns={\"Median AQI\": \"2018\"})"
   ]
  },
  {
   "cell_type": "code",
   "execution_count": 41,
   "metadata": {},
   "outputs": [],
   "source": [
    "median_aqi_by_year_df = pd.merge(median_aqi_by_year_df, median_aqi_2019_df, how='left', on='State')\n",
    "median_aqi_by_year_df = median_aqi_by_year_df.rename(columns={\"Median AQI\": \"2019\"})"
   ]
  },
  {
   "cell_type": "code",
   "execution_count": 42,
   "metadata": {},
   "outputs": [],
   "source": [
    "median_aqi_by_year_df = pd.merge(median_aqi_by_year_df, median_aqi_2020_df, how='left', on='State')\n",
    "median_aqi_by_year_df = median_aqi_by_year_df.rename(columns={\"Median AQI\": \"2020\"})"
   ]
  },
  {
   "cell_type": "code",
   "execution_count": 75,
   "metadata": {},
   "outputs": [
    {
     "data": {
      "text/html": [
       "<div>\n",
       "<style scoped>\n",
       "    .dataframe tbody tr th:only-of-type {\n",
       "        vertical-align: middle;\n",
       "    }\n",
       "\n",
       "    .dataframe tbody tr th {\n",
       "        vertical-align: top;\n",
       "    }\n",
       "\n",
       "    .dataframe thead th {\n",
       "        text-align: right;\n",
       "    }\n",
       "</style>\n",
       "<table border=\"1\" class=\"dataframe\">\n",
       "  <thead>\n",
       "    <tr style=\"text-align: right;\">\n",
       "      <th></th>\n",
       "      <th>2015</th>\n",
       "      <th>2016</th>\n",
       "      <th>2017</th>\n",
       "      <th>2018</th>\n",
       "      <th>2019</th>\n",
       "      <th>2020</th>\n",
       "    </tr>\n",
       "    <tr>\n",
       "      <th>State</th>\n",
       "      <th></th>\n",
       "      <th></th>\n",
       "      <th></th>\n",
       "      <th></th>\n",
       "      <th></th>\n",
       "      <th></th>\n",
       "    </tr>\n",
       "  </thead>\n",
       "  <tbody>\n",
       "    <tr>\n",
       "      <th>Alabama</th>\n",
       "      <td>38.5</td>\n",
       "      <td>40.0</td>\n",
       "      <td>37.0</td>\n",
       "      <td>35.0</td>\n",
       "      <td>39.0</td>\n",
       "      <td>35.0</td>\n",
       "    </tr>\n",
       "    <tr>\n",
       "      <th>Alaska</th>\n",
       "      <td>24.5</td>\n",
       "      <td>31.0</td>\n",
       "      <td>22.0</td>\n",
       "      <td>23.5</td>\n",
       "      <td>19.0</td>\n",
       "      <td>13.0</td>\n",
       "    </tr>\n",
       "    <tr>\n",
       "      <th>Arizona</th>\n",
       "      <td>43.0</td>\n",
       "      <td>44.0</td>\n",
       "      <td>45.0</td>\n",
       "      <td>44.0</td>\n",
       "      <td>45.0</td>\n",
       "      <td>45.0</td>\n",
       "    </tr>\n",
       "    <tr>\n",
       "      <th>Arkansas</th>\n",
       "      <td>34.0</td>\n",
       "      <td>36.0</td>\n",
       "      <td>38.0</td>\n",
       "      <td>35.0</td>\n",
       "      <td>35.0</td>\n",
       "      <td>33.0</td>\n",
       "    </tr>\n",
       "    <tr>\n",
       "      <th>California</th>\n",
       "      <td>45.5</td>\n",
       "      <td>44.0</td>\n",
       "      <td>46.0</td>\n",
       "      <td>45.0</td>\n",
       "      <td>42.0</td>\n",
       "      <td>41.0</td>\n",
       "    </tr>\n",
       "  </tbody>\n",
       "</table>\n",
       "</div>"
      ],
      "text/plain": [
       "            2015  2016  2017  2018  2019  2020\n",
       "State                                         \n",
       "Alabama     38.5  40.0  37.0  35.0  39.0  35.0\n",
       "Alaska      24.5  31.0  22.0  23.5  19.0  13.0\n",
       "Arizona     43.0  44.0  45.0  44.0  45.0  45.0\n",
       "Arkansas    34.0  36.0  38.0  35.0  35.0  33.0\n",
       "California  45.5  44.0  46.0  45.0  42.0  41.0"
      ]
     },
     "execution_count": 75,
     "metadata": {},
     "output_type": "execute_result"
    }
   ],
   "source": [
    "# median AQI for each state by each year\n",
    "median_aqi_by_year_df.head()"
   ]
  },
  {
   "cell_type": "code",
   "execution_count": 44,
   "metadata": {},
   "outputs": [],
   "source": [
    "# Getting the Mean AQI for the United States for each year \n",
    "mean_aqi_2015 = median_aqi_by_year_df[\"2015\"].mean()\n",
    "mean_aqi_2016 = median_aqi_by_year_df[\"2016\"].mean()\n",
    "mean_aqi_2017 = median_aqi_by_year_df[\"2017\"].mean()\n",
    "mean_aqi_2018 = median_aqi_by_year_df[\"2018\"].mean()\n",
    "mean_aqi_2019 = median_aqi_by_year_df[\"2019\"].mean()\n",
    "mean_aqi_2020 = median_aqi_by_year_df[\"2020\"].mean()"
   ]
  },
  {
   "cell_type": "code",
   "execution_count": 48,
   "metadata": {},
   "outputs": [
    {
     "data": {
      "text/html": [
       "<div>\n",
       "<style scoped>\n",
       "    .dataframe tbody tr th:only-of-type {\n",
       "        vertical-align: middle;\n",
       "    }\n",
       "\n",
       "    .dataframe tbody tr th {\n",
       "        vertical-align: top;\n",
       "    }\n",
       "\n",
       "    .dataframe thead th {\n",
       "        text-align: right;\n",
       "    }\n",
       "</style>\n",
       "<table border=\"1\" class=\"dataframe\">\n",
       "  <thead>\n",
       "    <tr style=\"text-align: right;\">\n",
       "      <th></th>\n",
       "      <th>2015</th>\n",
       "      <th>2016</th>\n",
       "      <th>2017</th>\n",
       "      <th>2018</th>\n",
       "      <th>2019</th>\n",
       "      <th>2020</th>\n",
       "    </tr>\n",
       "  </thead>\n",
       "  <tbody>\n",
       "    <tr>\n",
       "      <th>0</th>\n",
       "      <td>37.342593</td>\n",
       "      <td>36.574074</td>\n",
       "      <td>36.851852</td>\n",
       "      <td>35.990741</td>\n",
       "      <td>35.777778</td>\n",
       "      <td>34.666667</td>\n",
       "    </tr>\n",
       "  </tbody>\n",
       "</table>\n",
       "</div>"
      ],
      "text/plain": [
       "        2015       2016       2017       2018       2019       2020\n",
       "0  37.342593  36.574074  36.851852  35.990741  35.777778  34.666667"
      ]
     },
     "execution_count": 48,
     "metadata": {},
     "output_type": "execute_result"
    }
   ],
   "source": [
    "mean_aqi_df = pd.DataFrame({\"2015\": [mean_aqi_2015],\n",
    "                            \"2016\": mean_aqi_2016, \n",
    "                            \"2017\": mean_aqi_2017,\n",
    "                            \"2018\": mean_aqi_2018,\n",
    "                            \"2019\": mean_aqi_2019, \n",
    "                            \"2020\": mean_aqi_2020\n",
    "                           })\n",
    "mean_aqi_df"
   ]
  },
  {
   "cell_type": "code",
   "execution_count": 74,
   "metadata": {},
   "outputs": [
    {
     "data": {
      "image/png": "[encoded data removed]",
      "text/plain": [
       "<Figure size 432x288 with 1 Axes>"
      ]
     },
     "metadata": {
      "needs_background": "light"
     },
     "output_type": "display_data"
    }
   ],
   "source": [
    "# Plotting the mean AQI per year as a line chart\n",
    "years = mean_aqi_df.keys()\n",
    "mean_aqi = mean_aqi_df.mean()\n",
    "\n",
    "plt.plot(years, mean_aqi, label='Mean AQI', marker='o')\n",
    "plt.ylim(0, 40)\n",
    "y_ticks = np.arange(0,40,5)\n",
    "plt.yticks(y_ticks)\n",
    "plt.grid(alpha=.25)\n",
    "plt.title(\"Mean AQI Per Year for United States\")\n",
    "plt.xlabel(\"Year\")\n",
    "plt.ylabel(\"Mean AQI\")\n",
    "plt.show()"
   ]
  },
  {
   "cell_type": "code",
   "execution_count": 109,
   "metadata": {},
   "outputs": [],
   "source": [
    "# Getting the days with CO as main pollutant for each state\n",
    "days_ozone_2015 = aqi_2015_df.groupby('State')['Days Ozone'].sum()\n",
    "days_ozone_2016 = aqi_2016_df.groupby('State')['Days Ozone'].sum()\n",
    "days_ozone_2017 = aqi_2017_df.groupby('State')['Days Ozone'].sum()\n",
    "days_ozone_2018 = aqi_2018_df.groupby('State')['Days Ozone'].sum()\n",
    "days_ozone_2019 = aqi_2019_df.groupby('State')['Days Ozone'].sum()\n",
    "days_ozone_2020 = aqi_2020_df.groupby('State')['Days Ozone'].sum()"
   ]
  },
  {
   "cell_type": "code",
   "execution_count": 110,
   "metadata": {},
   "outputs": [],
   "source": [
    "# Merge all 'Days ozone' data by year into a single DataFrame\n",
    "days_ozone_df = pd.merge(days_ozone_2015, days_ozone_2016, how='left', on='State')\n",
    "days_ozone_df = days_ozone_df.rename(columns={'Days Ozone_x': '2015', 'Days Ozone_y': '2016'})"
   ]
  },
  {
   "cell_type": "code",
   "execution_count": 111,
   "metadata": {},
   "outputs": [],
   "source": [
    "days_ozone_df = pd.merge(days_ozone_df, days_ozone_2017, how='left', on='State')\n",
    "days_ozone_df = days_ozone_df.rename(columns={'Days Ozone': '2017'})"
   ]
  },
  {
   "cell_type": "code",
   "execution_count": 112,
   "metadata": {},
   "outputs": [],
   "source": [
    "days_ozone_df = pd.merge(days_ozone_df, days_ozone_2018, how='left', on='State')\n",
    "days_ozone_df = days_ozone_df.rename(columns={'Days Ozone': '2018'})"
   ]
  },
  {
   "cell_type": "code",
   "execution_count": 113,
   "metadata": {},
   "outputs": [],
   "source": [
    "days_ozone_df = pd.merge(days_ozone_df, days_ozone_2019, how='left', on='State')\n",
    "days_ozone_df = days_ozone_df.rename(columns={'Days Ozone': '2019'})"
   ]
  },
  {
   "cell_type": "code",
   "execution_count": 114,
   "metadata": {},
   "outputs": [],
   "source": [
    "days_ozone_df = pd.merge(days_ozone_df, days_ozone_2020, how='left', on='State')\n",
    "days_ozone_df = days_ozone_df.rename(columns={'Days Ozone': '2020'})"
   ]
  },
  {
   "cell_type": "code",
   "execution_count": 140,
   "metadata": {},
   "outputs": [
    {
     "data": {
      "text/html": [
       "<div>\n",
       "<style scoped>\n",
       "    .dataframe tbody tr th:only-of-type {\n",
       "        vertical-align: middle;\n",
       "    }\n",
       "\n",
       "    .dataframe tbody tr th {\n",
       "        vertical-align: top;\n",
       "    }\n",
       "\n",
       "    .dataframe thead th {\n",
       "        text-align: right;\n",
       "    }\n",
       "</style>\n",
       "<table border=\"1\" class=\"dataframe\">\n",
       "  <thead>\n",
       "    <tr style=\"text-align: right;\">\n",
       "      <th></th>\n",
       "      <th>2015</th>\n",
       "      <th>2016</th>\n",
       "      <th>2017</th>\n",
       "      <th>2018</th>\n",
       "      <th>2019</th>\n",
       "      <th>2020</th>\n",
       "    </tr>\n",
       "    <tr>\n",
       "      <th>State</th>\n",
       "      <th></th>\n",
       "      <th></th>\n",
       "      <th></th>\n",
       "      <th></th>\n",
       "      <th></th>\n",
       "      <th></th>\n",
       "    </tr>\n",
       "  </thead>\n",
       "  <tbody>\n",
       "    <tr>\n",
       "      <th>Alabama</th>\n",
       "      <td>2476</td>\n",
       "      <td>2810</td>\n",
       "      <td>2762</td>\n",
       "      <td>2715</td>\n",
       "      <td>2779</td>\n",
       "      <td>1541</td>\n",
       "    </tr>\n",
       "    <tr>\n",
       "      <th>Alaska</th>\n",
       "      <td>631</td>\n",
       "      <td>740</td>\n",
       "      <td>689</td>\n",
       "      <td>697</td>\n",
       "      <td>480</td>\n",
       "      <td>316</td>\n",
       "    </tr>\n",
       "    <tr>\n",
       "      <th>Arizona</th>\n",
       "      <td>2521</td>\n",
       "      <td>2508</td>\n",
       "      <td>2506</td>\n",
       "      <td>2704</td>\n",
       "      <td>2926</td>\n",
       "      <td>2297</td>\n",
       "    </tr>\n",
       "    <tr>\n",
       "      <th>Arkansas</th>\n",
       "      <td>1735</td>\n",
       "      <td>1821</td>\n",
       "      <td>1543</td>\n",
       "      <td>1573</td>\n",
       "      <td>1585</td>\n",
       "      <td>1241</td>\n",
       "    </tr>\n",
       "    <tr>\n",
       "      <th>California</th>\n",
       "      <td>11594</td>\n",
       "      <td>11949</td>\n",
       "      <td>11331</td>\n",
       "      <td>10766</td>\n",
       "      <td>12947</td>\n",
       "      <td>7966</td>\n",
       "    </tr>\n",
       "  </tbody>\n",
       "</table>\n",
       "</div>"
      ],
      "text/plain": [
       "             2015   2016   2017   2018   2019  2020\n",
       "State                                              \n",
       "Alabama      2476   2810   2762   2715   2779  1541\n",
       "Alaska        631    740    689    697    480   316\n",
       "Arizona      2521   2508   2506   2704   2926  2297\n",
       "Arkansas     1735   1821   1543   1573   1585  1241\n",
       "California  11594  11949  11331  10766  12947  7966"
      ]
     },
     "execution_count": 140,
     "metadata": {},
     "output_type": "execute_result"
    }
   ],
   "source": [
    "days_ozone_df.head()"
   ]
  },
  {
   "cell_type": "code",
   "execution_count": 147,
   "metadata": {},
   "outputs": [
    {
     "data": {
      "text/plain": [
       "3281.1296296296296"
      ]
     },
     "execution_count": 147,
     "metadata": {},
     "output_type": "execute_result"
    }
   ],
   "source": [
    "# Get the mean 'Days Ozone' pollution for each year within the United States\n",
    "ozone_2015 = days_ozone_df['2015'].mean()\n",
    "ozone_2015"
   ]
  },
  {
   "cell_type": "code",
   "execution_count": 148,
   "metadata": {},
   "outputs": [
    {
     "data": {
      "text/plain": [
       "3459.740740740741"
      ]
     },
     "execution_count": 148,
     "metadata": {},
     "output_type": "execute_result"
    }
   ],
   "source": [
    "ozone_2016 = days_ozone_df['2016'].mean()\n",
    "ozone_2016"
   ]
  },
  {
   "cell_type": "code",
   "execution_count": 149,
   "metadata": {},
   "outputs": [
    {
     "data": {
      "text/plain": [
       "3479.8888888888887"
      ]
     },
     "execution_count": 149,
     "metadata": {},
     "output_type": "execute_result"
    }
   ],
   "source": [
    "ozone_2017 = days_ozone_df['2017'].mean()\n",
    "ozone_2017"
   ]
  },
  {
   "cell_type": "code",
   "execution_count": 150,
   "metadata": {},
   "outputs": [
    {
     "data": {
      "text/plain": [
       "3486.296296296296"
      ]
     },
     "execution_count": 150,
     "metadata": {},
     "output_type": "execute_result"
    }
   ],
   "source": [
    "ozone_2018 = days_ozone_df['2018'].mean()\n",
    "ozone_2018"
   ]
  },
  {
   "cell_type": "code",
   "execution_count": 151,
   "metadata": {},
   "outputs": [
    {
     "data": {
      "text/plain": [
       "3551.1666666666665"
      ]
     },
     "execution_count": 151,
     "metadata": {},
     "output_type": "execute_result"
    }
   ],
   "source": [
    "ozone_2019 = days_ozone_df['2019'].mean()\n",
    "ozone_2019"
   ]
  },
  {
   "cell_type": "code",
   "execution_count": 152,
   "metadata": {},
   "outputs": [
    {
     "data": {
      "text/plain": [
       "2369.814814814815"
      ]
     },
     "execution_count": 152,
     "metadata": {},
     "output_type": "execute_result"
    }
   ],
   "source": [
    "ozone_2020 = days_ozone_df['2020'].mean()\n",
    "ozone_2020"
   ]
  },
  {
   "cell_type": "code",
   "execution_count": 154,
   "metadata": {},
   "outputs": [
    {
     "data": {
      "text/html": [
       "<div>\n",
       "<style scoped>\n",
       "    .dataframe tbody tr th:only-of-type {\n",
       "        vertical-align: middle;\n",
       "    }\n",
       "\n",
       "    .dataframe tbody tr th {\n",
       "        vertical-align: top;\n",
       "    }\n",
       "\n",
       "    .dataframe thead th {\n",
       "        text-align: right;\n",
       "    }\n",
       "</style>\n",
       "<table border=\"1\" class=\"dataframe\">\n",
       "  <thead>\n",
       "    <tr style=\"text-align: right;\">\n",
       "      <th></th>\n",
       "      <th>2015</th>\n",
       "      <th>2016</th>\n",
       "      <th>2017</th>\n",
       "      <th>2018</th>\n",
       "      <th>2019</th>\n",
       "      <th>2020</th>\n",
       "    </tr>\n",
       "  </thead>\n",
       "  <tbody>\n",
       "    <tr>\n",
       "      <th>0</th>\n",
       "      <td>3281.12963</td>\n",
       "      <td>3459.740741</td>\n",
       "      <td>3479.888889</td>\n",
       "      <td>3486.296296</td>\n",
       "      <td>3551.166667</td>\n",
       "      <td>2369.814815</td>\n",
       "    </tr>\n",
       "  </tbody>\n",
       "</table>\n",
       "</div>"
      ],
      "text/plain": [
       "         2015         2016         2017         2018         2019         2020\n",
       "0  3281.12963  3459.740741  3479.888889  3486.296296  3551.166667  2369.814815"
      ]
     },
     "execution_count": 154,
     "metadata": {},
     "output_type": "execute_result"
    }
   ],
   "source": [
    "# Create a dataframe of all the mean Ozone days\n",
    "mean_ozone_df = pd.DataFrame({\"2015\": [ozone_2015],\n",
    "                            \"2016\": ozone_2016, \n",
    "                            \"2017\": ozone_2017,\n",
    "                            \"2018\": ozone_2018,\n",
    "                            \"2019\": ozone_2019, \n",
    "                            \"2020\": ozone_2020\n",
    "                           })\n",
    "mean_ozone_df"
   ]
  },
  {
   "cell_type": "code",
   "execution_count": 164,
   "metadata": {},
   "outputs": [
    {
     "data": {
      "image/png": "[encoded data removed]",
      "text/plain": [
       "<Figure size 432x288 with 1 Axes>"
      ]
     },
     "metadata": {
      "needs_background": "light"
     },
     "output_type": "display_data"
    }
   ],
   "source": [
    "# Plotting the mean AQI per year as a line chart\n",
    "mean_ozone = mean_ozone_df.mean()\n",
    "\n",
    "plt.plot(years, mean_ozone, label='Mean AQI', marker='o')\n",
    "plt.ylim(1000, mean_ozone.max()+250)\n",
    "y_ticks = np.arange(1000,mean_ozone.max(),500)\n",
    "plt.yticks(y_ticks)\n",
    "plt.grid(alpha=.25)\n",
    "plt.title(\"Mean Ozone Days Per Year for The United States\")\n",
    "plt.xlabel(\"Year\")\n",
    "plt.ylabel(\"Mean Ozone Days\")\n",
    "plt.show()"
   ]
  },
  {
   "cell_type": "code",
   "execution_count": 19,
   "metadata": {},
   "outputs": [],
   "source": [
    "# Eric Code Ends"
   ]
  },
  {
   "cell_type": "code",
   "execution_count": null,
   "metadata": {},
   "outputs": [],
   "source": []
  }
 ],
 "metadata": {
  "kernelspec": {
   "display_name": "Python 3",
   "language": "python",
   "name": "python3"
  },
  "language_info": {
   "codemirror_mode": {
    "name": "ipython",
    "version": 3
   },
   "file_extension": ".py",
   "mimetype": "text/x-python",
   "name": "python",
   "nbconvert_exporter": "python",
   "pygments_lexer": "ipython3",
   "version": "3.6.10"
  }
 },
 "nbformat": 4,
 "nbformat_minor": 4
}
