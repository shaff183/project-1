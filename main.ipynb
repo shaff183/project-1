{
 "cells": [
  {
   "cell_type": "code",
   "execution_count": null,
   "metadata": {},
   "outputs": [],
   "source": [
    "%matplotlib notebook\n",
    "import pandas as pd\n",
    "import matplotlib.pyplot as plt\n",
    "import numpy as np"
   ]
  },
  {
   "cell_type": "code",
   "execution_count": null,
   "metadata": {},
   "outputs": [],
   "source": [
    "###  A L E X ' S   D A T A  S T A R T S  H E R E  ###"
   ]
  },
  {
   "cell_type": "code",
   "execution_count": null,
   "metadata": {},
   "outputs": [],
   "source": [
    "aqi_2015_df = pd.read_csv(\"Resources/aqi_2015.csv\")\n",
    "aqi_2016_df = pd.read_csv(\"Resources/aqi_2016.csv\")\n",
    "aqi_2017_df = pd.read_csv(\"Resources/aqi_2017.csv\")\n",
    "aqi_2018_df = pd.read_csv(\"Resources/aqi_2018.csv\")\n",
    "aqi_2019_df = pd.read_csv(\"Resources/aqi_2019.csv\")\n",
    "aqi_2020_df = pd.read_csv(\"Resources/aqi_2020.csv\")\n",
    "\n",
    "aqi_2015_df.head()"
   ]
  },
  {
   "cell_type": "code",
   "execution_count": null,
   "metadata": {},
   "outputs": [],
   "source": [
    "# A L E X \n",
    "# QUESTION 1 - NUMBER OF GOOD DAYS \n",
    "#--------------------------------------------------\n",
    "\n",
    "#Create DF for each year's data\n",
    "# 2015 --\n",
    "#Extract the following columns: \"State\", \"County\", \"Year\", \"Days with AQI\", \"Good Days\"\n",
    "GoodDays_2015_df = aqi_2015_df[[\"State\", \"County\", \"Year\",\n",
    "                           \"Days with AQI\", \"Good Days\", \"Unhealthy Days\"]]\n",
    "\n",
    "# 2016 --\n",
    "#Extract the following columns: \"State\", \"County\", \"Year\", \"Days with AQI\", \"Good Days\"\n",
    "GoodDays_2016_df = aqi_2016_df[[\"State\", \"County\", \"Year\",\n",
    "                           \"Days with AQI\", \"Good Days\", \"Unhealthy Days\"]]\n",
    "\n",
    "# 2017 --\n",
    "#Extract the following columns: \"State\", \"County\", \"Year\", \"Days with AQI\", \"Good Days\"\n",
    "GoodDays_2017_df = aqi_2017_df[[\"State\", \"County\", \"Year\",\n",
    "                           \"Days with AQI\", \"Good Days\", \"Unhealthy Days\"]]\n",
    "\n",
    "# 2018 --\n",
    "#Extract the following columns: \"State\", \"County\", \"Year\", \"Days with AQI\", \"Good Days\"\n",
    "GoodDays_2018_df = aqi_2018_df[[\"State\", \"County\", \"Year\",\n",
    "                           \"Days with AQI\", \"Good Days\", \"Unhealthy Days\"]]\n",
    "\n",
    "# 2019 --\n",
    "#Extract the following columns: \"State\", \"County\", \"Year\", \"Days with AQI\", \"Good Days\"\n",
    "GoodDays_2019_df = aqi_2019_df[[\"State\", \"County\", \"Year\",\n",
    "                           \"Days with AQI\", \"Good Days\", \"Unhealthy Days\"]]\n",
    "\n",
    "# 2020 --\n",
    "#Extract the following columns: \"State\", \"County\", \"Year\", \"Days with AQI\", \"Good Days\"\n",
    "GoodDays_2020_df = aqi_2020_df[[\"State\", \"County\", \"Year\",\n",
    "                           \"Days with AQI\", \"Good Days\", \"Unhealthy Days\"]]\n",
    "\n",
    "GoodDays_2020_df.head()"
   ]
  },
  {
   "cell_type": "code",
   "execution_count": null,
   "metadata": {},
   "outputs": [],
   "source": [
    "#Calculate percentage of good days out of total days with aqi-\n",
    "GoodDays_2015_df['Percent of Good Days'] = (GoodDays_2015_df['Good Days'] / GoodDays_2015_df['Days with AQI']) * 100\n",
    "GoodDays_2016_df['Percent of Good Days'] = (GoodDays_2016_df['Good Days'] / GoodDays_2016_df['Days with AQI']) * 100\n",
    "GoodDays_2017_df['Percent of Good Days'] = (GoodDays_2017_df['Good Days'] / GoodDays_2017_df['Days with AQI']) * 100\n",
    "GoodDays_2018_df['Percent of Good Days'] = (GoodDays_2018_df['Good Days'] / GoodDays_2018_df['Days with AQI']) * 100\n",
    "GoodDays_2019_df['Percent of Good Days'] = (GoodDays_2019_df['Good Days'] / GoodDays_2019_df['Days with AQI']) * 100\n",
    "GoodDays_2020_df['Percent of Good Days'] = (GoodDays_2020_df['Good Days'] / GoodDays_2020_df['Days with AQI']) * 100\n"
   ]
  },
  {
   "cell_type": "code",
   "execution_count": null,
   "metadata": {},
   "outputs": [],
   "source": [
    "#----------------------------------------------------------------------\n",
    "#Find the Average Percent for each year\n",
    "avg_pct_2015= GoodDays_2015_df['Percent of Good Days'].mean()\n",
    "avg_pct_2016= GoodDays_2016_df['Percent of Good Days'].mean()\n",
    "avg_pct_2017= GoodDays_2017_df['Percent of Good Days'].mean()\n",
    "avg_pct_2018= GoodDays_2018_df['Percent of Good Days'].mean()\n",
    "avg_pct_2019= GoodDays_2019_df['Percent of Good Days'].mean()\n",
    "avg_pct_2020= GoodDays_2020_df['Percent of Good Days'].mean()\n",
    "\n",
    "\n",
    "#Create new Dictionary that includes these calculations\n",
    "avg_pct_by_year_dict = {\"Average Percent 2015\" : [avg_pct_2015],\n",
    "                   \"Average Percent 2016\" : [avg_pct_2016],\n",
    "                   \"Average Percent 2017\" : [avg_pct_2017],\n",
    "                   \"Average Percent 2018\" : [avg_pct_2018],\n",
    "                   \"Average Percent 2019\" : [avg_pct_2019],\n",
    "                   \"Average Percent 2020\" : [avg_pct_2020]}\n",
    "\n",
    "#Turn dictionary into new DF\n",
    "GoodDay_pct_df = pd.DataFrame(avg_pct_by_year_dict)\n",
    "GoodDay_pct_df.head()\n"
   ]
  },
  {
   "cell_type": "code",
   "execution_count": null,
   "metadata": {},
   "outputs": [],
   "source": [
    "#Create Bar Chart of Average Percents\n",
    "# Create an array that contains the percentage of each year\n",
    "percentages = [81, 83, 82, 81, 85, 88]\n",
    "x_axis = np.arange(len(percentages))\n",
    "\n",
    "# Tell matplotlib that we will be making a bar chart\n",
    "# Users is our y axis and x_axis is, of course, our x axis\n",
    "# We apply align=\"edge\" to ensure our bars line up with our tick marks\n",
    "plt.bar(x_axis, percentages, color='r', alpha=0.5, align=\"center\")\n",
    "\n",
    "# Tell matplotlib where we would like to place each of our x axis headers\n",
    "tick_locations = [value for value in x_axis]\n",
    "plt.xticks(tick_locations, [\"2015\", \"2016\", \"2017\", \"2018\", \"2019\", \"2020\"])\n",
    "\n",
    "# Sets the x limits of the current chart\n",
    "plt.xlim(-0.75, len(x_axis)-0.25)\n",
    "\n",
    "# Sets the y limits of the current chart\n",
    "plt.ylim(0, max(percentages)+12)\n",
    "\n",
    "# Give our chart some labels and a tile\n",
    "plt.title(\"Average Percentage of Good Days per Year\")\n",
    "plt.xlabel(\"Year\")\n",
    "plt.ylabel(\"Percentage out of 100%\")"
   ]
  },
  {
   "cell_type": "code",
   "execution_count": null,
   "metadata": {},
   "outputs": [],
   "source": [
    "# Comparing the top 5 most populous states\n",
    "#Group the DF by state and find the average percentage of that state\n",
    "pctXstate_2015 = GoodDays_2015_df.groupby(\"State\")[\"Percent of Good Days\"].mean()\n",
    "pctXstate_2015_df = pd.DataFrame(pctXstate_2015)\n",
    "\n",
    "pctXstate_2016 = GoodDays_2016_df.groupby(\"State\")[\"Percent of Good Days\"].mean()\n",
    "pctXstate_2016_df = pd.DataFrame(pctXstate_2016)\n",
    "\n",
    "pctXstate_2017 = GoodDays_2017_df.groupby(\"State\")[\"Percent of Good Days\"].mean()\n",
    "pctXstate_2017_df = pd.DataFrame(pctXstate_2017)\n",
    "\n",
    "pctXstate_2018 = GoodDays_2018_df.groupby(\"State\")[\"Percent of Good Days\"].mean()\n",
    "pctXstate_2018_df = pd.DataFrame(pctXstate_2018)\n",
    "\n",
    "pctXstate_2019 = GoodDays_2019_df.groupby(\"State\")[\"Percent of Good Days\"].mean()\n",
    "pctXstate_2019_df = pd.DataFrame(pctXstate_2019)\n",
    "\n",
    "pctXstate_2020 = GoodDays_2020_df.groupby(\"State\")[\"Percent of Good Days\"].mean()\n",
    "pctXstate_2020_df = pd.DataFrame(pctXstate_2020)\n",
    "\n",
    "#print(pctXstate_2019_df)"
   ]
  },
  {
   "cell_type": "code",
   "execution_count": null,
   "metadata": {},
   "outputs": [],
   "source": [
    "stateXpct_plot = pd.DataFrame({\n",
    "    \"2015\" : [57.20, 78.60, 89.21, 84.38, 83.24],\n",
    "    \"2016\" : [61.95, 85.81, 87.84, 87.84, 84.32],\n",
    "    \"2017\" : [57.56, 83.39, 86.45, 90.02, 80.83],\n",
    "    \"2018\" : [57.53, 80.51, 88.28, 88.02, 79.17],\n",
    "    \"2019\" : [69.16, 81.13, 88.74, 91.89, 80.59],\n",
    "    \"2020\" : [71.32, 82.62, 86.32, 91.39, 83.23]},\n",
    "    index=[\"California\", \"Texas\", \"Florida\", \"New York\", \"Illinois\"])\n",
    "\n",
    "\n",
    "stateXpct_plot.plot(kind=\"bar\", color = ['tab:blue','tab:pink','tab:green', 'tab:red', 'tab:purple', 'tab:orange'] )\n",
    "plt.title(\"Top 5 Most Populous States with Avg. % of Good Days\")\n",
    "plt.xlabel(\"State\")\n",
    "plt.ylabel(\"Average Percentage of Good Days\")\n",
    "\n",
    "# Sets the x limits of the current chart\n",
    "plt.xlim(-0.75, len(x_axis)-0.25)\n",
    "\n",
    "# Sets the y limits of the current chart\n",
    "plt.ylim(0, max(percentages)+12)\n",
    "\n",
    "# Tell matplotlib where we would like to place each of our x axis headers\n",
    "tick_locations = [value for value in x_axis]\n",
    "plt.xticks(tick_locations, [\"California\", \"Texas\", \"Florida\", \"New York\", \"Illinois\"],  rotation=\"horizontal\")\n"
   ]
  },
  {
   "cell_type": "code",
   "execution_count": null,
   "metadata": {},
   "outputs": [],
   "source": [
    "###  A L E X ' S  D A T A  E N D S  H E R E  ###"
   ]
  }
 ],
 "metadata": {
  "kernelspec": {
   "display_name": "Python 3",
   "language": "python",
   "name": "python3"
  },
  "language_info": {
   "codemirror_mode": {
    "name": "ipython",
    "version": 3
   },
   "file_extension": ".py",
   "mimetype": "text/x-python",
   "name": "python",
   "nbconvert_exporter": "python",
   "pygments_lexer": "ipython3",
   "version": "3.6.10"
  }
 },
 "nbformat": 4,
 "nbformat_minor": 4
}
