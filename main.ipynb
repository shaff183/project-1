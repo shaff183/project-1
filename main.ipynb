{
 "cells": [
  {
   "cell_type": "code",
   "execution_count": 1,
   "metadata": {},
   "outputs": [],
   "source": [
    "import pandas as pd\n",
    "import matplotlib.pyplot as plt\n",
    "import numpy as np"
   ]
  },
  {
   "cell_type": "code",
   "execution_count": 2,
   "metadata": {},
   "outputs": [],
   "source": [
    "# Reading in all of our data for each year\n",
    "aqi_2015_df = pd.read_csv(\"Resources/aqi_2015.csv\")\n",
    "aqi_2016_df = pd.read_csv(\"Resources/aqi_2016.csv\")\n",
    "aqi_2017_df = pd.read_csv(\"Resources/aqi_2017.csv\")\n",
    "aqi_2018_df = pd.read_csv(\"Resources/aqi_2018.csv\")\n",
    "aqi_2019_df = pd.read_csv(\"Resources/aqi_2019.csv\")\n",
    "aqi_2020_df = pd.read_csv(\"Resources/aqi_2020.csv\")"
   ]
  },
  {
   "cell_type": "code",
   "execution_count": 3,
   "metadata": {},
   "outputs": [
    {
     "data": {
      "text/html": [
       "<div>\n",
       "<style scoped>\n",
       "    .dataframe tbody tr th:only-of-type {\n",
       "        vertical-align: middle;\n",
       "    }\n",
       "\n",
       "    .dataframe tbody tr th {\n",
       "        vertical-align: top;\n",
       "    }\n",
       "\n",
       "    .dataframe thead th {\n",
       "        text-align: right;\n",
       "    }\n",
       "</style>\n",
       "<table border=\"1\" class=\"dataframe\">\n",
       "  <thead>\n",
       "    <tr style=\"text-align: right;\">\n",
       "      <th></th>\n",
       "      <th>State</th>\n",
       "      <th>County</th>\n",
       "      <th>Year</th>\n",
       "      <th>Days with AQI</th>\n",
       "      <th>Good Days</th>\n",
       "      <th>Moderate Days</th>\n",
       "      <th>Unhealthy for Sensitive Groups Days</th>\n",
       "      <th>Unhealthy Days</th>\n",
       "      <th>Very Unhealthy Days</th>\n",
       "      <th>Hazardous Days</th>\n",
       "      <th>Max AQI</th>\n",
       "      <th>90th Percentile AQI</th>\n",
       "      <th>Median AQI</th>\n",
       "      <th>Days CO</th>\n",
       "      <th>Days NO2</th>\n",
       "      <th>Days Ozone</th>\n",
       "      <th>Days SO2</th>\n",
       "      <th>Days PM2.5</th>\n",
       "      <th>Days PM10</th>\n",
       "    </tr>\n",
       "  </thead>\n",
       "  <tbody>\n",
       "    <tr>\n",
       "      <th>0</th>\n",
       "      <td>Alabama</td>\n",
       "      <td>Baldwin</td>\n",
       "      <td>2015</td>\n",
       "      <td>264</td>\n",
       "      <td>230</td>\n",
       "      <td>33</td>\n",
       "      <td>1</td>\n",
       "      <td>0</td>\n",
       "      <td>0</td>\n",
       "      <td>0</td>\n",
       "      <td>129</td>\n",
       "      <td>53</td>\n",
       "      <td>38</td>\n",
       "      <td>0</td>\n",
       "      <td>0</td>\n",
       "      <td>189</td>\n",
       "      <td>0</td>\n",
       "      <td>75</td>\n",
       "      <td>0</td>\n",
       "    </tr>\n",
       "    <tr>\n",
       "      <th>1</th>\n",
       "      <td>Alabama</td>\n",
       "      <td>Clay</td>\n",
       "      <td>2015</td>\n",
       "      <td>112</td>\n",
       "      <td>101</td>\n",
       "      <td>11</td>\n",
       "      <td>0</td>\n",
       "      <td>0</td>\n",
       "      <td>0</td>\n",
       "      <td>0</td>\n",
       "      <td>91</td>\n",
       "      <td>50</td>\n",
       "      <td>32</td>\n",
       "      <td>0</td>\n",
       "      <td>0</td>\n",
       "      <td>0</td>\n",
       "      <td>0</td>\n",
       "      <td>112</td>\n",
       "      <td>0</td>\n",
       "    </tr>\n",
       "    <tr>\n",
       "      <th>2</th>\n",
       "      <td>Alabama</td>\n",
       "      <td>Colbert</td>\n",
       "      <td>2015</td>\n",
       "      <td>280</td>\n",
       "      <td>251</td>\n",
       "      <td>29</td>\n",
       "      <td>0</td>\n",
       "      <td>0</td>\n",
       "      <td>0</td>\n",
       "      <td>0</td>\n",
       "      <td>73</td>\n",
       "      <td>51</td>\n",
       "      <td>36</td>\n",
       "      <td>0</td>\n",
       "      <td>0</td>\n",
       "      <td>195</td>\n",
       "      <td>0</td>\n",
       "      <td>85</td>\n",
       "      <td>0</td>\n",
       "    </tr>\n",
       "    <tr>\n",
       "      <th>3</th>\n",
       "      <td>Alabama</td>\n",
       "      <td>DeKalb</td>\n",
       "      <td>2015</td>\n",
       "      <td>363</td>\n",
       "      <td>319</td>\n",
       "      <td>43</td>\n",
       "      <td>1</td>\n",
       "      <td>0</td>\n",
       "      <td>0</td>\n",
       "      <td>0</td>\n",
       "      <td>101</td>\n",
       "      <td>52</td>\n",
       "      <td>37</td>\n",
       "      <td>0</td>\n",
       "      <td>0</td>\n",
       "      <td>307</td>\n",
       "      <td>0</td>\n",
       "      <td>56</td>\n",
       "      <td>0</td>\n",
       "    </tr>\n",
       "    <tr>\n",
       "      <th>4</th>\n",
       "      <td>Alabama</td>\n",
       "      <td>Elmore</td>\n",
       "      <td>2015</td>\n",
       "      <td>233</td>\n",
       "      <td>223</td>\n",
       "      <td>9</td>\n",
       "      <td>1</td>\n",
       "      <td>0</td>\n",
       "      <td>0</td>\n",
       "      <td>0</td>\n",
       "      <td>115</td>\n",
       "      <td>47</td>\n",
       "      <td>35</td>\n",
       "      <td>0</td>\n",
       "      <td>0</td>\n",
       "      <td>233</td>\n",
       "      <td>0</td>\n",
       "      <td>0</td>\n",
       "      <td>0</td>\n",
       "    </tr>\n",
       "  </tbody>\n",
       "</table>\n",
       "</div>"
      ],
      "text/plain": [
       "     State   County  Year  Days with AQI  Good Days  Moderate Days  \\\n",
       "0  Alabama  Baldwin  2015            264        230             33   \n",
       "1  Alabama     Clay  2015            112        101             11   \n",
       "2  Alabama  Colbert  2015            280        251             29   \n",
       "3  Alabama   DeKalb  2015            363        319             43   \n",
       "4  Alabama   Elmore  2015            233        223              9   \n",
       "\n",
       "   Unhealthy for Sensitive Groups Days  Unhealthy Days  Very Unhealthy Days  \\\n",
       "0                                    1               0                    0   \n",
       "1                                    0               0                    0   \n",
       "2                                    0               0                    0   \n",
       "3                                    1               0                    0   \n",
       "4                                    1               0                    0   \n",
       "\n",
       "   Hazardous Days  Max AQI  90th Percentile AQI  Median AQI  Days CO  \\\n",
       "0               0      129                   53          38        0   \n",
       "1               0       91                   50          32        0   \n",
       "2               0       73                   51          36        0   \n",
       "3               0      101                   52          37        0   \n",
       "4               0      115                   47          35        0   \n",
       "\n",
       "   Days NO2  Days Ozone  Days SO2  Days PM2.5  Days PM10  \n",
       "0         0         189         0          75          0  \n",
       "1         0           0         0         112          0  \n",
       "2         0         195         0          85          0  \n",
       "3         0         307         0          56          0  \n",
       "4         0         233         0           0          0  "
      ]
     },
     "execution_count": 3,
     "metadata": {},
     "output_type": "execute_result"
    }
   ],
   "source": [
    "aqi_2015_df.head()"
   ]
  },
  {
   "cell_type": "code",
   "execution_count": 4,
   "metadata": {},
   "outputs": [],
   "source": [
    "# Eric's Code Starts Here "
   ]
  },
  {
   "cell_type": "code",
   "execution_count": 40,
   "metadata": {},
   "outputs": [],
   "source": [
    "# Getting the mean AQI, by state, for each year"
   ]
  },
  {
   "cell_type": "code",
   "execution_count": 41,
   "metadata": {},
   "outputs": [],
   "source": [
    "mean_aqi_2015 = aqi_2015_df.groupby(\"State\")[\"Median AQI\"].mean()\n",
    "mean_aqi_2015_df = pd.DataFrame(mean_aqi_2015)"
   ]
  },
  {
   "cell_type": "code",
   "execution_count": 42,
   "metadata": {},
   "outputs": [],
   "source": [
    "mean_aqi_2016 = aqi_2016_df.groupby(\"State\")[\"Median AQI\"].mean()\n",
    "mean_aqi_2016_df = pd.DataFrame(mean_aqi_2016)"
   ]
  },
  {
   "cell_type": "code",
   "execution_count": 43,
   "metadata": {},
   "outputs": [],
   "source": [
    "mean_aqi_2017 = aqi_2017_df.groupby(\"State\")[\"Median AQI\"].mean()\n",
    "mean_aqi_2017_df = pd.DataFrame(mean_aqi_2017)"
   ]
  },
  {
   "cell_type": "code",
   "execution_count": 44,
   "metadata": {},
   "outputs": [],
   "source": [
    "mean_aqi_2018 = aqi_2018_df.groupby(\"State\")[\"Median AQI\"].mean()\n",
    "mean_aqi_2018_df = pd.DataFrame(mean_aqi_2018)"
   ]
  },
  {
   "cell_type": "code",
   "execution_count": 45,
   "metadata": {},
   "outputs": [],
   "source": [
    "mean_aqi_2019 = aqi_2019_df.groupby(\"State\")[\"Median AQI\"].mean()\n",
    "mean_aqi_2019_df = pd.DataFrame(mean_aqi_2019)"
   ]
  },
  {
   "cell_type": "code",
   "execution_count": 60,
   "metadata": {},
   "outputs": [],
   "source": [
    "mean_aqi_2020 = aqi_2020_df.groupby(\"State\")[\"Median AQI\"].mean()\n",
    "mean_aqi_2020_df = pd.DataFrame(mean_aqi_2020)"
   ]
  },
  {
   "cell_type": "code",
   "execution_count": 61,
   "metadata": {},
   "outputs": [],
   "source": [
    "# Merging each mean AQI for each year into a single DataFrame\n",
    "mean_aqi_by_year_df = pd.merge(mean_aqi_2015_df, mean_aqi_2016_df, how='left', on='State')\n",
    "mean_aqi_by_year_df = mean_aqi_by_year_df.rename(columns={\"Median AQI_x\": \"2015\", \"Median AQI_y\": \"2016\"})"
   ]
  },
  {
   "cell_type": "code",
   "execution_count": 62,
   "metadata": {},
   "outputs": [],
   "source": [
    "mean_aqi_by_year_df = pd.merge(mean_aqi_by_year_df, mean_aqi_2017_df, how='left', on='State')\n",
    "mean_aqi_by_year_df = mean_aqi_by_year_df.rename(columns={\"Median AQI\": \"2017\"})"
   ]
  },
  {
   "cell_type": "code",
   "execution_count": 63,
   "metadata": {},
   "outputs": [],
   "source": [
    "mean_aqi_by_year_df = pd.merge(mean_aqi_by_year_df, mean_aqi_2018_df, how='left', on='State')\n",
    "mean_aqi_by_year_df = mean_aqi_by_year_df.rename(columns={\"Median AQI\": \"2018\"})"
   ]
  },
  {
   "cell_type": "code",
   "execution_count": 64,
   "metadata": {},
   "outputs": [],
   "source": [
    "mean_aqi_by_year_df = pd.merge(mean_aqi_by_year_df, mean_aqi_2019_df, how='left', on='State')\n",
    "mean_aqi_by_year_df = mean_aqi_by_year_df.rename(columns={\"Median AQI\": \"2019\"})"
   ]
  },
  {
   "cell_type": "code",
   "execution_count": 65,
   "metadata": {},
   "outputs": [],
   "source": [
    "mean_aqi_by_year_df = pd.merge(mean_aqi_by_year_df, mean_aqi_2020_df, how='left', on='State')\n",
    "mean_aqi_by_year_df = mean_aqi_by_year_df.rename(columns={\"Median AQI\": \"2020\"})"
   ]
  },
  {
   "cell_type": "code",
   "execution_count": 66,
   "metadata": {},
   "outputs": [
    {
     "data": {
      "text/html": [
       "<div>\n",
       "<style scoped>\n",
       "    .dataframe tbody tr th:only-of-type {\n",
       "        vertical-align: middle;\n",
       "    }\n",
       "\n",
       "    .dataframe tbody tr th {\n",
       "        vertical-align: top;\n",
       "    }\n",
       "\n",
       "    .dataframe thead th {\n",
       "        text-align: right;\n",
       "    }\n",
       "</style>\n",
       "<table border=\"1\" class=\"dataframe\">\n",
       "  <thead>\n",
       "    <tr style=\"text-align: right;\">\n",
       "      <th></th>\n",
       "      <th>2015</th>\n",
       "      <th>2016</th>\n",
       "      <th>2017</th>\n",
       "      <th>2018</th>\n",
       "      <th>2019</th>\n",
       "      <th>2020</th>\n",
       "    </tr>\n",
       "    <tr>\n",
       "      <th>State</th>\n",
       "      <th></th>\n",
       "      <th></th>\n",
       "      <th></th>\n",
       "      <th></th>\n",
       "      <th></th>\n",
       "      <th></th>\n",
       "    </tr>\n",
       "  </thead>\n",
       "  <tbody>\n",
       "    <tr>\n",
       "      <th>Alabama</th>\n",
       "      <td>39.333333</td>\n",
       "      <td>39.388889</td>\n",
       "      <td>38.277778</td>\n",
       "      <td>36.411765</td>\n",
       "      <td>38.647059</td>\n",
       "      <td>34.333333</td>\n",
       "    </tr>\n",
       "    <tr>\n",
       "      <th>Alaska</th>\n",
       "      <td>23.125000</td>\n",
       "      <td>24.142857</td>\n",
       "      <td>22.000000</td>\n",
       "      <td>22.000000</td>\n",
       "      <td>19.222222</td>\n",
       "      <td>16.333333</td>\n",
       "    </tr>\n",
       "    <tr>\n",
       "      <th>Arizona</th>\n",
       "      <td>43.615385</td>\n",
       "      <td>45.692308</td>\n",
       "      <td>47.230769</td>\n",
       "      <td>44.923077</td>\n",
       "      <td>42.769231</td>\n",
       "      <td>42.769231</td>\n",
       "    </tr>\n",
       "    <tr>\n",
       "      <th>Arkansas</th>\n",
       "      <td>32.454545</td>\n",
       "      <td>33.545455</td>\n",
       "      <td>37.090909</td>\n",
       "      <td>35.416667</td>\n",
       "      <td>36.153846</td>\n",
       "      <td>33.454545</td>\n",
       "    </tr>\n",
       "    <tr>\n",
       "      <th>California</th>\n",
       "      <td>49.592593</td>\n",
       "      <td>46.462963</td>\n",
       "      <td>49.113208</td>\n",
       "      <td>48.943396</td>\n",
       "      <td>43.886792</td>\n",
       "      <td>42.716981</td>\n",
       "    </tr>\n",
       "  </tbody>\n",
       "</table>\n",
       "</div>"
      ],
      "text/plain": [
       "                 2015       2016       2017       2018       2019       2020\n",
       "State                                                                       \n",
       "Alabama     39.333333  39.388889  38.277778  36.411765  38.647059  34.333333\n",
       "Alaska      23.125000  24.142857  22.000000  22.000000  19.222222  16.333333\n",
       "Arizona     43.615385  45.692308  47.230769  44.923077  42.769231  42.769231\n",
       "Arkansas    32.454545  33.545455  37.090909  35.416667  36.153846  33.454545\n",
       "California  49.592593  46.462963  49.113208  48.943396  43.886792  42.716981"
      ]
     },
     "execution_count": 66,
     "metadata": {},
     "output_type": "execute_result"
    }
   ],
   "source": [
    "# mean AQI for each state by each year\n",
    "mean_aqi_by_year_df.head()"
   ]
  },
  {
   "cell_type": "code",
   "execution_count": 67,
   "metadata": {},
   "outputs": [],
   "source": [
    "# Getting the Mean AQI for the United States for each year \n",
    "mean_aqi_2015 = mean_aqi_by_year_df[\"2015\"].mean()\n",
    "mean_aqi_2016 = mean_aqi_by_year_df[\"2016\"].mean()\n",
    "mean_aqi_2017 = mean_aqi_by_year_df[\"2017\"].mean()\n",
    "mean_aqi_2018 = mean_aqi_by_year_df[\"2018\"].mean()\n",
    "mean_aqi_2019 = mean_aqi_by_year_df[\"2019\"].mean()\n",
    "mean_aqi_2020 = mean_aqi_by_year_df[\"2020\"].mean()"
   ]
  },
  {
   "cell_type": "code",
   "execution_count": 68,
   "metadata": {},
   "outputs": [
    {
     "data": {
      "text/html": [
       "<div>\n",
       "<style scoped>\n",
       "    .dataframe tbody tr th:only-of-type {\n",
       "        vertical-align: middle;\n",
       "    }\n",
       "\n",
       "    .dataframe tbody tr th {\n",
       "        vertical-align: top;\n",
       "    }\n",
       "\n",
       "    .dataframe thead th {\n",
       "        text-align: right;\n",
       "    }\n",
       "</style>\n",
       "<table border=\"1\" class=\"dataframe\">\n",
       "  <thead>\n",
       "    <tr style=\"text-align: right;\">\n",
       "      <th></th>\n",
       "      <th>2015</th>\n",
       "      <th>2016</th>\n",
       "      <th>2017</th>\n",
       "      <th>2018</th>\n",
       "      <th>2019</th>\n",
       "      <th>2020</th>\n",
       "    </tr>\n",
       "  </thead>\n",
       "  <tbody>\n",
       "    <tr>\n",
       "      <th>0</th>\n",
       "      <td>36.383476</td>\n",
       "      <td>35.249308</td>\n",
       "      <td>35.577347</td>\n",
       "      <td>34.928742</td>\n",
       "      <td>34.161297</td>\n",
       "      <td>32.665454</td>\n",
       "    </tr>\n",
       "  </tbody>\n",
       "</table>\n",
       "</div>"
      ],
      "text/plain": [
       "        2015       2016       2017       2018       2019       2020\n",
       "0  36.383476  35.249308  35.577347  34.928742  34.161297  32.665454"
      ]
     },
     "execution_count": 68,
     "metadata": {},
     "output_type": "execute_result"
    }
   ],
   "source": [
    "mean_aqi_df = pd.DataFrame({\"2015\": [mean_aqi_2015],\n",
    "                            \"2016\": mean_aqi_2016, \n",
    "                            \"2017\": mean_aqi_2017,\n",
    "                            \"2018\": mean_aqi_2018,\n",
    "                            \"2019\": mean_aqi_2019, \n",
    "                            \"2020\": mean_aqi_2020\n",
    "                           })\n",
    "mean_aqi_df"
   ]
  },
  {
   "cell_type": "code",
   "execution_count": 69,
   "metadata": {},
   "outputs": [
    {
     "data": {
      "image/png": "[encoded data removed]",
      "text/plain": [
       "<Figure size 432x288 with 1 Axes>"
      ]
     },
     "metadata": {
      "needs_background": "light"
     },
     "output_type": "display_data"
    }
   ],
   "source": [
    "# Plotting the mean AQI per year as a line chart\n",
    "years = mean_aqi_df.keys()\n",
    "mean_aqi = mean_aqi_df.mean()\n",
    "\n",
    "plt.plot(years, mean_aqi, label='Mean AQI', marker='o')\n",
    "plt.ylim(0, 40)\n",
    "y_ticks = np.arange(0,40,5)\n",
    "plt.yticks(y_ticks)\n",
    "plt.grid(alpha=.25)\n",
    "plt.title(\"Mean AQI Per Year for United States\")\n",
    "plt.xlabel(\"Year\")\n",
    "plt.ylabel(\"Mean AQI\")\n",
    "plt.savefig(\"Images/Mean_AQI_Per_Year.png\")\n",
    "plt.show()"
   ]
  },
  {
   "cell_type": "code",
   "execution_count": 21,
   "metadata": {},
   "outputs": [],
   "source": [
    "# Getting the days with CO as main pollutant for each state\n",
    "days_ozone_2015 = aqi_2015_df.groupby('State')['Days Ozone'].sum()\n",
    "days_ozone_2016 = aqi_2016_df.groupby('State')['Days Ozone'].sum()\n",
    "days_ozone_2017 = aqi_2017_df.groupby('State')['Days Ozone'].sum()\n",
    "days_ozone_2018 = aqi_2018_df.groupby('State')['Days Ozone'].sum()\n",
    "days_ozone_2019 = aqi_2019_df.groupby('State')['Days Ozone'].sum()\n",
    "days_ozone_2020 = aqi_2020_df.groupby('State')['Days Ozone'].sum()"
   ]
  },
  {
   "cell_type": "code",
   "execution_count": 22,
   "metadata": {},
   "outputs": [],
   "source": [
    "# Merge all 'Days ozone' data by year into a single DataFrame\n",
    "days_ozone_df = pd.merge(days_ozone_2015, days_ozone_2016, how='left', on='State')\n",
    "days_ozone_df = days_ozone_df.rename(columns={'Days Ozone_x': '2015', 'Days Ozone_y': '2016'})"
   ]
  },
  {
   "cell_type": "code",
   "execution_count": 23,
   "metadata": {},
   "outputs": [],
   "source": [
    "days_ozone_df = pd.merge(days_ozone_df, days_ozone_2017, how='left', on='State')\n",
    "days_ozone_df = days_ozone_df.rename(columns={'Days Ozone': '2017'})"
   ]
  },
  {
   "cell_type": "code",
   "execution_count": 24,
   "metadata": {},
   "outputs": [],
   "source": [
    "days_ozone_df = pd.merge(days_ozone_df, days_ozone_2018, how='left', on='State')\n",
    "days_ozone_df = days_ozone_df.rename(columns={'Days Ozone': '2018'})"
   ]
  },
  {
   "cell_type": "code",
   "execution_count": 25,
   "metadata": {},
   "outputs": [],
   "source": [
    "days_ozone_df = pd.merge(days_ozone_df, days_ozone_2019, how='left', on='State')\n",
    "days_ozone_df = days_ozone_df.rename(columns={'Days Ozone': '2019'})"
   ]
  },
  {
   "cell_type": "code",
   "execution_count": 26,
   "metadata": {},
   "outputs": [],
   "source": [
    "days_ozone_df = pd.merge(days_ozone_df, days_ozone_2020, how='left', on='State')\n",
    "days_ozone_df = days_ozone_df.rename(columns={'Days Ozone': '2020'})"
   ]
  },
  {
   "cell_type": "code",
   "execution_count": 27,
   "metadata": {},
   "outputs": [
    {
     "data": {
      "text/html": [
       "<div>\n",
       "<style scoped>\n",
       "    .dataframe tbody tr th:only-of-type {\n",
       "        vertical-align: middle;\n",
       "    }\n",
       "\n",
       "    .dataframe tbody tr th {\n",
       "        vertical-align: top;\n",
       "    }\n",
       "\n",
       "    .dataframe thead th {\n",
       "        text-align: right;\n",
       "    }\n",
       "</style>\n",
       "<table border=\"1\" class=\"dataframe\">\n",
       "  <thead>\n",
       "    <tr style=\"text-align: right;\">\n",
       "      <th></th>\n",
       "      <th>2015</th>\n",
       "      <th>2016</th>\n",
       "      <th>2017</th>\n",
       "      <th>2018</th>\n",
       "      <th>2019</th>\n",
       "      <th>2020</th>\n",
       "    </tr>\n",
       "    <tr>\n",
       "      <th>State</th>\n",
       "      <th></th>\n",
       "      <th></th>\n",
       "      <th></th>\n",
       "      <th></th>\n",
       "      <th></th>\n",
       "      <th></th>\n",
       "    </tr>\n",
       "  </thead>\n",
       "  <tbody>\n",
       "    <tr>\n",
       "      <th>Alabama</th>\n",
       "      <td>2476</td>\n",
       "      <td>2810</td>\n",
       "      <td>2762</td>\n",
       "      <td>2715</td>\n",
       "      <td>2779</td>\n",
       "      <td>1541</td>\n",
       "    </tr>\n",
       "    <tr>\n",
       "      <th>Alaska</th>\n",
       "      <td>631</td>\n",
       "      <td>740</td>\n",
       "      <td>689</td>\n",
       "      <td>697</td>\n",
       "      <td>480</td>\n",
       "      <td>316</td>\n",
       "    </tr>\n",
       "    <tr>\n",
       "      <th>Arizona</th>\n",
       "      <td>2521</td>\n",
       "      <td>2508</td>\n",
       "      <td>2506</td>\n",
       "      <td>2704</td>\n",
       "      <td>2926</td>\n",
       "      <td>2297</td>\n",
       "    </tr>\n",
       "    <tr>\n",
       "      <th>Arkansas</th>\n",
       "      <td>1735</td>\n",
       "      <td>1821</td>\n",
       "      <td>1543</td>\n",
       "      <td>1573</td>\n",
       "      <td>1585</td>\n",
       "      <td>1241</td>\n",
       "    </tr>\n",
       "    <tr>\n",
       "      <th>California</th>\n",
       "      <td>11594</td>\n",
       "      <td>11949</td>\n",
       "      <td>11331</td>\n",
       "      <td>10766</td>\n",
       "      <td>12947</td>\n",
       "      <td>7966</td>\n",
       "    </tr>\n",
       "  </tbody>\n",
       "</table>\n",
       "</div>"
      ],
      "text/plain": [
       "             2015   2016   2017   2018   2019  2020\n",
       "State                                              \n",
       "Alabama      2476   2810   2762   2715   2779  1541\n",
       "Alaska        631    740    689    697    480   316\n",
       "Arizona      2521   2508   2506   2704   2926  2297\n",
       "Arkansas     1735   1821   1543   1573   1585  1241\n",
       "California  11594  11949  11331  10766  12947  7966"
      ]
     },
     "execution_count": 27,
     "metadata": {},
     "output_type": "execute_result"
    }
   ],
   "source": [
    "days_ozone_df.head()"
   ]
  },
  {
   "cell_type": "code",
   "execution_count": 28,
   "metadata": {},
   "outputs": [
    {
     "data": {
      "text/plain": [
       "3281.1296296296296"
      ]
     },
     "execution_count": 28,
     "metadata": {},
     "output_type": "execute_result"
    }
   ],
   "source": [
    "# Get the mean 'Days Ozone' pollution for each year within the United States\n",
    "ozone_2015 = days_ozone_df['2015'].mean()\n",
    "ozone_2015"
   ]
  },
  {
   "cell_type": "code",
   "execution_count": 29,
   "metadata": {},
   "outputs": [
    {
     "data": {
      "text/plain": [
       "3459.740740740741"
      ]
     },
     "execution_count": 29,
     "metadata": {},
     "output_type": "execute_result"
    }
   ],
   "source": [
    "ozone_2016 = days_ozone_df['2016'].mean()\n",
    "ozone_2016"
   ]
  },
  {
   "cell_type": "code",
   "execution_count": 30,
   "metadata": {},
   "outputs": [
    {
     "data": {
      "text/plain": [
       "3479.8888888888887"
      ]
     },
     "execution_count": 30,
     "metadata": {},
     "output_type": "execute_result"
    }
   ],
   "source": [
    "ozone_2017 = days_ozone_df['2017'].mean()\n",
    "ozone_2017"
   ]
  },
  {
   "cell_type": "code",
   "execution_count": 31,
   "metadata": {},
   "outputs": [
    {
     "data": {
      "text/plain": [
       "3486.296296296296"
      ]
     },
     "execution_count": 31,
     "metadata": {},
     "output_type": "execute_result"
    }
   ],
   "source": [
    "ozone_2018 = days_ozone_df['2018'].mean()\n",
    "ozone_2018"
   ]
  },
  {
   "cell_type": "code",
   "execution_count": 32,
   "metadata": {},
   "outputs": [
    {
     "data": {
      "text/plain": [
       "3551.1666666666665"
      ]
     },
     "execution_count": 32,
     "metadata": {},
     "output_type": "execute_result"
    }
   ],
   "source": [
    "ozone_2019 = days_ozone_df['2019'].mean()\n",
    "ozone_2019"
   ]
  },
  {
   "cell_type": "code",
   "execution_count": 33,
   "metadata": {},
   "outputs": [
    {
     "data": {
      "text/plain": [
       "2369.814814814815"
      ]
     },
     "execution_count": 33,
     "metadata": {},
     "output_type": "execute_result"
    }
   ],
   "source": [
    "ozone_2020 = days_ozone_df['2020'].mean()\n",
    "ozone_2020"
   ]
  },
  {
   "cell_type": "code",
   "execution_count": 34,
   "metadata": {},
   "outputs": [
    {
     "data": {
      "text/html": [
       "<div>\n",
       "<style scoped>\n",
       "    .dataframe tbody tr th:only-of-type {\n",
       "        vertical-align: middle;\n",
       "    }\n",
       "\n",
       "    .dataframe tbody tr th {\n",
       "        vertical-align: top;\n",
       "    }\n",
       "\n",
       "    .dataframe thead th {\n",
       "        text-align: right;\n",
       "    }\n",
       "</style>\n",
       "<table border=\"1\" class=\"dataframe\">\n",
       "  <thead>\n",
       "    <tr style=\"text-align: right;\">\n",
       "      <th></th>\n",
       "      <th>2015</th>\n",
       "      <th>2016</th>\n",
       "      <th>2017</th>\n",
       "      <th>2018</th>\n",
       "      <th>2019</th>\n",
       "      <th>2020</th>\n",
       "    </tr>\n",
       "  </thead>\n",
       "  <tbody>\n",
       "    <tr>\n",
       "      <th>0</th>\n",
       "      <td>3281.12963</td>\n",
       "      <td>3459.740741</td>\n",
       "      <td>3479.888889</td>\n",
       "      <td>3486.296296</td>\n",
       "      <td>3551.166667</td>\n",
       "      <td>2369.814815</td>\n",
       "    </tr>\n",
       "  </tbody>\n",
       "</table>\n",
       "</div>"
      ],
      "text/plain": [
       "         2015         2016         2017         2018         2019         2020\n",
       "0  3281.12963  3459.740741  3479.888889  3486.296296  3551.166667  2369.814815"
      ]
     },
     "execution_count": 34,
     "metadata": {},
     "output_type": "execute_result"
    }
   ],
   "source": [
    "# Create a dataframe of all the mean Ozone days\n",
    "mean_ozone_df = pd.DataFrame({\"2015\": [ozone_2015],\n",
    "                            \"2016\": ozone_2016, \n",
    "                            \"2017\": ozone_2017,\n",
    "                            \"2018\": ozone_2018,\n",
    "                            \"2019\": ozone_2019, \n",
    "                            \"2020\": ozone_2020\n",
    "                           })\n",
    "mean_ozone_df"
   ]
  },
  {
   "cell_type": "code",
   "execution_count": 70,
   "metadata": {},
   "outputs": [
    {
     "data": {
      "image/png": "[encoded data removed]",
      "text/plain": [
       "<Figure size 432x288 with 1 Axes>"
      ]
     },
     "metadata": {
      "needs_background": "light"
     },
     "output_type": "display_data"
    }
   ],
   "source": [
    "# Plotting the Number of days Ozone per year as a line chart\n",
    "mean_ozone = mean_ozone_df.mean()\n",
    "\n",
    "plt.plot(years, mean_ozone, label='Mean AQI', marker='o')\n",
    "plt.ylim(1000, mean_ozone.max()+250)\n",
    "y_ticks = np.arange(1000,mean_ozone.max(),500)\n",
    "plt.yticks(y_ticks)\n",
    "plt.grid(alpha=.25)\n",
    "plt.title(\"Mean Ozone Days Per Year for The United States\")\n",
    "plt.xlabel(\"Year\")\n",
    "plt.ylabel(\"Mean Ozone Days\")\n",
    "plt.savefig(\"Images/Days_Ozone_Per_Year\")\n",
    "plt.show()"
   ]
  },
  {
   "cell_type": "code",
   "execution_count": 71,
   "metadata": {},
   "outputs": [],
   "source": [
    "# Eric Code Ends"
   ]
  },
  {
   "cell_type": "code",
   "execution_count": 72,
   "metadata": {},
   "outputs": [],
   "source": [
    "# Alex's Code Starts Here"
   ]
  },
  {
   "cell_type": "code",
   "execution_count": 73,
   "metadata": {},
   "outputs": [
    {
     "data": {
      "text/html": [
       "<div>\n",
       "<style scoped>\n",
       "    .dataframe tbody tr th:only-of-type {\n",
       "        vertical-align: middle;\n",
       "    }\n",
       "\n",
       "    .dataframe tbody tr th {\n",
       "        vertical-align: top;\n",
       "    }\n",
       "\n",
       "    .dataframe thead th {\n",
       "        text-align: right;\n",
       "    }\n",
       "</style>\n",
       "<table border=\"1\" class=\"dataframe\">\n",
       "  <thead>\n",
       "    <tr style=\"text-align: right;\">\n",
       "      <th></th>\n",
       "      <th>State</th>\n",
       "      <th>County</th>\n",
       "      <th>Year</th>\n",
       "      <th>Days with AQI</th>\n",
       "      <th>Good Days</th>\n",
       "      <th>Unhealthy Days</th>\n",
       "    </tr>\n",
       "  </thead>\n",
       "  <tbody>\n",
       "    <tr>\n",
       "      <th>0</th>\n",
       "      <td>Alabama</td>\n",
       "      <td>Baldwin</td>\n",
       "      <td>2020</td>\n",
       "      <td>168</td>\n",
       "      <td>159</td>\n",
       "      <td>0</td>\n",
       "    </tr>\n",
       "    <tr>\n",
       "      <th>1</th>\n",
       "      <td>Alabama</td>\n",
       "      <td>Clay</td>\n",
       "      <td>2020</td>\n",
       "      <td>58</td>\n",
       "      <td>54</td>\n",
       "      <td>0</td>\n",
       "    </tr>\n",
       "    <tr>\n",
       "      <th>2</th>\n",
       "      <td>Alabama</td>\n",
       "      <td>DeKalb</td>\n",
       "      <td>2020</td>\n",
       "      <td>242</td>\n",
       "      <td>234</td>\n",
       "      <td>0</td>\n",
       "    </tr>\n",
       "    <tr>\n",
       "      <th>3</th>\n",
       "      <td>Alabama</td>\n",
       "      <td>Elmore</td>\n",
       "      <td>2020</td>\n",
       "      <td>149</td>\n",
       "      <td>149</td>\n",
       "      <td>0</td>\n",
       "    </tr>\n",
       "    <tr>\n",
       "      <th>4</th>\n",
       "      <td>Alabama</td>\n",
       "      <td>Etowah</td>\n",
       "      <td>2020</td>\n",
       "      <td>169</td>\n",
       "      <td>161</td>\n",
       "      <td>0</td>\n",
       "    </tr>\n",
       "  </tbody>\n",
       "</table>\n",
       "</div>"
      ],
      "text/plain": [
       "     State   County  Year  Days with AQI  Good Days  Unhealthy Days\n",
       "0  Alabama  Baldwin  2020            168        159               0\n",
       "1  Alabama     Clay  2020             58         54               0\n",
       "2  Alabama   DeKalb  2020            242        234               0\n",
       "3  Alabama   Elmore  2020            149        149               0\n",
       "4  Alabama   Etowah  2020            169        161               0"
      ]
     },
     "execution_count": 73,
     "metadata": {},
     "output_type": "execute_result"
    }
   ],
   "source": [
    "# QUESTION 1 - NUMBER OF GOOD DAYS \n",
    "#--------------------------------------------------\n",
    "\n",
    "#Create DF for each year's data\n",
    "# 2015 --\n",
    "#Extract the following columns: \"State\", \"County\", \"Year\", \"Days with AQI\", \"Good Days\"\n",
    "GoodDays_2015_df = aqi_2015_df[[\"State\", \"County\", \"Year\",\n",
    "                           \"Days with AQI\", \"Good Days\", \"Unhealthy Days\"]]\n",
    "\n",
    "# 2016 --\n",
    "#Extract the following columns: \"State\", \"County\", \"Year\", \"Days with AQI\", \"Good Days\"\n",
    "GoodDays_2016_df = aqi_2016_df[[\"State\", \"County\", \"Year\",\n",
    "                           \"Days with AQI\", \"Good Days\", \"Unhealthy Days\"]]\n",
    "\n",
    "# 2017 --\n",
    "#Extract the following columns: \"State\", \"County\", \"Year\", \"Days with AQI\", \"Good Days\"\n",
    "GoodDays_2017_df = aqi_2017_df[[\"State\", \"County\", \"Year\",\n",
    "                           \"Days with AQI\", \"Good Days\", \"Unhealthy Days\"]]\n",
    "\n",
    "# 2018 --\n",
    "#Extract the following columns: \"State\", \"County\", \"Year\", \"Days with AQI\", \"Good Days\"\n",
    "GoodDays_2018_df = aqi_2018_df[[\"State\", \"County\", \"Year\",\n",
    "                           \"Days with AQI\", \"Good Days\", \"Unhealthy Days\"]]\n",
    "\n",
    "# 2019 --\n",
    "#Extract the following columns: \"State\", \"County\", \"Year\", \"Days with AQI\", \"Good Days\"\n",
    "GoodDays_2019_df = aqi_2019_df[[\"State\", \"County\", \"Year\",\n",
    "                           \"Days with AQI\", \"Good Days\", \"Unhealthy Days\"]]\n",
    "\n",
    "# 2020 --\n",
    "#Extract the following columns: \"State\", \"County\", \"Year\", \"Days with AQI\", \"Good Days\"\n",
    "GoodDays_2020_df = aqi_2020_df[[\"State\", \"County\", \"Year\",\n",
    "                           \"Days with AQI\", \"Good Days\", \"Unhealthy Days\"]]\n",
    "\n",
    "GoodDays_2020_df.head()"
   ]
  },
  {
   "cell_type": "code",
   "execution_count": 74,
   "metadata": {},
   "outputs": [
    {
     "name": "stderr",
     "output_type": "stream",
     "text": [
      "/Users/EricShaffer/opt/anaconda3/envs/PythonData/lib/python3.6/site-packages/ipykernel_launcher.py:2: SettingWithCopyWarning: \n",
      "A value is trying to be set on a copy of a slice from a DataFrame.\n",
      "Try using .loc[row_indexer,col_indexer] = value instead\n",
      "\n",
      "See the caveats in the documentation: https://pandas.pydata.org/pandas-docs/stable/user_guide/indexing.html#returning-a-view-versus-a-copy\n",
      "  \n",
      "/Users/EricShaffer/opt/anaconda3/envs/PythonData/lib/python3.6/site-packages/ipykernel_launcher.py:3: SettingWithCopyWarning: \n",
      "A value is trying to be set on a copy of a slice from a DataFrame.\n",
      "Try using .loc[row_indexer,col_indexer] = value instead\n",
      "\n",
      "See the caveats in the documentation: https://pandas.pydata.org/pandas-docs/stable/user_guide/indexing.html#returning-a-view-versus-a-copy\n",
      "  This is separate from the ipykernel package so we can avoid doing imports until\n",
      "/Users/EricShaffer/opt/anaconda3/envs/PythonData/lib/python3.6/site-packages/ipykernel_launcher.py:4: SettingWithCopyWarning: \n",
      "A value is trying to be set on a copy of a slice from a DataFrame.\n",
      "Try using .loc[row_indexer,col_indexer] = value instead\n",
      "\n",
      "See the caveats in the documentation: https://pandas.pydata.org/pandas-docs/stable/user_guide/indexing.html#returning-a-view-versus-a-copy\n",
      "  after removing the cwd from sys.path.\n",
      "/Users/EricShaffer/opt/anaconda3/envs/PythonData/lib/python3.6/site-packages/ipykernel_launcher.py:5: SettingWithCopyWarning: \n",
      "A value is trying to be set on a copy of a slice from a DataFrame.\n",
      "Try using .loc[row_indexer,col_indexer] = value instead\n",
      "\n",
      "See the caveats in the documentation: https://pandas.pydata.org/pandas-docs/stable/user_guide/indexing.html#returning-a-view-versus-a-copy\n",
      "  \"\"\"\n",
      "/Users/EricShaffer/opt/anaconda3/envs/PythonData/lib/python3.6/site-packages/ipykernel_launcher.py:6: SettingWithCopyWarning: \n",
      "A value is trying to be set on a copy of a slice from a DataFrame.\n",
      "Try using .loc[row_indexer,col_indexer] = value instead\n",
      "\n",
      "See the caveats in the documentation: https://pandas.pydata.org/pandas-docs/stable/user_guide/indexing.html#returning-a-view-versus-a-copy\n",
      "  \n",
      "/Users/EricShaffer/opt/anaconda3/envs/PythonData/lib/python3.6/site-packages/ipykernel_launcher.py:7: SettingWithCopyWarning: \n",
      "A value is trying to be set on a copy of a slice from a DataFrame.\n",
      "Try using .loc[row_indexer,col_indexer] = value instead\n",
      "\n",
      "See the caveats in the documentation: https://pandas.pydata.org/pandas-docs/stable/user_guide/indexing.html#returning-a-view-versus-a-copy\n",
      "  import sys\n"
     ]
    }
   ],
   "source": [
    "#Calculate percentage of good days out of total days with aqi-\n",
    "GoodDays_2015_df['Percent of Good Days'] = (GoodDays_2015_df['Good Days'] / GoodDays_2015_df['Days with AQI']) * 100\n",
    "GoodDays_2016_df['Percent of Good Days'] = (GoodDays_2016_df['Good Days'] / GoodDays_2016_df['Days with AQI']) * 100\n",
    "GoodDays_2017_df['Percent of Good Days'] = (GoodDays_2017_df['Good Days'] / GoodDays_2017_df['Days with AQI']) * 100\n",
    "GoodDays_2018_df['Percent of Good Days'] = (GoodDays_2018_df['Good Days'] / GoodDays_2018_df['Days with AQI']) * 100\n",
    "GoodDays_2019_df['Percent of Good Days'] = (GoodDays_2019_df['Good Days'] / GoodDays_2019_df['Days with AQI']) * 100\n",
    "GoodDays_2020_df['Percent of Good Days'] = (GoodDays_2020_df['Good Days'] / GoodDays_2020_df['Days with AQI']) * 100\n"
   ]
  },
  {
   "cell_type": "code",
   "execution_count": 75,
   "metadata": {},
   "outputs": [
    {
     "data": {
      "text/html": [
       "<div>\n",
       "<style scoped>\n",
       "    .dataframe tbody tr th:only-of-type {\n",
       "        vertical-align: middle;\n",
       "    }\n",
       "\n",
       "    .dataframe tbody tr th {\n",
       "        vertical-align: top;\n",
       "    }\n",
       "\n",
       "    .dataframe thead th {\n",
       "        text-align: right;\n",
       "    }\n",
       "</style>\n",
       "<table border=\"1\" class=\"dataframe\">\n",
       "  <thead>\n",
       "    <tr style=\"text-align: right;\">\n",
       "      <th></th>\n",
       "      <th>Average Percent 2015</th>\n",
       "      <th>Average Percent 2016</th>\n",
       "      <th>Average Percent 2017</th>\n",
       "      <th>Average Percent 2018</th>\n",
       "      <th>Average Percent 2019</th>\n",
       "      <th>Average Percent 2020</th>\n",
       "    </tr>\n",
       "  </thead>\n",
       "  <tbody>\n",
       "    <tr>\n",
       "      <th>0</th>\n",
       "      <td>80.685607</td>\n",
       "      <td>83.375436</td>\n",
       "      <td>82.152143</td>\n",
       "      <td>81.28011</td>\n",
       "      <td>84.658307</td>\n",
       "      <td>88.191122</td>\n",
       "    </tr>\n",
       "  </tbody>\n",
       "</table>\n",
       "</div>"
      ],
      "text/plain": [
       "   Average Percent 2015  Average Percent 2016  Average Percent 2017  \\\n",
       "0             80.685607             83.375436             82.152143   \n",
       "\n",
       "   Average Percent 2018  Average Percent 2019  Average Percent 2020  \n",
       "0              81.28011             84.658307             88.191122  "
      ]
     },
     "execution_count": 75,
     "metadata": {},
     "output_type": "execute_result"
    }
   ],
   "source": [
    "#Find the Average Percent for each year\n",
    "avg_pct_2015= GoodDays_2015_df['Percent of Good Days'].mean()\n",
    "avg_pct_2016= GoodDays_2016_df['Percent of Good Days'].mean()\n",
    "avg_pct_2017= GoodDays_2017_df['Percent of Good Days'].mean()\n",
    "avg_pct_2018= GoodDays_2018_df['Percent of Good Days'].mean()\n",
    "avg_pct_2019= GoodDays_2019_df['Percent of Good Days'].mean()\n",
    "avg_pct_2020= GoodDays_2020_df['Percent of Good Days'].mean()\n",
    "\n",
    "\n",
    "#Create new Dictionary that includes these calculations\n",
    "avg_pct_by_year_dict = {\"Average Percent 2015\" : [avg_pct_2015],\n",
    "                   \"Average Percent 2016\" : [avg_pct_2016],\n",
    "                   \"Average Percent 2017\" : [avg_pct_2017],\n",
    "                   \"Average Percent 2018\" : [avg_pct_2018],\n",
    "                   \"Average Percent 2019\" : [avg_pct_2019],\n",
    "                   \"Average Percent 2020\" : [avg_pct_2020]}\n",
    "\n",
    "#Turn dictionary into new DF\n",
    "GoodDay_pct_df = pd.DataFrame(avg_pct_by_year_dict)\n",
    "GoodDay_pct_df.head()\n"
   ]
  },
  {
   "cell_type": "code",
   "execution_count": 76,
   "metadata": {},
   "outputs": [
    {
     "data": {
      "text/plain": [
       "Text(0, 0.5, 'Percentage out of 100%')"
      ]
     },
     "execution_count": 76,
     "metadata": {},
     "output_type": "execute_result"
    },
    {
     "data": {
      "image/png": "[encoded data removed]",
      "text/plain": [
       "<Figure size 432x288 with 1 Axes>"
      ]
     },
     "metadata": {
      "needs_background": "light"
     },
     "output_type": "display_data"
    }
   ],
   "source": [
    "#Create Bar Chart of Average Percents\n",
    "# Create an array that contains the percentage of each year\n",
    "percentages = [81, 83, 82, 81, 85, 88]\n",
    "x_axis = np.arange(len(percentages))\n",
    "\n",
    "# Tell matplotlib that we will be making a bar chart\n",
    "# Users is our y axis and x_axis is, of course, our x axis\n",
    "# We apply align=\"edge\" to ensure our bars line up with our tick marks\n",
    "plt.bar(x_axis, percentages, color='r', alpha=0.5, align=\"center\")\n",
    "\n",
    "# Tell matplotlib where we would like to place each of our x axis headers\n",
    "tick_locations = [value for value in x_axis]\n",
    "plt.xticks(tick_locations, [\"2015\", \"2016\", \"2017\", \"2018\", \"2019\", \"2020\"])\n",
    "\n",
    "# Sets the x limits of the current chart\n",
    "plt.xlim(-0.75, len(x_axis)-0.25)\n",
    "\n",
    "# Sets the y limits of the current chart\n",
    "plt.ylim(0, max(percentages)+12)\n",
    "\n",
    "# Give our chart some labels and a tile\n",
    "plt.title(\"Average Percentage of Good Days per Year\")\n",
    "plt.xlabel(\"Year\")\n",
    "plt.ylabel(\"Percentage out of 100%\")"
   ]
  },
  {
   "cell_type": "code",
   "execution_count": 77,
   "metadata": {},
   "outputs": [],
   "source": [
    "# Comparing the top 5 most populous states\n",
    "#Group the DF by state and find the average percentage of that state\n",
    "pctXstate_2015 = GoodDays_2015_df.groupby(\"State\")[\"Percent of Good Days\"].mean()\n",
    "pctXstate_2015_df = pd.DataFrame(pctXstate_2015)\n",
    "\n",
    "pctXstate_2016 = GoodDays_2016_df.groupby(\"State\")[\"Percent of Good Days\"].mean()\n",
    "pctXstate_2016_df = pd.DataFrame(pctXstate_2016)\n",
    "\n",
    "pctXstate_2017 = GoodDays_2017_df.groupby(\"State\")[\"Percent of Good Days\"].mean()\n",
    "pctXstate_2017_df = pd.DataFrame(pctXstate_2017)\n",
    "\n",
    "pctXstate_2018 = GoodDays_2018_df.groupby(\"State\")[\"Percent of Good Days\"].mean()\n",
    "pctXstate_2018_df = pd.DataFrame(pctXstate_2018)\n",
    "\n",
    "pctXstate_2019 = GoodDays_2019_df.groupby(\"State\")[\"Percent of Good Days\"].mean()\n",
    "pctXstate_2019_df = pd.DataFrame(pctXstate_2019)\n",
    "\n",
    "pctXstate_2020 = GoodDays_2020_df.groupby(\"State\")[\"Percent of Good Days\"].mean()\n",
    "pctXstate_2020_df = pd.DataFrame(pctXstate_2020)\n",
    "\n",
    "#print(pctXstate_2019_df)"
   ]
  },
  {
   "cell_type": "code",
   "execution_count": 78,
   "metadata": {},
   "outputs": [
    {
     "data": {
      "text/plain": [
       "([<matplotlib.axis.XTick at 0x7fb8e1855b00>,\n",
       "  <matplotlib.axis.XTick at 0x7fb8e1855ac8>,\n",
       "  <matplotlib.axis.XTick at 0x7fb8e18e27b8>,\n",
       "  <matplotlib.axis.XTick at 0x7fb8e18e29b0>,\n",
       "  <matplotlib.axis.XTick at 0x7fb8e18ed128>,\n",
       "  <matplotlib.axis.XTick at 0x7fb8e18e29e8>],\n",
       " [Text(0, 0, 'California'),\n",
       "  Text(0, 0, 'Texas'),\n",
       "  Text(0, 0, 'Florida'),\n",
       "  Text(0, 0, 'New York'),\n",
       "  Text(0, 0, 'Illinois')])"
      ]
     },
     "execution_count": 78,
     "metadata": {},
     "output_type": "execute_result"
    },
    {
     "data": {
      "image/png": "[encoded data removed]",
      "text/plain": [
       "<Figure size 432x288 with 1 Axes>"
      ]
     },
     "metadata": {
      "needs_background": "light"
     },
     "output_type": "display_data"
    }
   ],
   "source": [
    "stateXpct_plot = pd.DataFrame({\n",
    "    \"2015\" : [57.20, 78.60, 89.21, 84.38, 83.24],\n",
    "    \"2016\" : [61.95, 85.81, 87.84, 87.84, 84.32],\n",
    "    \"2017\" : [57.56, 83.39, 86.45, 90.02, 80.83],\n",
    "    \"2018\" : [57.53, 80.51, 88.28, 88.02, 79.17],\n",
    "    \"2019\" : [69.16, 81.13, 88.74, 91.89, 80.59],\n",
    "    \"2020\" : [71.32, 82.62, 86.32, 91.39, 83.23]},\n",
    "    index=[\"California\", \"Texas\", \"Florida\", \"New York\", \"Illinois\"])\n",
    "\n",
    "\n",
    "stateXpct_plot.plot(kind=\"bar\", color = ['tab:blue','tab:pink','tab:green', 'tab:red', 'tab:purple', 'tab:orange'] )\n",
    "plt.title(\"Top 5 Most Populous States with Avg. % of Good Days\")\n",
    "plt.xlabel(\"State\")\n",
    "plt.ylabel(\"Average Percentage of Good Days\")\n",
    "\n",
    "# Sets the x limits of the current chart\n",
    "plt.xlim(-0.75, len(x_axis)-0.25)\n",
    "\n",
    "# Sets the y limits of the current chart\n",
    "plt.ylim(0, max(percentages)+12)\n",
    "\n",
    "# Tell matplotlib where we would like to place each of our x axis headers\n",
    "tick_locations = [value for value in x_axis]\n",
    "plt.xticks(tick_locations, [\"California\", \"Texas\", \"Florida\", \"New York\", \"Illinois\"],  rotation=\"horizontal\")"
   ]
  },
  {
   "cell_type": "code",
   "execution_count": 79,
   "metadata": {},
   "outputs": [],
   "source": [
    "# Alex's Code Ends Here"
   ]
  },
  {
   "cell_type": "code",
   "execution_count": 80,
   "metadata": {},
   "outputs": [],
   "source": [
    "# Rachel's Code Starts Here"
   ]
  },
  {
   "cell_type": "code",
   "execution_count": null,
   "metadata": {},
   "outputs": [],
   "source": []
  },
  {
   "cell_type": "code",
   "execution_count": null,
   "metadata": {},
   "outputs": [],
   "source": [
    "# Rachel's Code Ends Here"
   ]
  }
 ],
 "metadata": {
  "kernelspec": {
   "display_name": "Python 3",
   "language": "python",
   "name": "python3"
  },
  "language_info": {
   "codemirror_mode": {
    "name": "ipython",
    "version": 3
   },
   "file_extension": ".py",
   "mimetype": "text/x-python",
   "name": "python",
   "nbconvert_exporter": "python",
   "pygments_lexer": "ipython3",
   "version": "3.6.10"
  }
 },
 "nbformat": 4,
 "nbformat_minor": 4
}
