{
 "cells": [
  {
   "cell_type": "code",
   "execution_count": null,
   "metadata": {},
   "outputs": [],
   "source": [
    "import pandas as pd\n",
    "import matplotlib.pyplot as plt"
   ]
  },
  {
   "cell_type": "code",
   "execution_count": null,
   "metadata": {},
   "outputs": [],
   "source": [
    "aqi_2015_df = pd.read_csv(\"Resources/aqi_2015.csv\")\n",
    "aqi_2016_df = pd.read_csv(\"Resources/aqi_2016.csv\")\n",
    "aqi_2017_df = pd.read_csv(\"Resources/aqi_2017.csv\")\n",
    "aqi_2018_df = pd.read_csv(\"Resources/aqi_2018.csv\")\n",
    "aqi_2019_df = pd.read_csv(\"Resources/aqi_2019.csv\")\n",
    "aqi_2020_df = pd.read_csv(\"Resources/aqi_2020.csv\")"
   ]
  },
  {
   "cell_type": "code",
   "execution_count": null,
   "metadata": {},
   "outputs": [],
   "source": [
    "aqi_2015_df.head()"
   ]
  },
  {
   "cell_type": "code",
   "execution_count": null,
   "metadata": {},
   "outputs": [],
   "source": [
    "# Eric - getting the median AQI, by state, for each year"
   ]
  },
  {
   "cell_type": "code",
   "execution_count": null,
   "metadata": {},
   "outputs": [],
   "source": [
    "median_aqi_2015 = aqi_2015_df.groupby(\"State\")[\"Median AQI\"].median()\n",
    "median_aqi_2015_df = pd.DataFrame(median_aqi_2015)"
   ]
  },
  {
   "cell_type": "code",
   "execution_count": null,
   "metadata": {},
   "outputs": [],
   "source": [
    "median_aqi_2016 = aqi_2016_df.groupby(\"State\")[\"Median AQI\"].median()\n",
    "median_aqi_2016_df = pd.DataFrame(median_aqi_2016)"
   ]
  },
  {
   "cell_type": "code",
   "execution_count": null,
   "metadata": {},
   "outputs": [],
   "source": [
    "median_aqi_2017 = aqi_2017_df.groupby(\"State\")[\"Median AQI\"].median()\n",
    "median_aqi_2017_df = pd.DataFrame(median_aqi_2017)"
   ]
  },
  {
   "cell_type": "code",
   "execution_count": null,
   "metadata": {},
   "outputs": [],
   "source": [
    "median_aqi_2018 = aqi_2018_df.groupby(\"State\")[\"Median AQI\"].median()\n",
    "median_aqi_2018_df = pd.DataFrame(median_aqi_2018)"
   ]
  },
  {
   "cell_type": "code",
   "execution_count": null,
   "metadata": {},
   "outputs": [],
   "source": [
    "median_aqi_2019 = aqi_2019_df.groupby(\"State\")[\"Median AQI\"].median()\n",
    "median_aqi_2019_df = pd.DataFrame(median_aqi_2019)"
   ]
  },
  {
   "cell_type": "code",
   "execution_count": null,
   "metadata": {},
   "outputs": [],
   "source": [
    "median_aqi_2020 = aqi_2020_df.groupby(\"State\")[\"Median AQI\"].median()\n",
    "median_aqi_2020_df = pd.DataFrame(median_aqi_2020)"
   ]
  },
  {
   "cell_type": "code",
   "execution_count": null,
   "metadata": {},
   "outputs": [],
   "source": [
    "# Merging each median AQI for each year into a single DataFrame\n",
    "median_aqi_by_year_df = pd.merge(median_aqi_2015_df, median_aqi_2016_df, how='left', on='State')\n",
    "median_aqi_by_year_df = median_aqi_by_year_df.rename(columns={\"Median AQI_x\": \"2015\", \"Median AQI_y\": \"2016\"})"
   ]
  },
  {
   "cell_type": "code",
   "execution_count": null,
   "metadata": {},
   "outputs": [],
   "source": [
    "median_aqi_by_year_df = pd.merge(median_aqi_by_year_df, median_aqi_2017_df, how='left', on='State')\n",
    "median_aqi_by_year_df = median_aqi_by_year_df.rename(columns={\"Median AQI\": \"2017\"})"
   ]
  },
  {
   "cell_type": "code",
   "execution_count": null,
   "metadata": {},
   "outputs": [],
   "source": [
    "median_aqi_by_year_df = pd.merge(median_aqi_by_year_df, median_aqi_2018_df, how='left', on='State')\n",
    "median_aqi_by_year_df = median_aqi_by_year_df.rename(columns={\"Median AQI\": \"2018\"})"
   ]
  },
  {
   "cell_type": "code",
   "execution_count": null,
   "metadata": {},
   "outputs": [],
   "source": [
    "median_aqi_by_year_df = pd.merge(median_aqi_by_year_df, median_aqi_2019_df, how='left', on='State')\n",
    "median_aqi_by_year_df = median_aqi_by_year_df.rename(columns={\"Median AQI\": \"2019\"})"
   ]
  },
  {
   "cell_type": "code",
   "execution_count": null,
   "metadata": {},
   "outputs": [],
   "source": [
    "median_aqi_by_year_df = pd.merge(median_aqi_by_year_df, median_aqi_2020_df, how='left', on='State')\n",
    "median_aqi_by_year_df = median_aqi_by_year_df.rename(columns={\"Median AQI\": \"2020\"})"
   ]
  },
  {
   "cell_type": "code",
   "execution_count": null,
   "metadata": {
    "scrolled": true
   },
   "outputs": [],
   "source": [
    "# median AQI for each state by each year\n",
    "median_aqi_by_year_df"
   ]
  },
  {
   "cell_type": "code",
   "execution_count": null,
   "metadata": {
    "scrolled": true
   },
   "outputs": [],
   "source": [
    "# Rachel\n",
    "# Moderate Days data by County/State for each year\n",
    "\n",
    "# Extract columns: \"State\", \"County\", \"Year\", \"Days with AQI\", \"Moderate Days\"\n",
    "\n",
    "# 2015\n",
    "ModerateDays_2015_df = aqi_2015_df[[\"State\", \"County\", \"Year\", \"Days with AQI\", \"Moderate Days\"]]\n",
    "\n",
    "# 2016\n",
    "ModerateDays_2016_df = aqi_2016_df[[\"State\", \"County\", \"Year\", \"Days with AQI\", \"Moderate Days\"]]\n",
    "\n",
    "# 2017\n",
    "ModerateDays_2017_df = aqi_2017_df[[\"State\", \"County\", \"Year\", \"Days with AQI\", \"Moderate Days\"]]\n",
    "\n",
    "# 2018\n",
    "ModerateDays_2018_df = aqi_2018_df[[\"State\", \"County\", \"Year\", \"Days with AQI\", \"Moderate Days\"]]\n",
    "\n",
    "# 2019\n",
    "ModerateDays_2019_df = aqi_2019_df[[\"State\", \"County\", \"Year\", \"Days with AQI\", \"Moderate Days\"]]\n",
    "\n",
    "# 2020\n",
    "ModerateDays_2020_df = aqi_2020_df[[\"State\", \"County\", \"Year\", \"Days with AQI\", \"Moderate Days\"]]\n",
    "\n",
    "ModerateDays_2020_df.head()"
   ]
  },
  {
   "cell_type": "code",
   "execution_count": null,
   "metadata": {},
   "outputs": [],
   "source": [
    "# Rachel\n",
    "# CO Days data by County/State for each year\n",
    "# Extract columns: \"State\", \"County\", \"Year\", \"Days with AQI\", \"Moderate Days\"\n",
    "\n",
    "# 2015\n",
    "DaysCO_2015_df = aqi_2015_df[[\"State\", \"County\", \"Year\", \"Days with AQI\", \"Days CO\"]]\n",
    "\n",
    "# 2016\n",
    "DaysCO_2016_df = aqi_2016_df[[\"State\", \"County\", \"Year\", \"Days with AQI\", \"Days CO\"]]\n",
    "\n",
    "# 2017\n",
    "DaysCO_2017_df = aqi_2017_df[[\"State\", \"County\", \"Year\", \"Days with AQI\", \"Days CO\"]]\n",
    "\n",
    "# 2018\n",
    "DaysCO_2018_df = aqi_2018_df[[\"State\", \"County\", \"Year\", \"Days with AQI\", \"Days CO\"]]\n",
    "\n",
    "# 2019\n",
    "DaysCO_2019_df = aqi_2019_df[[\"State\", \"County\", \"Year\", \"Days with AQI\", \"Days CO\"]]\n",
    "\n",
    "# 2020\n",
    "DaysCO_2020_df = aqi_2020_df[[\"State\", \"County\", \"Year\", \"Days with AQI\", \"Days CO\"]]\n",
    "\n",
    "DaysCO_2020_df.head()"
   ]
  },
  {
   "cell_type": "code",
   "execution_count": null,
   "metadata": {},
   "outputs": [],
   "source": [
    "# Moderate Days Groupby\n"
   ]
  }
 ],
 "metadata": {
  "kernelspec": {
   "display_name": "Python 3",
   "language": "python",
   "name": "python3"
  },
  "language_info": {
   "codemirror_mode": {
    "name": "ipython",
    "version": 3
   },
   "file_extension": ".py",
   "mimetype": "text/x-python",
   "name": "python",
   "nbconvert_exporter": "python",
   "pygments_lexer": "ipython3",
   "version": "3.8.5"
  }
 },
 "nbformat": 4,
 "nbformat_minor": 4
}
