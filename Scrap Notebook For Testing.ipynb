{
 "cells": [
  {
   "cell_type": "code",
   "execution_count": null,
   "metadata": {},
   "outputs": [],
   "source": [
    "#dependencies\n",
    "import pandas as pd"
   ]
  },
  {
   "cell_type": "code",
   "execution_count": null,
   "metadata": {},
   "outputs": [],
   "source": [
    "# Load in file\n",
    "AQI_2015 = \"Resources/AQI_2015.csv\"\n",
    "AQI_2016 = \"Resources/AQI_2016.csv\"\n",
    "AQI_2017 = \"Resources/AQI_2017.csv\"\n",
    "AQI_2018 = \"Resources/AQI_2018.csv\"\n",
    "AQI_2019 = \"Resources/AQI_2019.csv\"\n",
    "AQI_2020 = \"Resources/AQI_2020.csv\""
   ]
  },
  {
   "cell_type": "code",
   "execution_count": null,
   "metadata": {
    "scrolled": true
   },
   "outputs": [],
   "source": [
    "# Read and display the CSV with Pandas\n",
    "AQI_2015_df = pd.read_csv(AQI_2015)\n",
    "AQI_2016_df = pd.read_csv(AQI_2016)\n",
    "AQI_2017_df = pd.read_csv(AQI_2017)\n",
    "AQI_2018_df = pd.read_csv(AQI_2018)\n",
    "AQI_2019_df = pd.read_csv(AQI_2019)\n",
    "AQI_2020_df = pd.read_csv(AQI_2020)\n",
    "AQI_2020_df.head()"
   ]
  },
  {
   "cell_type": "code",
   "execution_count": null,
   "metadata": {},
   "outputs": [],
   "source": [
    "#Start by passing in a dictionary with lists\n",
    "GoodDays_2015 =\n",
    "#Create DF for No.Good Days 2015\n",
    "GoodDays_2015_df = \n",
    "\n"
   ]
  }
 ],
 "metadata": {
  "kernelspec": {
   "display_name": "Python 3",
   "language": "python",
   "name": "python3"
  },
  "language_info": {
   "codemirror_mode": {
    "name": "ipython",
    "version": 3
   },
   "file_extension": ".py",
   "mimetype": "text/x-python",
   "name": "python",
   "nbconvert_exporter": "python",
   "pygments_lexer": "ipython3",
   "version": "3.6.10"
  }
 },
 "nbformat": 4,
 "nbformat_minor": 4
}
