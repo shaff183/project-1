{
 "cells": [
  {
   "cell_type": "code",
   "execution_count": null,
   "metadata": {},
   "outputs": [],
   "source": [
    "#dependencies\n",
    "import pandas as pd"
   ]
  },
  {
   "cell_type": "code",
   "execution_count": null,
   "metadata": {},
   "outputs": [],
   "source": [
    "# Load in file\n",
    "AQI_2015 = \"Resources/AQI_2015.csv\"\n",
    "AQI_2016 = \"Resources/AQI_2016.csv\"\n",
    "AQI_2017 = \"Resources/AQI_2017.csv\"\n",
    "AQI_2018 = \"Resources/AQI_2018.csv\"\n",
    "AQI_2019 = \"Resources/AQI_2019.csv\"\n",
    "AQI_2020 = \"Resources/AQI_2020.csv\""
   ]
  },
  {
   "cell_type": "code",
   "execution_count": null,
   "metadata": {
    "scrolled": true
   },
   "outputs": [],
   "source": [
    "# Read and display the CSV with Pandas\n",
    "AQI_2015_df = pd.read_csv(AQI_2015)\n",
    "AQI_2016_df = pd.read_csv(AQI_2016)\n",
    "AQI_2017_df = pd.read_csv(AQI_2017)\n",
    "AQI_2018_df = pd.read_csv(AQI_2018)\n",
    "AQI_2019_df = pd.read_csv(AQI_2019)\n",
    "AQI_2020_df = pd.read_csv(AQI_2020)\n",
    "AQI_2020_df.head()"
   ]
  },
  {
   "cell_type": "code",
   "execution_count": null,
   "metadata": {},
   "outputs": [],
   "source": [
    "#Start by passing in a dictionary with lists\n",
    "GoodDays_2015 =\n",
    "#Create DF for No.Good Days 2015\n",
    "GoodDays_2015_df = \n",
    "\n"
   ]
  },
  {
   "cell_type": "code",
   "execution_count": 3,
   "metadata": {},
   "outputs": [],
   "source": [
    "## Testing with Horizontal Bar Chart\n",
    "\n",
    "#Create a dataframe \n",
    "#df = pd.DataFrame({'percentages': [81, 83, 82, 81, 85, 88]},\n",
    "#                  index=['2015', '2016', '2017', '2018', '2019', '2020']) \n",
    "                   \n",
    "#Plot grouped horizontal bar chart \n",
    "#df.plot.barh(title=\"Average Percentage of Good Days per Year\", \n",
    "#             color={\"coral\"}) \n",
    "\n",
    "#Set up other labels to include\n",
    "#plt.xlabel(\"Percentage out of 100%\")\n",
    "#plt.ylabel(\"Year\")\n",
    "\n",
    "# Sets the y limits of the current chart\n",
    "#plt.xlim(0, max(percentages)+12)\n",
    "\n",
    "# Sets the x limits of the current chart\n",
    "#plt.ylim(-0.75, len(x_axis)-0.25)\n"
   ]
  },
  {
   "cell_type": "code",
   "execution_count": 1,
   "metadata": {},
   "outputs": [],
   "source": [
    "##SCRATCH \n",
    "\n",
    "#ALCounty_2020_df = Alabama_2020_df.loc[Alabama_2020_df[\"County\"] == \"Jefferson\",:]\n",
    "#Calculate percentage of good days out of total days with aqi-\n",
    "#GoodDays_2020_df['Percent of Good Days'] = (GoodDays_2020_df['Good Days'] / GoodDays_2020_df['Days with AQI']) * 100\n",
    "#GoodDays_2020_df.head()\n",
    "\n",
    "\n",
    "#GoodDays_2020_df.groupby('State')[\"Good Days\"].sum()\n",
    "#California_2020_df = GoodDays_2020_df.loc[GoodDays_2020_df[\"State\"] == \"California\":]\n",
    "#California_2020_df\n",
    "\n",
    "\n",
    "#GoodDays_2020_df.groupby('State')[\"Good Days\"].sum()\n",
    "#California_2020_df = GoodDays_2020_df.loc[GoodDays_2020_df[\"State\"] == \"California\", ,:]\n",
    "#California_2020_df"
   ]
  },
  {
   "cell_type": "code",
   "execution_count": 2,
   "metadata": {},
   "outputs": [],
   "source": [
    "##Scratch 2\n",
    "\n",
    "#the top 5 most populus states are California, Texas, Florida, New York, & Illinois\n",
    "#Get the average amounts of those states and create a new df with them\n",
    "\n",
    "# States\n",
    "#states = ['California', 'Texas', 'Florida', 'New York', 'Illinois'] \n",
    "  \n",
    "# list of percents \n",
    "#avg_pcts2015 = [57.20, 78.60, 89.21, 84.38, 83.24] \n",
    "#avg_pcts2016 = [61.95, 85.81, 87.84, 87.84, 84.32] \n",
    "#avg_pcts2017 = [57.56, 83.39, 86.45, 90.02, 80.83] \n",
    "#avg_pcts2018 = [57.53, 80.51, 88.28, 88.02, 79.17] \n",
    "#avg_pcts2019 = [69.16, 81.13, 88.74, 91.89, 80.59] \n",
    "#avg_pcts2020 = [71.32, 82.62, 86.32, 91.39, 83.23] \n",
    "  \n",
    "# Create DF with both lists, with columns specified \n",
    "#top5_state_2015_df = pd.DataFrame(list(zip(states, avg_pcts2015)), \n",
    "           #    columns =['State', 'Percent of Good Days']) \n",
    "\n",
    "#top5_state_2016_df = pd.DataFrame(list(zip(states, avg_pcts2016)), \n",
    "             #  columns =['State', 'Percent of Good Days']) \n",
    "\n",
    "#top5_state_2017_df = pd.DataFrame(list(zip(states, avg_pcts2017)), \n",
    "              # columns =['State', 'Percent of Good Days']) \n",
    "\n",
    "#top5_state_2018_df = pd.DataFrame(list(zip(states, avg_pcts2018)), \n",
    "              # columns =['State', 'Percent of Good Days']) \n",
    "\n",
    "#top5_state_2019_df = pd.DataFrame(list(zip(states, avg_pcts2019)), \n",
    "              # columns =['State', 'Percent of Good Days']) \n",
    "\n",
    "#top5_state_2020_df = pd.DataFrame(list(zip(states, avg_pcts2020)), \n",
    "              # columns =['State', 'Percent of Good Days']) "
   ]
  },
  {
   "cell_type": "code",
   "execution_count": null,
   "metadata": {},
   "outputs": [],
   "source": []
  }
 ],
 "metadata": {
  "kernelspec": {
   "display_name": "Python 3",
   "language": "python",
   "name": "python3"
  },
  "language_info": {
   "codemirror_mode": {
    "name": "ipython",
    "version": 3
   },
   "file_extension": ".py",
   "mimetype": "text/x-python",
   "name": "python",
   "nbconvert_exporter": "python",
   "pygments_lexer": "ipython3",
   "version": "3.6.10"
  }
 },
 "nbformat": 4,
 "nbformat_minor": 4
}
